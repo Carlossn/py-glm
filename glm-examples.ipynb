{
 "cells": [
  {
   "cell_type": "code",
   "execution_count": 1,
   "metadata": {},
   "outputs": [
    {
     "name": "stderr",
     "output_type": "stream",
     "text": [
      "/Users/matthewdrury/anaconda/envs/py36/lib/python3.6/site-packages/matplotlib/__init__.py:913: UserWarning: axes.color_cycle is deprecated and replaced with axes.prop_cycle; please use the latter.\n",
      "  warnings.warn(self.msg_depr % (key, alt_key))\n",
      "/Users/matthewdrury/anaconda/envs/py36/lib/python3.6/site-packages/statsmodels/compat/pandas.py:56: FutureWarning: The pandas.core.datetools module is deprecated and will be removed in a future version. Please use the pandas.tseries module instead.\n",
      "  from pandas.core import datetools\n"
     ]
    }
   ],
   "source": [
    "import numpy as np\n",
    "from families import Gaussian, Bernoulli, Poisson, Gamma\n",
    "from glm import GLM\n",
    "from simulation import Simulation\n",
    "\n",
    "import statsmodels.api as sm\n",
    "import statsmodels"
   ]
  },
  {
   "cell_type": "code",
   "execution_count": 2,
   "metadata": {
    "collapsed": true
   },
   "outputs": [],
   "source": [
    "N = 100000\n",
    "X = np.empty(shape=(N, 3))\n",
    "X[:, 0] = 1.0\n",
    "X[:, 1] = np.random.uniform(size=N)\n",
    "X[:, 2] = np.random.uniform(size=N)\n",
    "nu = 1 - 2*X[:, 1] + X[:, 2]"
   ]
  },
  {
   "cell_type": "markdown",
   "metadata": {},
   "source": [
    "## Linear Model"
   ]
  },
  {
   "cell_type": "code",
   "execution_count": 3,
   "metadata": {},
   "outputs": [
    {
     "data": {
      "text/plain": [
       "<glm.GLM at 0x10631bda0>"
      ]
     },
     "execution_count": 3,
     "metadata": {},
     "output_type": "execute_result"
    }
   ],
   "source": [
    "y = nu + np.random.normal(size=N)\n",
    "model = GLM(family=Gaussian())\n",
    "model.fit(X, y)"
   ]
  },
  {
   "cell_type": "code",
   "execution_count": 4,
   "metadata": {},
   "outputs": [
    {
     "data": {
      "text/plain": [
       "array([ 0.99879289, -2.0006803 ,  1.00799456])"
      ]
     },
     "execution_count": 4,
     "metadata": {},
     "output_type": "execute_result"
    }
   ],
   "source": [
    "model.coef_"
   ]
  },
  {
   "cell_type": "code",
   "execution_count": 5,
   "metadata": {},
   "outputs": [
    {
     "data": {
      "text/plain": [
       "array([[  6.98622863e-05,  -5.96433071e-05,  -6.01284675e-05],\n",
       "       [ -5.96433071e-05,   1.19873946e-04,  -2.68603415e-07],\n",
       "       [ -6.01284675e-05,  -2.68603415e-07,   1.20270128e-04]])"
      ]
     },
     "execution_count": 5,
     "metadata": {},
     "output_type": "execute_result"
    }
   ],
   "source": [
    "model.coef_covariance_matrix_"
   ]
  },
  {
   "cell_type": "code",
   "execution_count": 6,
   "metadata": {},
   "outputs": [
    {
     "data": {
      "text/plain": [
       "array([ 0.00835837,  0.0109487 ,  0.01096677])"
      ]
     },
     "execution_count": 6,
     "metadata": {},
     "output_type": "execute_result"
    }
   ],
   "source": [
    "model.coef_standard_error_"
   ]
  },
  {
   "cell_type": "code",
   "execution_count": 7,
   "metadata": {},
   "outputs": [
    {
     "name": "stdout",
     "output_type": "stream",
     "text": [
      "                            OLS Regression Results                            \n",
      "==============================================================================\n",
      "Dep. Variable:                      y   R-squared:                       0.295\n",
      "Model:                            OLS   Adj. R-squared:                  0.295\n",
      "Method:                 Least Squares   F-statistic:                 2.088e+04\n",
      "Date:                Tue, 05 Sep 2017   Prob (F-statistic):               0.00\n",
      "Time:                        19:34:12   Log-Likelihood:            -1.4185e+05\n",
      "No. Observations:              100000   AIC:                         2.837e+05\n",
      "Df Residuals:                   99997   BIC:                         2.837e+05\n",
      "Df Model:                           2                                         \n",
      "Covariance Type:            nonrobust                                         \n",
      "==============================================================================\n",
      "                 coef    std err          t      P>|t|      [0.025      0.975]\n",
      "------------------------------------------------------------------------------\n",
      "const          0.9988      0.008    119.496      0.000       0.982       1.015\n",
      "x1            -2.0007      0.011   -182.732      0.000      -2.022      -1.979\n",
      "x2             1.0080      0.011     91.913      0.000       0.986       1.029\n",
      "==============================================================================\n",
      "Omnibus:                        2.846   Durbin-Watson:                   1.997\n",
      "Prob(Omnibus):                  0.241   Jarque-Bera (JB):                2.853\n",
      "Skew:                          -0.008   Prob(JB):                        0.240\n",
      "Kurtosis:                       3.021   Cond. No.                         5.29\n",
      "==============================================================================\n",
      "\n",
      "Warnings:\n",
      "[1] Standard Errors assume that the covariance matrix of the errors is correctly specified.\n"
     ]
    }
   ],
   "source": [
    "mod = sm.OLS(y, X)\n",
    "res = mod.fit()\n",
    "print(res.summary())"
   ]
  },
  {
   "cell_type": "markdown",
   "metadata": {},
   "source": [
    "## Run some simulations off the linear model."
   ]
  },
  {
   "cell_type": "code",
   "execution_count": 8,
   "metadata": {
    "collapsed": true
   },
   "outputs": [],
   "source": [
    "s = Simulation(model)"
   ]
  },
  {
   "cell_type": "code",
   "execution_count": 9,
   "metadata": {},
   "outputs": [
    {
     "data": {
      "text/plain": [
       "array([[-1.86504046,  1.268722  ,  1.53999177, ..., -0.51067277,\n",
       "         1.90442499, -1.29987712],\n",
       "       [ 0.96579938, -0.47960584,  2.4245509 , ..., -1.13740984,\n",
       "        -0.10624268, -1.8308379 ],\n",
       "       [ 2.53309493,  1.06991928, -1.11712062, ...,  0.10934364,\n",
       "         0.09572319,  0.21120789],\n",
       "       ..., \n",
       "       [ 0.30771164, -0.71776213, -0.19051014, ...,  0.59630497,\n",
       "         0.96939723, -1.41683503],\n",
       "       [ 1.68768969,  1.26198194,  1.61300238, ...,  0.25546412,\n",
       "         0.42073085, -1.65400626],\n",
       "       [ 1.61165583,  0.47313103, -2.31639835, ..., -1.21550653,\n",
       "        -0.95238056,  0.33516321]])"
      ]
     },
     "execution_count": 9,
     "metadata": {},
     "output_type": "execute_result"
    }
   ],
   "source": [
    "s.sample(X)"
   ]
  },
  {
   "cell_type": "code",
   "execution_count": 10,
   "metadata": {},
   "outputs": [
    {
     "name": "stdout",
     "output_type": "stream",
     "text": [
      "[ 0.99488002 -2.00089273  1.01513462]\n",
      "[ 0.99620916 -2.00329799  1.0082082 ]\n",
      "[ 1.00249626 -1.99777885  1.00764488]\n",
      "[ 0.99366779 -1.99661951  1.00683727]\n",
      "[ 1.00650234 -1.99690588  1.00180876]\n",
      "[ 0.99886632 -2.00427236  1.01953375]\n",
      "[ 0.98966245 -1.99059115  1.01128558]\n",
      "[ 1.00805518 -2.0139592   1.00451402]\n",
      "[ 0.98741245 -1.98724754  1.02018386]\n",
      "[ 1.00481417 -2.00466512  0.99973427]\n"
     ]
    }
   ],
   "source": [
    "models = s.parametric_bootstrap(X, n_sim=10)\n",
    "for model in models:\n",
    "    print(model.coef_)"
   ]
  },
  {
   "cell_type": "code",
   "execution_count": 11,
   "metadata": {},
   "outputs": [
    {
     "name": "stdout",
     "output_type": "stream",
     "text": [
      "[ 1.00410295 -2.01294251  1.01355806]\n",
      "[ 0.98230355 -1.99994868  1.03798303]\n",
      "[ 0.99167136 -1.9858469   1.01380217]\n",
      "[ 1.01730049 -2.02949226  1.00084181]\n",
      "[ 0.99837802 -1.99230047  0.98814525]\n",
      "[ 1.00178502 -2.00175986  1.00639589]\n",
      "[ 0.97841083 -1.98361612  1.03346434]\n",
      "[ 1.00041894 -2.00592022  1.01173244]\n",
      "[ 1.00953521 -1.99535887  0.99057444]\n",
      "[ 0.99693852 -2.00361248  1.01571625]\n"
     ]
    }
   ],
   "source": [
    "models = s.non_parametric_bootstrap(X, y, n_sim=10)\n",
    "for model in models:\n",
    "    print(model.coef_)"
   ]
  },
  {
   "cell_type": "markdown",
   "metadata": {},
   "source": [
    "## Linear Model with Sample Weights"
   ]
  },
  {
   "cell_type": "code",
   "execution_count": 12,
   "metadata": {
    "collapsed": true
   },
   "outputs": [],
   "source": [
    "sample_weights = np.random.uniform(0, 2, size=N)"
   ]
  },
  {
   "cell_type": "code",
   "execution_count": 13,
   "metadata": {
    "collapsed": true
   },
   "outputs": [],
   "source": [
    "model = GLM(family=Gaussian())\n",
    "model = model.fit(X, y, sample_weights=sample_weights)"
   ]
  },
  {
   "cell_type": "code",
   "execution_count": 14,
   "metadata": {},
   "outputs": [
    {
     "data": {
      "text/plain": [
       "array([ 0.99195655, -2.00022866,  1.01954062])"
      ]
     },
     "execution_count": 14,
     "metadata": {},
     "output_type": "execute_result"
    }
   ],
   "source": [
    "model.coef_"
   ]
  },
  {
   "cell_type": "markdown",
   "metadata": {},
   "source": [
    "## Logistic Model"
   ]
  },
  {
   "cell_type": "code",
   "execution_count": 15,
   "metadata": {
    "collapsed": true
   },
   "outputs": [],
   "source": [
    "p = 1 / (1 + np.exp(-nu))\n",
    "y_logistic = np.random.binomial(1, p=p, size=N)"
   ]
  },
  {
   "cell_type": "code",
   "execution_count": 16,
   "metadata": {},
   "outputs": [
    {
     "data": {
      "text/plain": [
       "<glm.GLM at 0x10633d940>"
      ]
     },
     "execution_count": 16,
     "metadata": {},
     "output_type": "execute_result"
    }
   ],
   "source": [
    "model = GLM(family=Bernoulli())\n",
    "model.fit(X, y_logistic)"
   ]
  },
  {
   "cell_type": "code",
   "execution_count": 17,
   "metadata": {},
   "outputs": [
    {
     "data": {
      "text/plain": [
       "array([ 1.01395362, -2.00799614,  0.96839904])"
      ]
     },
     "execution_count": 17,
     "metadata": {},
     "output_type": "execute_result"
    }
   ],
   "source": [
    "model.coef_"
   ]
  },
  {
   "cell_type": "code",
   "execution_count": 18,
   "metadata": {},
   "outputs": [
    {
     "data": {
      "text/plain": [
       "array(1.0)"
      ]
     },
     "execution_count": 18,
     "metadata": {},
     "output_type": "execute_result"
    }
   ],
   "source": [
    "model.dispersion_"
   ]
  },
  {
   "cell_type": "code",
   "execution_count": 19,
   "metadata": {},
   "outputs": [
    {
     "data": {
      "text/plain": [
       "array([[  3.26777752e-04,  -2.96457948e-04,  -2.52311438e-04],\n",
       "       [ -2.96457948e-04,   5.93970379e-04,  -4.18834585e-05],\n",
       "       [ -2.52311438e-04,  -4.18834585e-05,   5.65291004e-04]])"
      ]
     },
     "execution_count": 19,
     "metadata": {},
     "output_type": "execute_result"
    }
   ],
   "source": [
    "model.coef_covariance_matrix_"
   ]
  },
  {
   "cell_type": "code",
   "execution_count": 20,
   "metadata": {},
   "outputs": [
    {
     "data": {
      "text/plain": [
       "array([ 0.018077  ,  0.02437151,  0.02377585])"
      ]
     },
     "execution_count": 20,
     "metadata": {},
     "output_type": "execute_result"
    }
   ],
   "source": [
    "model.coef_standard_error_"
   ]
  },
  {
   "cell_type": "code",
   "execution_count": 21,
   "metadata": {},
   "outputs": [
    {
     "name": "stdout",
     "output_type": "stream",
     "text": [
      "Optimization terminated successfully.\n",
      "         Current function value: 0.623754\n",
      "         Iterations 5\n",
      "                           Logit Regression Results                           \n",
      "==============================================================================\n",
      "Dep. Variable:                      y   No. Observations:               100000\n",
      "Model:                          Logit   Df Residuals:                    99997\n",
      "Method:                           MLE   Df Model:                            2\n",
      "Date:                Tue, 05 Sep 2017   Pseudo R-squ.:                 0.06631\n",
      "Time:                        19:34:13   Log-Likelihood:                -62375.\n",
      "converged:                       True   LL-Null:                       -66805.\n",
      "                                        LLR p-value:                     0.000\n",
      "==============================================================================\n",
      "                 coef    std err          z      P>|z|      [0.025      0.975]\n",
      "------------------------------------------------------------------------------\n",
      "const          1.0140      0.018     56.091      0.000       0.979       1.049\n",
      "x1            -2.0080      0.024    -82.391      0.000      -2.056      -1.960\n",
      "x2             0.9684      0.024     40.730      0.000       0.922       1.015\n",
      "==============================================================================\n"
     ]
    }
   ],
   "source": [
    "mod = sm.Logit(y_logistic, X)\n",
    "res = mod.fit()\n",
    "print(res.summary())"
   ]
  },
  {
   "cell_type": "code",
   "execution_count": 23,
   "metadata": {
    "collapsed": true
   },
   "outputs": [],
   "source": [
    "s = Simulation(model)"
   ]
  },
  {
   "cell_type": "code",
   "execution_count": 24,
   "metadata": {},
   "outputs": [
    {
     "data": {
      "text/plain": [
       "array([[ 1.,  0.,  1., ...,  1.,  0.,  0.],\n",
       "       [ 1.,  0.,  1., ...,  1.,  0.,  0.],\n",
       "       [ 0.,  0.,  0., ...,  1.,  1.,  1.],\n",
       "       ..., \n",
       "       [ 1.,  1.,  0., ...,  1.,  0.,  1.],\n",
       "       [ 1.,  1.,  0., ...,  1.,  0.,  1.],\n",
       "       [ 1.,  0.,  0., ...,  1.,  0.,  0.]])"
      ]
     },
     "execution_count": 24,
     "metadata": {},
     "output_type": "execute_result"
    }
   ],
   "source": [
    "s.sample(X, n_sim=10)"
   ]
  },
  {
   "cell_type": "code",
   "execution_count": 25,
   "metadata": {},
   "outputs": [
    {
     "name": "stdout",
     "output_type": "stream",
     "text": [
      "[ 1.00960588 -1.97087014  0.94616847]\n",
      "[ 1.01616533 -2.0104736   0.95113261]\n",
      "[ 1.02293234 -2.00259354  0.96428846]\n",
      "[ 1.02402486 -2.01245256  0.96062698]\n",
      "[ 1.02260423 -1.99837106  0.95870786]\n",
      "[ 1.00838693 -1.98475785  0.9324539 ]\n",
      "[ 1.02212694 -2.02612229  0.95564776]\n",
      "[ 1.02512909 -1.99714821  0.91613927]\n",
      "[ 1.03128252 -2.02739264  0.94351845]\n",
      "[ 1.01032915 -2.02339032  0.98839962]\n"
     ]
    }
   ],
   "source": [
    "for model in s.parametric_bootstrap(X, n_sim=10):\n",
    "    print(model.coef_)"
   ]
  },
  {
   "cell_type": "code",
   "execution_count": 26,
   "metadata": {},
   "outputs": [
    {
     "name": "stdout",
     "output_type": "stream",
     "text": [
      "[ 1.0070959  -1.99626151  0.95368044]\n",
      "[ 1.03095129 -2.05785138  1.00043045]\n",
      "[ 1.00865451 -2.00285686  0.98909679]\n",
      "[ 1.02561903 -2.00117068  0.93433024]\n",
      "[ 1.0115736  -2.00501628  0.99013534]\n",
      "[ 1.01166112 -2.03337738  0.98102854]\n",
      "[ 0.99644654 -1.997615    0.96426644]\n",
      "[ 0.99481866 -2.02052266  1.00463488]\n",
      "[ 1.03150949 -2.02061731  0.93648404]\n",
      "[ 1.00154885 -1.98672047  0.96689192]\n"
     ]
    }
   ],
   "source": [
    "for model in s.non_parametric_bootstrap(X, y_logistic, n_sim=10):\n",
    "    print(model.coef_)"
   ]
  },
  {
   "cell_type": "markdown",
   "metadata": {},
   "source": [
    "## Poission Model"
   ]
  },
  {
   "cell_type": "code",
   "execution_count": 27,
   "metadata": {
    "collapsed": true
   },
   "outputs": [],
   "source": [
    "mu = np.exp(nu)\n",
    "y_poisson = np.random.poisson(lam=mu, size=N)"
   ]
  },
  {
   "cell_type": "code",
   "execution_count": 28,
   "metadata": {},
   "outputs": [
    {
     "data": {
      "text/plain": [
       "<glm.GLM at 0x114f18da0>"
      ]
     },
     "execution_count": 28,
     "metadata": {},
     "output_type": "execute_result"
    }
   ],
   "source": [
    "model = GLM(family=Poisson())\n",
    "model.fit(X, y_poisson)"
   ]
  },
  {
   "cell_type": "code",
   "execution_count": 29,
   "metadata": {},
   "outputs": [
    {
     "data": {
      "text/plain": [
       "array([ 0.99938609, -1.98312159,  0.99121718])"
      ]
     },
     "execution_count": 29,
     "metadata": {},
     "output_type": "execute_result"
    }
   ],
   "source": [
    "model.coef_"
   ]
  },
  {
   "cell_type": "code",
   "execution_count": 30,
   "metadata": {},
   "outputs": [
    {
     "data": {
      "text/plain": [
       "array([[  3.44330154e-05,  -2.45732287e-05,  -3.61748057e-05],\n",
       "       [ -2.45732287e-05,   7.16960402e-05,  -1.43190520e-07],\n",
       "       [ -3.61748057e-05,  -1.43190520e-07,   6.22668923e-05]])"
      ]
     },
     "execution_count": 30,
     "metadata": {},
     "output_type": "execute_result"
    }
   ],
   "source": [
    "model.coef_covariance_matrix_"
   ]
  },
  {
   "cell_type": "code",
   "execution_count": 31,
   "metadata": {},
   "outputs": [
    {
     "data": {
      "text/plain": [
       "array([ 0.00586797,  0.00846735,  0.00789094])"
      ]
     },
     "execution_count": 31,
     "metadata": {},
     "output_type": "execute_result"
    }
   ],
   "source": [
    "model.coef_standard_error_"
   ]
  },
  {
   "cell_type": "code",
   "execution_count": 32,
   "metadata": {},
   "outputs": [
    {
     "name": "stdout",
     "output_type": "stream",
     "text": [
      "Optimization terminated successfully.\n",
      "         Current function value: 1.595348\n",
      "         Iterations 7\n",
      "                          Poisson Regression Results                          \n",
      "==============================================================================\n",
      "Dep. Variable:                      y   No. Observations:               100000\n",
      "Model:                        Poisson   Df Residuals:                    99997\n",
      "Method:                           MLE   Df Model:                            2\n",
      "Date:                Tue, 05 Sep 2017   Pseudo R-squ.:                  0.1929\n",
      "Time:                        19:34:14   Log-Likelihood:            -1.5953e+05\n",
      "converged:                       True   LL-Null:                   -1.9767e+05\n",
      "                                        LLR p-value:                     0.000\n",
      "==============================================================================\n",
      "                 coef    std err          z      P>|z|      [0.025      0.975]\n",
      "------------------------------------------------------------------------------\n",
      "const          0.9994      0.006    170.312      0.000       0.988       1.011\n",
      "x1            -1.9831      0.008   -234.207      0.000      -2.000      -1.967\n",
      "x2             0.9912      0.008    125.614      0.000       0.976       1.007\n",
      "==============================================================================\n"
     ]
    }
   ],
   "source": [
    "mod = statsmodels.discrete.discrete_model.Poisson(y_poisson, X)\n",
    "res = mod.fit()\n",
    "print(res.summary())"
   ]
  },
  {
   "cell_type": "code",
   "execution_count": 33,
   "metadata": {
    "collapsed": true
   },
   "outputs": [],
   "source": [
    "s = Simulation(model)"
   ]
  },
  {
   "cell_type": "code",
   "execution_count": 34,
   "metadata": {},
   "outputs": [
    {
     "data": {
      "text/plain": [
       "array([[ 2.,  1.,  3., ...,  1.,  0.,  0.],\n",
       "       [ 0.,  2.,  2., ...,  1.,  2.,  0.],\n",
       "       [ 5.,  0.,  0., ...,  2.,  3.,  0.],\n",
       "       ..., \n",
       "       [ 2.,  1.,  2., ...,  1.,  0.,  0.],\n",
       "       [ 7.,  2.,  4., ...,  3.,  1.,  0.],\n",
       "       [ 2.,  0.,  1., ...,  1.,  1.,  1.]])"
      ]
     },
     "execution_count": 34,
     "metadata": {},
     "output_type": "execute_result"
    }
   ],
   "source": [
    "s.sample(X, n_sim=10)"
   ]
  },
  {
   "cell_type": "code",
   "execution_count": 35,
   "metadata": {},
   "outputs": [
    {
     "name": "stdout",
     "output_type": "stream",
     "text": [
      "[ 0.99981137 -1.99182929  0.99500856]\n",
      "[ 0.98985653 -1.96167654  0.99367047]\n",
      "[ 1.00385177 -1.99341872  0.99072473]\n",
      "[ 1.00123208 -1.98107621  0.98271712]\n",
      "[ 0.99292567 -1.97883574  1.00215413]\n",
      "[ 0.99554454 -1.98391779  0.99916083]\n",
      "[ 0.99838322 -1.98039752  0.99462776]\n",
      "[ 1.00226912 -1.9775594   0.98646307]\n",
      "[ 0.99215367 -1.97849685  0.99796345]\n",
      "[ 1.00284333 -1.98435301  0.98785066]\n"
     ]
    }
   ],
   "source": [
    "for model in s.parametric_bootstrap(X, n_sim=10):\n",
    "    print(model.coef_)"
   ]
  },
  {
   "cell_type": "code",
   "execution_count": 36,
   "metadata": {},
   "outputs": [
    {
     "name": "stdout",
     "output_type": "stream",
     "text": [
      "[ 1.00082602 -1.99769068  0.99711697]\n",
      "[ 1.00338357 -1.98280846  0.98449723]\n",
      "[ 1.00098418 -1.98928944  0.99216284]\n",
      "[ 0.9943823  -1.97222515  0.99382093]\n",
      "[ 0.9890319  -1.97326068  1.00179367]\n",
      "[ 0.99663205 -1.96882272  0.98855223]\n",
      "[ 0.9964418  -1.99275927  1.00403642]\n",
      "[ 1.00206384 -1.98658403  0.98754328]\n",
      "[ 0.99643907 -1.97224465  0.99079267]\n",
      "[ 0.99527552 -1.97440865  0.99163657]\n"
     ]
    }
   ],
   "source": [
    "for model in s.non_parametric_bootstrap(X, y_poisson, n_sim=10):\n",
    "    print(model.coef_)"
   ]
  },
  {
   "cell_type": "markdown",
   "metadata": {},
   "source": [
    "## Poisson with Exposures"
   ]
  },
  {
   "cell_type": "code",
   "execution_count": 51,
   "metadata": {
    "collapsed": true
   },
   "outputs": [],
   "source": [
    "mu = np.exp(nu)\n",
    "expos = np.random.uniform(0, 10, size=N)\n",
    "y_poisson = np.random.poisson(lam=(mu*expos), size=N)"
   ]
  },
  {
   "cell_type": "code",
   "execution_count": 52,
   "metadata": {},
   "outputs": [
    {
     "data": {
      "text/plain": [
       "<glm.GLM at 0x114f30dd8>"
      ]
     },
     "execution_count": 52,
     "metadata": {},
     "output_type": "execute_result"
    }
   ],
   "source": [
    "model = GLM(family=Poisson())\n",
    "model.fit(X, y_poisson, offset=np.log(expos))"
   ]
  },
  {
   "cell_type": "code",
   "execution_count": 53,
   "metadata": {},
   "outputs": [
    {
     "data": {
      "text/plain": [
       "array([ 0.94549036, -2.05368311,  1.17130459])"
      ]
     },
     "execution_count": 53,
     "metadata": {},
     "output_type": "execute_result"
    }
   ],
   "source": [
    "model.coef_"
   ]
  },
  {
   "cell_type": "code",
   "execution_count": 54,
   "metadata": {},
   "outputs": [
    {
     "data": {
      "text/plain": [
       "array([ 0.0636085 ,  0.14539115,  0.1422076 ])"
      ]
     },
     "execution_count": 54,
     "metadata": {},
     "output_type": "execute_result"
    }
   ],
   "source": [
    "model.coef_standard_error_"
   ]
  },
  {
   "cell_type": "markdown",
   "metadata": {},
   "source": [
    "## Gamma Regression"
   ]
  },
  {
   "cell_type": "code",
   "execution_count": 40,
   "metadata": {},
   "outputs": [],
   "source": [
    "mu = np.exp(nu)\n",
    "y_exponential = np.random.exponential(scale=mu, size=N)"
   ]
  },
  {
   "cell_type": "code",
   "execution_count": 41,
   "metadata": {},
   "outputs": [
    {
     "data": {
      "text/plain": [
       "<glm.GLM at 0x114f30da0>"
      ]
     },
     "execution_count": 41,
     "metadata": {},
     "output_type": "execute_result"
    }
   ],
   "source": [
    "gamma_model = GLM(family=Gamma())\n",
    "gamma_model.fit(X, y_exponential)"
   ]
  },
  {
   "cell_type": "code",
   "execution_count": 42,
   "metadata": {},
   "outputs": [
    {
     "data": {
      "text/plain": [
       "array([ 0.99342965, -1.98862812,  1.00559296])"
      ]
     },
     "execution_count": 42,
     "metadata": {},
     "output_type": "execute_result"
    }
   ],
   "source": [
    "gamma_model.coef_"
   ]
  },
  {
   "cell_type": "code",
   "execution_count": 43,
   "metadata": {},
   "outputs": [
    {
     "data": {
      "text/plain": [
       "array([ 0.00896591,  0.01174452,  0.01176391])"
      ]
     },
     "execution_count": 43,
     "metadata": {},
     "output_type": "execute_result"
    }
   ],
   "source": [
    "gamma_model.coef_standard_error_"
   ]
  },
  {
   "cell_type": "code",
   "execution_count": 44,
   "metadata": {},
   "outputs": [
    {
     "name": "stdout",
     "output_type": "stream",
     "text": [
      "                 Generalized Linear Model Regression Results                  \n",
      "==============================================================================\n",
      "Dep. Variable:                      y   No. Observations:               100000\n",
      "Model:                            GLM   Df Residuals:                    99997\n",
      "Model Family:                   Gamma   Df Model:                            2\n",
      "Link Function:                    log   Scale:                  0.992735330716\n",
      "Method:                          IRLS   Log-Likelihood:            -1.5056e+05\n",
      "Date:                Tue, 05 Sep 2017   Deviance:                   1.1497e+05\n",
      "Time:                        19:34:16   Pearson chi2:                 9.93e+04\n",
      "No. Iterations:                     6                                         \n",
      "==============================================================================\n",
      "                 coef    std err          z      P>|z|      [0.025      0.975]\n",
      "------------------------------------------------------------------------------\n",
      "const          0.9934      0.008    119.240      0.000       0.977       1.010\n",
      "x1            -1.9886      0.011   -182.221      0.000      -2.010      -1.967\n",
      "x2             1.0056      0.011     91.992      0.000       0.984       1.027\n",
      "==============================================================================\n"
     ]
    }
   ],
   "source": [
    "gamma_model = sm.GLM(y_exponential, X, \n",
    "                     family=sm.families.Gamma(\n",
    "                         link=statsmodels.genmod.families.links.log))\n",
    "res = gamma_model.fit()\n",
    "print(res.summary())"
   ]
  },
  {
   "cell_type": "markdown",
   "metadata": {},
   "source": [
    "## Linear Model with Correlated Predictors"
   ]
  },
  {
   "cell_type": "code",
   "execution_count": 79,
   "metadata": {
    "collapsed": true
   },
   "outputs": [],
   "source": [
    "N = 1000\n",
    "X = np.empty(shape=(N, 3))\n",
    "X[:, 0] = 1.0\n",
    "X[:, 1] = np.random.uniform(size=N)\n",
    "X[:, 2] = 0.5*X[:, 1] + np.random.uniform(-0.5, 0.5, size=N)\n",
    "nu = 1 - 2*X[:, 1] + X[:, 2]"
   ]
  },
  {
   "cell_type": "code",
   "execution_count": 80,
   "metadata": {},
   "outputs": [
    {
     "data": {
      "text/plain": [
       "<glm.GLM at 0x114f43a90>"
      ]
     },
     "execution_count": 80,
     "metadata": {},
     "output_type": "execute_result"
    }
   ],
   "source": [
    "y = nu + np.random.normal(size=N)\n",
    "model = GLM(family=Gaussian())\n",
    "model.fit(X, y)"
   ]
  },
  {
   "cell_type": "code",
   "execution_count": 81,
   "metadata": {},
   "outputs": [
    {
     "data": {
      "text/plain": [
       "array([ 1.15561589, -2.28683053,  0.96661721])"
      ]
     },
     "execution_count": 81,
     "metadata": {},
     "output_type": "execute_result"
    }
   ],
   "source": [
    "model.coef_"
   ]
  },
  {
   "cell_type": "code",
   "execution_count": 82,
   "metadata": {},
   "outputs": [
    {
     "data": {
      "text/plain": [
       "array([[  4.29008369e-03,  -6.45504312e-03,   3.82777815e-05],\n",
       "       [ -6.45504312e-03,   1.61829393e-02,  -6.75995573e-03],\n",
       "       [  3.82777815e-05,  -6.75995573e-03,   1.36322739e-02]])"
      ]
     },
     "execution_count": 82,
     "metadata": {},
     "output_type": "execute_result"
    }
   ],
   "source": [
    "model.coef_covariance_matrix_"
   ]
  },
  {
   "cell_type": "code",
   "execution_count": 83,
   "metadata": {},
   "outputs": [
    {
     "data": {
      "text/plain": [
       "array([ 0.06549873,  0.12721218,  0.11675733])"
      ]
     },
     "execution_count": 83,
     "metadata": {},
     "output_type": "execute_result"
    }
   ],
   "source": [
    "model.coef_standard_error_"
   ]
  },
  {
   "cell_type": "code",
   "execution_count": 84,
   "metadata": {},
   "outputs": [
    {
     "name": "stdout",
     "output_type": "stream",
     "text": [
      "                            OLS Regression Results                            \n",
      "==============================================================================\n",
      "Dep. Variable:                      y   R-squared:                       0.245\n",
      "Model:                            OLS   Adj. R-squared:                  0.243\n",
      "Method:                 Least Squares   F-statistic:                     161.6\n",
      "Date:                Tue, 05 Sep 2017   Prob (F-statistic):           1.64e-61\n",
      "Time:                        19:41:08   Log-Likelihood:                -1447.3\n",
      "No. Observations:                1000   AIC:                             2901.\n",
      "Df Residuals:                     997   BIC:                             2915.\n",
      "Df Model:                           2                                         \n",
      "Covariance Type:            nonrobust                                         \n",
      "==============================================================================\n",
      "                 coef    std err          t      P>|t|      [0.025      0.975]\n",
      "------------------------------------------------------------------------------\n",
      "const          1.1556      0.065     17.643      0.000       1.027       1.284\n",
      "x1            -2.2868      0.127    -17.977      0.000      -2.536      -2.037\n",
      "x2             0.9666      0.117      8.279      0.000       0.737       1.196\n",
      "==============================================================================\n",
      "Omnibus:                        1.105   Durbin-Watson:                   1.902\n",
      "Prob(Omnibus):                  0.576   Jarque-Bera (JB):                1.074\n",
      "Skew:                           0.080   Prob(JB):                        0.584\n",
      "Kurtosis:                       3.003   Cond. No.                         5.42\n",
      "==============================================================================\n",
      "\n",
      "Warnings:\n",
      "[1] Standard Errors assume that the covariance matrix of the errors is correctly specified.\n"
     ]
    }
   ],
   "source": [
    "mod = sm.OLS(y, X)\n",
    "res = mod.fit()\n",
    "print(res.summary())"
   ]
  },
  {
   "cell_type": "code",
   "execution_count": null,
   "metadata": {
    "collapsed": true
   },
   "outputs": [],
   "source": []
  }
 ],
 "metadata": {
  "kernelspec": {
   "display_name": "Python 3",
   "language": "python",
   "name": "python3"
  },
  "language_info": {
   "codemirror_mode": {
    "name": "ipython",
    "version": 3
   },
   "file_extension": ".py",
   "mimetype": "text/x-python",
   "name": "python",
   "nbconvert_exporter": "python",
   "pygments_lexer": "ipython3",
   "version": "3.6.1"
  }
 },
 "nbformat": 4,
 "nbformat_minor": 2
}
