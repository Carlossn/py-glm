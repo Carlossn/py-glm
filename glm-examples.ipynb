{
 "cells": [
  {
   "cell_type": "code",
   "execution_count": 58,
   "metadata": {},
   "outputs": [],
   "source": [
    "import numpy as np\n",
    "from families import Gaussian, Bernoulli, Poisson\n",
    "from glm import GLM\n",
    "from simulation import Simulation\n",
    "\n",
    "import statsmodels.api as sm\n",
    "import statsmodels"
   ]
  },
  {
   "cell_type": "code",
   "execution_count": 59,
   "metadata": {
    "collapsed": true
   },
   "outputs": [],
   "source": [
    "N = 10000\n",
    "X = np.empty(shape=(N, 3))\n",
    "X[:, 0] = 1.0\n",
    "X[:, 1] = np.random.uniform(size=N)\n",
    "X[:, 2] = np.random.uniform(size=N)\n",
    "nu = 1 - 2*X[:, 1] + X[:, 2]"
   ]
  },
  {
   "cell_type": "markdown",
   "metadata": {},
   "source": [
    "## Linear Model"
   ]
  },
  {
   "cell_type": "code",
   "execution_count": 60,
   "metadata": {},
   "outputs": [
    {
     "data": {
      "text/plain": [
       "<glm.GLM at 0x11d048828>"
      ]
     },
     "execution_count": 60,
     "metadata": {},
     "output_type": "execute_result"
    }
   ],
   "source": [
    "y = nu + np.random.normal(size=N)\n",
    "model = GLM(family=Gaussian())\n",
    "model.fit(X, y)"
   ]
  },
  {
   "cell_type": "code",
   "execution_count": 61,
   "metadata": {},
   "outputs": [
    {
     "data": {
      "text/plain": [
       "array([ 0.99012575, -2.03050689,  1.03338721])"
      ]
     },
     "execution_count": 61,
     "metadata": {},
     "output_type": "execute_result"
    }
   ],
   "source": [
    "model.coef_"
   ]
  },
  {
   "cell_type": "code",
   "execution_count": 62,
   "metadata": {},
   "outputs": [
    {
     "data": {
      "text/plain": [
       "array([[  6.61568782e-04,  -5.59391251e-04,  -5.71045192e-04],\n",
       "       [ -5.59391251e-04,   1.14025367e-03,  -1.51522322e-05],\n",
       "       [ -5.71045192e-04,  -1.51522322e-05,   1.15266436e-03]])"
      ]
     },
     "execution_count": 62,
     "metadata": {},
     "output_type": "execute_result"
    }
   ],
   "source": [
    "model.coef_covariance_matrix_"
   ]
  },
  {
   "cell_type": "code",
   "execution_count": 63,
   "metadata": {},
   "outputs": [
    {
     "data": {
      "text/plain": [
       "array([ 0.02572098,  0.03376764,  0.03395091])"
      ]
     },
     "execution_count": 63,
     "metadata": {},
     "output_type": "execute_result"
    }
   ],
   "source": [
    "model.coef_standard_error_"
   ]
  },
  {
   "cell_type": "code",
   "execution_count": 64,
   "metadata": {},
   "outputs": [
    {
     "name": "stdout",
     "output_type": "stream",
     "text": [
      "                            OLS Regression Results                            \n",
      "==============================================================================\n",
      "Dep. Variable:                      y   R-squared:                       0.310\n",
      "Model:                            OLS   Adj. R-squared:                  0.310\n",
      "Method:                 Least Squares   F-statistic:                     2247.\n",
      "Date:                Thu, 31 Aug 2017   Prob (F-statistic):               0.00\n",
      "Time:                        20:32:24   Log-Likelihood:                -14024.\n",
      "No. Observations:               10000   AIC:                         2.805e+04\n",
      "Df Residuals:                    9997   BIC:                         2.808e+04\n",
      "Df Model:                           2                                         \n",
      "Covariance Type:            nonrobust                                         \n",
      "==============================================================================\n",
      "                 coef    std err          t      P>|t|      [0.025      0.975]\n",
      "------------------------------------------------------------------------------\n",
      "const          0.9901      0.026     38.495      0.000       0.940       1.041\n",
      "x1            -2.0305      0.034    -60.132      0.000      -2.097      -1.964\n",
      "x2             1.0334      0.034     30.438      0.000       0.967       1.100\n",
      "==============================================================================\n",
      "Omnibus:                        0.099   Durbin-Watson:                   2.003\n",
      "Prob(Omnibus):                  0.952   Jarque-Bera (JB):                0.083\n",
      "Skew:                           0.005   Prob(JB):                        0.959\n",
      "Kurtosis:                       3.010   Cond. No.                         5.23\n",
      "==============================================================================\n",
      "\n",
      "Warnings:\n",
      "[1] Standard Errors assume that the covariance matrix of the errors is correctly specified.\n"
     ]
    }
   ],
   "source": [
    "mod = sm.OLS(y, X)\n",
    "res = mod.fit()\n",
    "print(res.summary())"
   ]
  },
  {
   "cell_type": "markdown",
   "metadata": {},
   "source": [
    "## Run some simulations off the linear model."
   ]
  },
  {
   "cell_type": "code",
   "execution_count": 65,
   "metadata": {
    "collapsed": true
   },
   "outputs": [],
   "source": [
    "s = Simulation(model)"
   ]
  },
  {
   "cell_type": "code",
   "execution_count": 66,
   "metadata": {},
   "outputs": [
    {
     "data": {
      "text/plain": [
       "array([[ 1.0169067 ,  2.30358981,  1.25405858, ...,  0.6578417 ,\n",
       "         0.97077118,  0.71437614],\n",
       "       [ 0.23039934,  2.93839439,  0.65908541, ...,  1.21655112,\n",
       "        -0.12994446, -0.28533433],\n",
       "       [ 0.48423457,  3.88413237,  0.89324821, ...,  3.63291064,\n",
       "        -0.96303421, -1.38667515],\n",
       "       ..., \n",
       "       [ 0.91443084,  1.13149329,  1.23269333, ...,  1.2619434 ,\n",
       "        -0.84411013, -0.9672626 ],\n",
       "       [ 1.68811327,  0.9060831 ,  3.05975441, ...,  2.49456912,\n",
       "         1.29999224, -0.10753916],\n",
       "       [-0.66257397,  1.68117595,  0.64238738, ...,  3.65992798,\n",
       "         0.92680093,  0.38102131]])"
      ]
     },
     "execution_count": 66,
     "metadata": {},
     "output_type": "execute_result"
    }
   ],
   "source": [
    "s.sample(X)"
   ]
  },
  {
   "cell_type": "code",
   "execution_count": 67,
   "metadata": {},
   "outputs": [
    {
     "name": "stdout",
     "output_type": "stream",
     "text": [
      "[ 0.97576049 -2.0365819   1.05271293]\n",
      "[ 0.98565861 -2.02946046  1.04894415]\n",
      "[ 0.98585588 -2.0160375   1.04578312]\n",
      "[ 0.98883412 -2.0306613   1.01416709]\n",
      "[ 0.98441635 -1.9888065   1.03089003]\n",
      "[ 0.96040388 -2.01517418  1.07194308]\n",
      "[ 0.99841736 -2.00246023  1.01234271]\n",
      "[ 0.97826631 -2.04919359  1.07699907]\n",
      "[ 0.9762117  -1.99203309  1.02651406]\n",
      "[ 1.0052343  -1.97449567  0.95116409]\n"
     ]
    }
   ],
   "source": [
    "models = s.parametric_bootstrap(X, n_sim=10)\n",
    "for model in models:\n",
    "    print(model.coef_)"
   ]
  },
  {
   "cell_type": "code",
   "execution_count": 68,
   "metadata": {},
   "outputs": [
    {
     "name": "stdout",
     "output_type": "stream",
     "text": [
      "[ 0.93847765 -1.95989564  1.05760751]\n",
      "[ 1.02351551 -2.07241499  1.02093914]\n",
      "[ 0.99429092 -2.04613155  1.05253188]\n",
      "[ 1.01835538 -2.07177749  0.99182212]\n",
      "[ 0.98575099 -2.05043034  1.04260073]\n",
      "[ 1.0012661  -2.03359687  1.06290603]\n",
      "[ 0.94279831 -2.04666513  1.13509242]\n",
      "[ 1.021483   -2.0483463   0.98419557]\n",
      "[ 0.98585365 -2.01262255  1.01915351]\n",
      "[ 0.95476329 -2.05900235  1.13193697]\n"
     ]
    }
   ],
   "source": [
    "models = s.non_parametric_bootstrap(X, y, n_sim=10)\n",
    "for model in models:\n",
    "    print(model.coef_)"
   ]
  },
  {
   "cell_type": "markdown",
   "metadata": {},
   "source": [
    "## Linear Model with Sample Weights"
   ]
  },
  {
   "cell_type": "code",
   "execution_count": 69,
   "metadata": {
    "collapsed": true
   },
   "outputs": [],
   "source": [
    "sample_weights = np.random.uniform(0, 2, size=N)"
   ]
  },
  {
   "cell_type": "code",
   "execution_count": 70,
   "metadata": {
    "collapsed": true
   },
   "outputs": [],
   "source": [
    "model = GLM(family=Gaussian())\n",
    "model = model.fit(X, y, sample_weights=sample_weights)"
   ]
  },
  {
   "cell_type": "code",
   "execution_count": 71,
   "metadata": {},
   "outputs": [
    {
     "data": {
      "text/plain": [
       "array([ 0.97727694, -2.01428371,  1.03092396])"
      ]
     },
     "execution_count": 71,
     "metadata": {},
     "output_type": "execute_result"
    }
   ],
   "source": [
    "model.coef_"
   ]
  },
  {
   "cell_type": "markdown",
   "metadata": {},
   "source": [
    "## Logistic Model"
   ]
  },
  {
   "cell_type": "code",
   "execution_count": 72,
   "metadata": {
    "collapsed": true
   },
   "outputs": [],
   "source": [
    "p = 1 / (1 + np.exp(-nu))\n",
    "y_logistic = np.random.binomial(1, p=p, size=N)"
   ]
  },
  {
   "cell_type": "code",
   "execution_count": 73,
   "metadata": {},
   "outputs": [
    {
     "data": {
      "text/plain": [
       "<glm.GLM at 0x11d04c748>"
      ]
     },
     "execution_count": 73,
     "metadata": {},
     "output_type": "execute_result"
    }
   ],
   "source": [
    "model = GLM(family=Bernoulli())\n",
    "model.fit(X, y_logistic)"
   ]
  },
  {
   "cell_type": "code",
   "execution_count": 74,
   "metadata": {},
   "outputs": [
    {
     "data": {
      "text/plain": [
       "array([ 0.9557087 , -1.98396942,  0.95348685])"
      ]
     },
     "execution_count": 74,
     "metadata": {},
     "output_type": "execute_result"
    }
   ],
   "source": [
    "model.coef_"
   ]
  },
  {
   "cell_type": "code",
   "execution_count": 75,
   "metadata": {},
   "outputs": [
    {
     "data": {
      "text/plain": [
       "array(1.0)"
      ]
     },
     "execution_count": 75,
     "metadata": {},
     "output_type": "execute_result"
    }
   ],
   "source": [
    "model.dispersion_"
   ]
  },
  {
   "cell_type": "code",
   "execution_count": 76,
   "metadata": {},
   "outputs": [
    {
     "data": {
      "text/plain": [
       "array([[ 0.00314718, -0.00281759, -0.00245855],\n",
       "       [-0.00281759,  0.00575934, -0.0004638 ],\n",
       "       [-0.00245855, -0.0004638 ,  0.00553116]])"
      ]
     },
     "execution_count": 76,
     "metadata": {},
     "output_type": "execute_result"
    }
   ],
   "source": [
    "model.coef_covariance_matrix_"
   ]
  },
  {
   "cell_type": "code",
   "execution_count": 77,
   "metadata": {},
   "outputs": [
    {
     "data": {
      "text/plain": [
       "array([ 0.05609973,  0.07589029,  0.07437175])"
      ]
     },
     "execution_count": 77,
     "metadata": {},
     "output_type": "execute_result"
    }
   ],
   "source": [
    "model.coef_standard_error_"
   ]
  },
  {
   "cell_type": "code",
   "execution_count": 78,
   "metadata": {},
   "outputs": [
    {
     "name": "stdout",
     "output_type": "stream",
     "text": [
      "Optimization terminated successfully.\n",
      "         Current function value: 0.628612\n",
      "         Iterations 5\n",
      "                           Logit Regression Results                           \n",
      "==============================================================================\n",
      "Dep. Variable:                      y   No. Observations:                10000\n",
      "Model:                          Logit   Df Residuals:                     9997\n",
      "Method:                           MLE   Df Model:                            2\n",
      "Date:                Thu, 31 Aug 2017   Pseudo R-squ.:                 0.06552\n",
      "Time:                        20:32:30   Log-Likelihood:                -6286.1\n",
      "converged:                       True   LL-Null:                       -6726.9\n",
      "                                        LLR p-value:                3.879e-192\n",
      "==============================================================================\n",
      "                 coef    std err          z      P>|z|      [0.025      0.975]\n",
      "------------------------------------------------------------------------------\n",
      "const          0.9557      0.056     17.036      0.000       0.846       1.066\n",
      "x1            -1.9840      0.076    -26.143      0.000      -2.133      -1.835\n",
      "x2             0.9535      0.074     12.821      0.000       0.808       1.099\n",
      "==============================================================================\n"
     ]
    }
   ],
   "source": [
    "mod = sm.Logit(y_logistic, X)\n",
    "res = mod.fit()\n",
    "print(res.summary())"
   ]
  },
  {
   "cell_type": "code",
   "execution_count": 79,
   "metadata": {},
   "outputs": [
    {
     "data": {
      "text/plain": [
       "10000"
      ]
     },
     "execution_count": 79,
     "metadata": {},
     "output_type": "execute_result"
    }
   ],
   "source": [
    "X.shape[0]"
   ]
  },
  {
   "cell_type": "code",
   "execution_count": 80,
   "metadata": {
    "collapsed": true
   },
   "outputs": [],
   "source": [
    "s = Simulation(model)"
   ]
  },
  {
   "cell_type": "code",
   "execution_count": 81,
   "metadata": {},
   "outputs": [
    {
     "data": {
      "text/plain": [
       "array([[ 0.,  1.,  1., ...,  0.,  1.,  1.],\n",
       "       [ 1.,  1.,  1., ...,  1.,  1.,  1.],\n",
       "       [ 1.,  1.,  1., ...,  1.,  0.,  1.],\n",
       "       ..., \n",
       "       [ 1.,  1.,  1., ...,  1.,  0.,  1.],\n",
       "       [ 0.,  0.,  1., ...,  1.,  1.,  0.],\n",
       "       [ 1.,  0.,  1., ...,  1.,  1.,  0.]])"
      ]
     },
     "execution_count": 81,
     "metadata": {},
     "output_type": "execute_result"
    }
   ],
   "source": [
    "s.sample(X, n_sim=10)"
   ]
  },
  {
   "cell_type": "code",
   "execution_count": 82,
   "metadata": {},
   "outputs": [
    {
     "name": "stdout",
     "output_type": "stream",
     "text": [
      "[ 1.04922623 -2.10660995  0.91388233]\n",
      "[ 1.02292572 -2.0543495   0.89129902]\n",
      "[ 1.04332149 -2.10936694  0.92235681]\n",
      "[ 0.99480486 -2.04755492  0.93204081]\n",
      "[ 1.07071614 -2.03538029  0.84614258]\n",
      "[ 0.92249173 -1.89231514  0.93822164]\n",
      "[ 0.9876872  -2.09843855  0.98571232]\n",
      "[ 0.86725325 -1.85237114  0.94442227]\n",
      "[ 1.01371999 -2.016722    0.82123156]\n",
      "[ 0.99997336 -2.09310288  0.99525827]\n"
     ]
    }
   ],
   "source": [
    "for model in s.parametric_bootstrap(X, n_sim=10):\n",
    "    print(model.coef_)"
   ]
  },
  {
   "cell_type": "code",
   "execution_count": 83,
   "metadata": {},
   "outputs": [
    {
     "name": "stdout",
     "output_type": "stream",
     "text": [
      "[ 0.95341559 -2.02352743  0.95763801]\n",
      "[ 0.93408256 -1.99602387  1.05838911]\n",
      "[ 0.95682048 -1.91836315  0.8066071 ]\n",
      "[ 1.00430771 -2.03977869  0.95115963]\n",
      "[ 0.98713396 -2.03390483  0.87865217]\n",
      "[ 0.97083281 -2.017276    0.90649712]\n",
      "[ 0.93743486 -2.01966411  1.05347461]\n",
      "[ 0.94619079 -2.06068354  1.07041153]\n",
      "[ 1.06515297 -2.02713988  0.80099542]\n",
      "[ 0.90562146 -2.03396292  1.00113271]\n"
     ]
    }
   ],
   "source": [
    "for model in s.non_parametric_bootstrap(X, y_logistic, n_sim=10):\n",
    "    print(model.coef_)"
   ]
  },
  {
   "cell_type": "markdown",
   "metadata": {},
   "source": [
    "## Poission Model"
   ]
  },
  {
   "cell_type": "code",
   "execution_count": 84,
   "metadata": {
    "collapsed": true
   },
   "outputs": [],
   "source": [
    "mu = np.exp(nu)\n",
    "y_poisson = np.random.poisson(lam=mu, size=N)"
   ]
  },
  {
   "cell_type": "code",
   "execution_count": 85,
   "metadata": {},
   "outputs": [
    {
     "data": {
      "text/plain": [
       "<glm.GLM at 0x11cef15f8>"
      ]
     },
     "execution_count": 85,
     "metadata": {},
     "output_type": "execute_result"
    }
   ],
   "source": [
    "model = GLM(family=Poisson())\n",
    "model.fit(X, y_poisson)"
   ]
  },
  {
   "cell_type": "code",
   "execution_count": 86,
   "metadata": {},
   "outputs": [
    {
     "data": {
      "text/plain": [
       "array([ 0.96788949, -1.99050176,  1.04195954])"
      ]
     },
     "execution_count": 86,
     "metadata": {},
     "output_type": "execute_result"
    }
   ],
   "source": [
    "model.coef_"
   ]
  },
  {
   "cell_type": "code",
   "execution_count": 87,
   "metadata": {},
   "outputs": [
    {
     "data": {
      "text/plain": [
       "array([[  3.41279183e-04,  -2.36389554e-04,  -3.61130598e-04],\n",
       "       [ -2.36389554e-04,   7.10349029e-04,  -9.51442912e-06],\n",
       "       [ -3.61130598e-04,  -9.51442912e-06,   6.22435960e-04]])"
      ]
     },
     "execution_count": 87,
     "metadata": {},
     "output_type": "execute_result"
    }
   ],
   "source": [
    "model.coef_covariance_matrix_"
   ]
  },
  {
   "cell_type": "code",
   "execution_count": 88,
   "metadata": {},
   "outputs": [
    {
     "data": {
      "text/plain": [
       "array([ 0.01847374,  0.02665237,  0.02494867])"
      ]
     },
     "execution_count": 88,
     "metadata": {},
     "output_type": "execute_result"
    }
   ],
   "source": [
    "model.coef_standard_error_"
   ]
  },
  {
   "cell_type": "code",
   "execution_count": 89,
   "metadata": {},
   "outputs": [
    {
     "name": "stdout",
     "output_type": "stream",
     "text": [
      "Optimization terminated successfully.\n",
      "         Current function value: 1.589532\n",
      "         Iterations 7\n",
      "                          Poisson Regression Results                          \n",
      "==============================================================================\n",
      "Dep. Variable:                      y   No. Observations:                10000\n",
      "Model:                        Poisson   Df Residuals:                     9997\n",
      "Method:                           MLE   Df Model:                            2\n",
      "Date:                Thu, 31 Aug 2017   Pseudo R-squ.:                  0.1980\n",
      "Time:                        20:32:46   Log-Likelihood:                -15895.\n",
      "converged:                       True   LL-Null:                       -19821.\n",
      "                                        LLR p-value:                     0.000\n",
      "==============================================================================\n",
      "                 coef    std err          z      P>|z|      [0.025      0.975]\n",
      "------------------------------------------------------------------------------\n",
      "const          0.9679      0.018     52.393      0.000       0.932       1.004\n",
      "x1            -1.9905      0.027    -74.684      0.000      -2.043      -1.938\n",
      "x2             1.0420      0.025     41.764      0.000       0.993       1.091\n",
      "==============================================================================\n"
     ]
    }
   ],
   "source": [
    "mod = statsmodels.discrete.discrete_model.Poisson(y_poisson, X)\n",
    "res = mod.fit()\n",
    "print(res.summary())"
   ]
  },
  {
   "cell_type": "code",
   "execution_count": 91,
   "metadata": {
    "collapsed": true
   },
   "outputs": [],
   "source": [
    "s = Simulation(model)"
   ]
  },
  {
   "cell_type": "code",
   "execution_count": 93,
   "metadata": {},
   "outputs": [
    {
     "data": {
      "text/plain": [
       "array([[ 3.,  3.,  2., ...,  5.,  1.,  0.],\n",
       "       [ 3.,  5.,  1., ...,  3.,  2.,  0.],\n",
       "       [ 1.,  4.,  3., ...,  8.,  1.,  2.],\n",
       "       ..., \n",
       "       [ 2.,  0.,  2., ...,  5.,  2.,  0.],\n",
       "       [ 5.,  5.,  1., ...,  6.,  1.,  4.],\n",
       "       [ 2.,  4.,  2., ...,  5.,  3.,  0.]])"
      ]
     },
     "execution_count": 93,
     "metadata": {},
     "output_type": "execute_result"
    }
   ],
   "source": [
    "s.sample(X, n_sim=10)"
   ]
  },
  {
   "cell_type": "code",
   "execution_count": 99,
   "metadata": {},
   "outputs": [
    {
     "name": "stdout",
     "output_type": "stream",
     "text": [
      "[ 0.96151099 -1.99728407  1.05577442]\n",
      "[ 1.00558146 -2.00089176  0.99918063]\n",
      "[ 0.97312533 -1.98748874  1.02778791]\n",
      "[ 0.94403445 -1.96937844  1.07427859]\n",
      "[ 0.98358348 -2.00822818  1.03359978]\n",
      "[ 0.94349465 -1.99877039  1.07177374]\n",
      "[ 0.96621698 -1.9884313   1.04983511]\n",
      "[ 0.96819303 -2.00038328  1.05842744]\n",
      "[ 0.96992219 -2.02523479  1.06749679]\n",
      "[ 0.95474677 -1.97042477  1.04619878]\n"
     ]
    }
   ],
   "source": [
    "for model in s.parametric_bootstrap(X, n_sim=10):\n",
    "    print(model.coef_)"
   ]
  },
  {
   "cell_type": "code",
   "execution_count": 101,
   "metadata": {},
   "outputs": [
    {
     "name": "stdout",
     "output_type": "stream",
     "text": [
      "[ 0.984897   -2.02894934  1.04021779]\n",
      "[ 0.96020869 -1.94306207  1.00875646]\n",
      "[ 0.94336372 -2.00068361  1.09770317]\n",
      "[ 0.94243268 -1.94597514  1.04374761]\n",
      "[ 0.94617518 -1.99298741  1.08540471]\n",
      "[ 0.96786723 -2.06137197  1.07513042]\n",
      "[ 0.96362497 -1.98529532  1.05708189]\n",
      "[ 0.97659714 -1.97570261  1.03351564]\n",
      "[ 0.97316038 -1.97283943  1.02878469]\n",
      "[ 0.99404346 -2.05488398  1.03913288]\n"
     ]
    }
   ],
   "source": [
    "for model in s.non_parametric_bootstrap(X, y_poisson, n_sim=10):\n",
    "    print(model.coef_)"
   ]
  },
  {
   "cell_type": "markdown",
   "metadata": {},
   "source": [
    "## Poisson with Exposures"
   ]
  },
  {
   "cell_type": "code",
   "execution_count": 31,
   "metadata": {
    "collapsed": true
   },
   "outputs": [],
   "source": [
    "mu = np.exp(nu)\n",
    "expos = np.random.uniform(0, 10, size=N)\n",
    "y_poisson = np.random.poisson(lam=(mu*expos), size=N)"
   ]
  },
  {
   "cell_type": "code",
   "execution_count": 32,
   "metadata": {},
   "outputs": [
    {
     "data": {
      "text/plain": [
       "<glm.GLM at 0x11a612320>"
      ]
     },
     "execution_count": 32,
     "metadata": {},
     "output_type": "execute_result"
    }
   ],
   "source": [
    "model = GLM(family=Poisson())\n",
    "model.fit(X, y_poisson, offset=np.log(expos))"
   ]
  },
  {
   "cell_type": "code",
   "execution_count": 33,
   "metadata": {},
   "outputs": [
    {
     "data": {
      "text/plain": [
       "array([ 1.00070441, -2.00660168,  1.00680519])"
      ]
     },
     "execution_count": 33,
     "metadata": {},
     "output_type": "execute_result"
    }
   ],
   "source": [
    "model.coef_"
   ]
  },
  {
   "cell_type": "markdown",
   "metadata": {},
   "source": [
    "## Linear Model with Correlated Predictors"
   ]
  },
  {
   "cell_type": "code",
   "execution_count": 34,
   "metadata": {
    "collapsed": true
   },
   "outputs": [],
   "source": [
    "N = 100\n",
    "X = np.empty(shape=(N, 3))\n",
    "X[:, 0] = 1.0\n",
    "X[:, 1] = np.random.uniform(size=N)\n",
    "X[:, 2] = 0.5*X[:, 1] + np.random.uniform(-0.5, 0.5, size=N)\n",
    "nu = 1 - 2*X[:, 1] + X[:, 2]"
   ]
  },
  {
   "cell_type": "code",
   "execution_count": 35,
   "metadata": {},
   "outputs": [
    {
     "data": {
      "text/plain": [
       "<glm.GLM at 0x11a612780>"
      ]
     },
     "execution_count": 35,
     "metadata": {},
     "output_type": "execute_result"
    }
   ],
   "source": [
    "y = nu + np.random.normal(size=N)\n",
    "model = GLM(family=Gaussian())\n",
    "model.fit(X, y)"
   ]
  },
  {
   "cell_type": "code",
   "execution_count": 36,
   "metadata": {},
   "outputs": [
    {
     "data": {
      "text/plain": [
       "array([ 0.97863671, -1.87050695,  0.63148404])"
      ]
     },
     "execution_count": 36,
     "metadata": {},
     "output_type": "execute_result"
    }
   ],
   "source": [
    "model.coef_"
   ]
  },
  {
   "cell_type": "code",
   "execution_count": 37,
   "metadata": {},
   "outputs": [
    {
     "data": {
      "text/plain": [
       "array([[ 0.0452718 , -0.06974194,  0.00739348],\n",
       "       [-0.06974194,  0.17369825, -0.08084008],\n",
       "       [ 0.00739348, -0.08084008,  0.1340376 ]])"
      ]
     },
     "execution_count": 37,
     "metadata": {},
     "output_type": "execute_result"
    }
   ],
   "source": [
    "model.coef_covariance_matrix_"
   ]
  },
  {
   "cell_type": "code",
   "execution_count": 38,
   "metadata": {},
   "outputs": [
    {
     "data": {
      "text/plain": [
       "array([ 0.21277171,  0.41677123,  0.36611146])"
      ]
     },
     "execution_count": 38,
     "metadata": {},
     "output_type": "execute_result"
    }
   ],
   "source": [
    "model.coef_standard_error_"
   ]
  },
  {
   "cell_type": "code",
   "execution_count": 39,
   "metadata": {},
   "outputs": [
    {
     "name": "stdout",
     "output_type": "stream",
     "text": [
      "Optimization terminated successfully.\n",
      "         Current function value: 1.572937\n",
      "         Iterations 7\n",
      "                          Poisson Regression Results                          \n",
      "==============================================================================\n",
      "Dep. Variable:                      y   No. Observations:                10000\n",
      "Model:                        Poisson   Df Residuals:                     9997\n",
      "Method:                           MLE   Df Model:                            2\n",
      "Date:                Thu, 31 Aug 2017   Pseudo R-squ.:                  0.1969\n",
      "Time:                        20:22:29   Log-Likelihood:                -15729.\n",
      "converged:                       True   LL-Null:                       -19585.\n",
      "                                        LLR p-value:                     0.000\n",
      "==============================================================================\n",
      "                 coef    std err          z      P>|z|      [0.025      0.975]\n",
      "------------------------------------------------------------------------------\n",
      "const          1.0169      0.019     54.861      0.000       0.981       1.053\n",
      "x1            -2.0211      0.027    -74.888      0.000      -2.074      -1.968\n",
      "x2             0.9692      0.025     38.901      0.000       0.920       1.018\n",
      "==============================================================================\n"
     ]
    }
   ],
   "source": [
    "smod = sm.OLS(y, X)\n",
    "res = mod.fit()\n",
    "print(res.summary())"
   ]
  }
 ],
 "metadata": {
  "kernelspec": {
   "display_name": "Python 3",
   "language": "python",
   "name": "python3"
  },
  "language_info": {
   "codemirror_mode": {
    "name": "ipython",
    "version": 3
   },
   "file_extension": ".py",
   "mimetype": "text/x-python",
   "name": "python",
   "nbconvert_exporter": "python",
   "pygments_lexer": "ipython3",
   "version": "3.6.1"
  }
 },
 "nbformat": 4,
 "nbformat_minor": 2
}
