{
 "cells": [
  {
   "cell_type": "code",
   "execution_count": 1,
   "metadata": {},
   "outputs": [
    {
     "name": "stderr",
     "output_type": "stream",
     "text": [
      "/Users/matthewdrury/anaconda/envs/py36/lib/python3.6/site-packages/matplotlib/__init__.py:913: UserWarning: axes.color_cycle is deprecated and replaced with axes.prop_cycle; please use the latter.\n",
      "  warnings.warn(self.msg_depr % (key, alt_key))\n",
      "/Users/matthewdrury/anaconda/envs/py36/lib/python3.6/site-packages/statsmodels/compat/pandas.py:56: FutureWarning: The pandas.core.datetools module is deprecated and will be removed in a future version. Please use the pandas.tseries module instead.\n",
      "  from pandas.core import datetools\n"
     ]
    }
   ],
   "source": [
    "import numpy as np\n",
    "from families import Gaussian, Bernoulli, Poisson\n",
    "from glm import GLM\n",
    "from simulate import Simulation\n",
    "\n",
    "import statsmodels.api as sm\n",
    "import statsmodels"
   ]
  },
  {
   "cell_type": "code",
   "execution_count": 2,
   "metadata": {
    "collapsed": true
   },
   "outputs": [],
   "source": [
    "N = 10000\n",
    "X = np.empty(shape=(N, 3))\n",
    "X[:, 0] = 1.0\n",
    "X[:, 1] = np.random.uniform(size=N)\n",
    "X[:, 2] = np.random.uniform(size=N)\n",
    "nu = 1 - 2*X[:, 1] + X[:, 2]"
   ]
  },
  {
   "cell_type": "markdown",
   "metadata": {},
   "source": [
    "## Linear Model"
   ]
  },
  {
   "cell_type": "code",
   "execution_count": 3,
   "metadata": {},
   "outputs": [
    {
     "data": {
      "text/plain": [
       "<glm.GLM at 0x114acfba8>"
      ]
     },
     "execution_count": 3,
     "metadata": {},
     "output_type": "execute_result"
    }
   ],
   "source": [
    "y = nu + np.random.normal(size=N)\n",
    "model = GLM(family=Gaussian())\n",
    "model.fit(X, y)"
   ]
  },
  {
   "cell_type": "code",
   "execution_count": 4,
   "metadata": {},
   "outputs": [
    {
     "data": {
      "text/plain": [
       "array([ 1.01238386, -2.02692086,  1.00498161])"
      ]
     },
     "execution_count": 4,
     "metadata": {},
     "output_type": "execute_result"
    }
   ],
   "source": [
    "model.coef_"
   ]
  },
  {
   "cell_type": "code",
   "execution_count": 5,
   "metadata": {},
   "outputs": [
    {
     "data": {
      "text/plain": [
       "array([[  7.29406396e-04,  -6.25511443e-04,  -6.28934787e-04],\n",
       "       [ -6.25511443e-04,   1.26429000e-03,  -5.74527754e-06],\n",
       "       [ -6.28934787e-04,  -5.74527754e-06,   1.26649767e-03]])"
      ]
     },
     "execution_count": 5,
     "metadata": {},
     "output_type": "execute_result"
    }
   ],
   "source": [
    "model.coef_covariance_matrix_"
   ]
  },
  {
   "cell_type": "code",
   "execution_count": 6,
   "metadata": {},
   "outputs": [
    {
     "data": {
      "text/plain": [
       "array([ 0.02700752,  0.03555686,  0.03558789])"
      ]
     },
     "execution_count": 6,
     "metadata": {},
     "output_type": "execute_result"
    }
   ],
   "source": [
    "model.coef_standard_error_"
   ]
  },
  {
   "cell_type": "code",
   "execution_count": 7,
   "metadata": {},
   "outputs": [
    {
     "name": "stdout",
     "output_type": "stream",
     "text": [
      "                            OLS Regression Results                            \n",
      "==============================================================================\n",
      "Dep. Variable:                      y   R-squared:                       0.287\n",
      "Model:                            OLS   Adj. R-squared:                  0.287\n",
      "Method:                 Least Squares   F-statistic:                     2016.\n",
      "Date:                Wed, 30 Aug 2017   Prob (F-statistic):               0.00\n",
      "Time:                        20:47:58   Log-Likelihood:                -14421.\n",
      "No. Observations:               10000   AIC:                         2.885e+04\n",
      "Df Residuals:                    9997   BIC:                         2.887e+04\n",
      "Df Model:                           2                                         \n",
      "Covariance Type:            nonrobust                                         \n",
      "==============================================================================\n",
      "                 coef    std err          t      P>|t|      [0.025      0.975]\n",
      "------------------------------------------------------------------------------\n",
      "const          1.0124      0.027     37.485      0.000       0.959       1.065\n",
      "x1            -2.0269      0.036    -57.005      0.000      -2.097      -1.957\n",
      "x2             1.0050      0.036     28.239      0.000       0.935       1.075\n",
      "==============================================================================\n",
      "Omnibus:                        0.349   Durbin-Watson:                   1.992\n",
      "Prob(Omnibus):                  0.840   Jarque-Bera (JB):                0.381\n",
      "Skew:                          -0.001   Prob(JB):                        0.826\n",
      "Kurtosis:                       2.970   Cond. No.                         5.29\n",
      "==============================================================================\n",
      "\n",
      "Warnings:\n",
      "[1] Standard Errors assume that the covariance matrix of the errors is correctly specified.\n"
     ]
    }
   ],
   "source": [
    "mod = sm.OLS(y, X)\n",
    "res = mod.fit()\n",
    "print(res.summary())"
   ]
  },
  {
   "cell_type": "markdown",
   "metadata": {},
   "source": [
    "## Run some simulations off the linear model."
   ]
  },
  {
   "cell_type": "code",
   "execution_count": 8,
   "metadata": {
    "collapsed": true
   },
   "outputs": [],
   "source": [
    "s = Simulation(model)"
   ]
  },
  {
   "cell_type": "code",
   "execution_count": 9,
   "metadata": {},
   "outputs": [
    {
     "data": {
      "text/plain": [
       "array([[  1.52380870e-02,  -1.43217420e+00,  -2.47216634e-01, ...,\n",
       "         -1.24702957e+00,   1.44962731e+00,   4.80419269e-01],\n",
       "       [ -1.51112035e+00,  -4.68894403e-01,   1.27018770e+00, ...,\n",
       "          1.42758361e+00,   1.37558780e+00,  -3.65848322e-01],\n",
       "       [ -4.93750695e-01,   1.75212205e-01,  -1.36323799e+00, ...,\n",
       "          8.83007582e-01,   1.13984402e+00,   2.73590202e-01],\n",
       "       ..., \n",
       "       [ -1.01897710e+00,  -1.20377889e+00,   1.25665156e+00, ...,\n",
       "          2.00152570e+00,   2.04755658e+00,  -7.39501462e-01],\n",
       "       [  4.57611140e-01,   3.61635944e-01,   5.58558758e-01, ...,\n",
       "         -3.48736085e-03,   8.05166983e-01,  -8.36167764e-01],\n",
       "       [  1.59743753e+00,  -2.16955668e+00,  -6.52000738e-01, ...,\n",
       "          3.72824876e+00,   9.99491400e-01,  -1.18634680e+00]])"
      ]
     },
     "execution_count": 9,
     "metadata": {},
     "output_type": "execute_result"
    }
   ],
   "source": [
    "s.sample(X)"
   ]
  },
  {
   "cell_type": "code",
   "execution_count": 10,
   "metadata": {},
   "outputs": [
    {
     "name": "stdout",
     "output_type": "stream",
     "text": [
      "[ 1.02525081 -2.01630202  0.99422129]\n",
      "[ 1.05504776 -2.03712266  0.9590787 ]\n",
      "[ 0.94436376 -1.97377019  1.06187187]\n",
      "[ 1.05377584 -2.09266306  1.0103103 ]\n",
      "[ 0.987111   -2.04210078  1.03700606]\n",
      "[ 1.03787618 -2.07612538  1.01219514]\n",
      "[ 1.06335037 -2.11171194  0.97541253]\n",
      "[ 0.97449525 -2.01537208  1.03413366]\n",
      "[ 1.00163023 -1.99427679  1.01124415]\n",
      "[ 1.05123197 -2.06726162  0.99822628]\n"
     ]
    }
   ],
   "source": [
    "models = s.parametric_bootstrap(X, n_sim=10)\n",
    "for model in models:\n",
    "    print(model.coef_)"
   ]
  },
  {
   "cell_type": "code",
   "execution_count": 11,
   "metadata": {},
   "outputs": [
    {
     "name": "stdout",
     "output_type": "stream",
     "text": [
      "[ 0.98654473 -2.00116224  1.04451165]\n",
      "[ 1.02227717 -2.00770834  0.99704988]\n",
      "[ 1.01737114 -2.00318522  0.94563499]\n",
      "[ 1.03150124 -2.07023392  1.02932444]\n",
      "[ 1.0103629  -2.02163142  1.00338946]\n",
      "[ 1.01811914 -2.06185337  1.05102277]\n",
      "[ 1.0365624  -2.08562508  0.97061296]\n",
      "[ 1.01748239 -1.97761194  0.95211104]\n",
      "[ 1.00125741 -2.04126103  1.06374633]\n",
      "[ 1.0474316  -2.062493    0.98019981]\n"
     ]
    }
   ],
   "source": [
    "models = s.non_parametric_bootstrap(X, y, n_sim=10)\n",
    "for model in models:\n",
    "    print(model.coef_)"
   ]
  },
  {
   "cell_type": "markdown",
   "metadata": {},
   "source": [
    "## Linear Model with Sample Weights"
   ]
  },
  {
   "cell_type": "code",
   "execution_count": 12,
   "metadata": {
    "collapsed": true
   },
   "outputs": [],
   "source": [
    "sample_weights = np.random.uniform(0, 2, size=N)"
   ]
  },
  {
   "cell_type": "code",
   "execution_count": 13,
   "metadata": {
    "collapsed": true
   },
   "outputs": [],
   "source": [
    "model = GLM(family=Gaussian())\n",
    "model = model.fit(X, y, sample_weights=sample_weights)"
   ]
  },
  {
   "cell_type": "code",
   "execution_count": 14,
   "metadata": {},
   "outputs": [
    {
     "data": {
      "text/plain": [
       "array([ 1.02894572, -2.04390337,  0.98124285])"
      ]
     },
     "execution_count": 14,
     "metadata": {},
     "output_type": "execute_result"
    }
   ],
   "source": [
    "model.coef_"
   ]
  },
  {
   "cell_type": "markdown",
   "metadata": {},
   "source": [
    "## Logistic Model"
   ]
  },
  {
   "cell_type": "code",
   "execution_count": 15,
   "metadata": {
    "collapsed": true
   },
   "outputs": [],
   "source": [
    "p = 1 / (1 + np.exp(-nu))\n",
    "y_logistic = np.random.binomial(1, p=p, size=N)"
   ]
  },
  {
   "cell_type": "code",
   "execution_count": 16,
   "metadata": {},
   "outputs": [
    {
     "data": {
      "text/plain": [
       "<glm.GLM at 0x114b03f98>"
      ]
     },
     "execution_count": 16,
     "metadata": {},
     "output_type": "execute_result"
    }
   ],
   "source": [
    "model = GLM(family=Bernoulli())\n",
    "model.fit(X, y_logistic)"
   ]
  },
  {
   "cell_type": "code",
   "execution_count": 17,
   "metadata": {},
   "outputs": [
    {
     "data": {
      "text/plain": [
       "array([ 0.98686695, -1.99342588,  1.02711229])"
      ]
     },
     "execution_count": 17,
     "metadata": {},
     "output_type": "execute_result"
    }
   ],
   "source": [
    "model.coef_"
   ]
  },
  {
   "cell_type": "code",
   "execution_count": 18,
   "metadata": {},
   "outputs": [
    {
     "data": {
      "text/plain": [
       "array(1.0)"
      ]
     },
     "execution_count": 18,
     "metadata": {},
     "output_type": "execute_result"
    }
   ],
   "source": [
    "model.dispersion_"
   ]
  },
  {
   "cell_type": "code",
   "execution_count": 19,
   "metadata": {},
   "outputs": [
    {
     "data": {
      "text/plain": [
       "array([[ 0.00325063, -0.00296448, -0.00251295],\n",
       "       [-0.00296448,  0.0059812 , -0.00045033],\n",
       "       [-0.00251295, -0.00045033,  0.00570695]])"
      ]
     },
     "execution_count": 19,
     "metadata": {},
     "output_type": "execute_result"
    }
   ],
   "source": [
    "model.coef_covariance_matrix_"
   ]
  },
  {
   "cell_type": "code",
   "execution_count": 20,
   "metadata": {},
   "outputs": [
    {
     "data": {
      "text/plain": [
       "array([ 0.05701431,  0.07733824,  0.07554435])"
      ]
     },
     "execution_count": 20,
     "metadata": {},
     "output_type": "execute_result"
    }
   ],
   "source": [
    "model.coef_standard_error_"
   ]
  },
  {
   "cell_type": "code",
   "execution_count": 21,
   "metadata": {},
   "outputs": [
    {
     "name": "stdout",
     "output_type": "stream",
     "text": [
      "Optimization terminated successfully.\n",
      "         Current function value: 0.622692\n",
      "         Iterations 5\n",
      "                           Logit Regression Results                           \n",
      "==============================================================================\n",
      "Dep. Variable:                      y   No. Observations:                10000\n",
      "Model:                          Logit   Df Residuals:                     9997\n",
      "Method:                           MLE   Df Model:                            2\n",
      "Date:                Wed, 30 Aug 2017   Pseudo R-squ.:                 0.06645\n",
      "Time:                        20:47:59   Log-Likelihood:                -6226.9\n",
      "converged:                       True   LL-Null:                       -6670.2\n",
      "                                        LLR p-value:                3.137e-193\n",
      "==============================================================================\n",
      "                 coef    std err          z      P>|z|      [0.025      0.975]\n",
      "------------------------------------------------------------------------------\n",
      "const          0.9869      0.057     17.309      0.000       0.875       1.099\n",
      "x1            -1.9934      0.077    -25.775      0.000      -2.145      -1.842\n",
      "x2             1.0271      0.076     13.596      0.000       0.879       1.175\n",
      "==============================================================================\n"
     ]
    }
   ],
   "source": [
    "mod = sm.Logit(y_logistic, X)\n",
    "res = mod.fit()\n",
    "print(res.summary())"
   ]
  },
  {
   "cell_type": "code",
   "execution_count": 22,
   "metadata": {},
   "outputs": [
    {
     "name": "stdout",
     "output_type": "stream",
     "text": [
      "[ 0.05922469  0.07960627  0.07477743]\n"
     ]
    }
   ],
   "source": [
    "coefs = np.empty((1000, 3))\n",
    "for i in range(1000):\n",
    "    y_logistic = np.random.binomial(1, p=p, size=N)\n",
    "    model = GLM(family=Bernoulli())\n",
    "    model.fit(X, y_logistic)\n",
    "    coefs[i, :] = model.coef_\n",
    "    \n",
    "print(coefs.std(axis=0))"
   ]
  },
  {
   "cell_type": "markdown",
   "metadata": {},
   "source": [
    "## Poission Model"
   ]
  },
  {
   "cell_type": "code",
   "execution_count": 23,
   "metadata": {
    "collapsed": true
   },
   "outputs": [],
   "source": [
    "mu = np.exp(nu)\n",
    "y_poisson = np.random.poisson(lam=mu, size=N)"
   ]
  },
  {
   "cell_type": "code",
   "execution_count": 24,
   "metadata": {},
   "outputs": [
    {
     "data": {
      "text/plain": [
       "<glm.GLM at 0x116c05780>"
      ]
     },
     "execution_count": 24,
     "metadata": {},
     "output_type": "execute_result"
    }
   ],
   "source": [
    "model = GLM(family=Poisson())\n",
    "model.fit(X, y_poisson)"
   ]
  },
  {
   "cell_type": "code",
   "execution_count": 25,
   "metadata": {},
   "outputs": [
    {
     "data": {
      "text/plain": [
       "array([ 0.97314694, -1.97317453,  1.00622402])"
      ]
     },
     "execution_count": 25,
     "metadata": {},
     "output_type": "execute_result"
    }
   ],
   "source": [
    "model.coef_"
   ]
  },
  {
   "cell_type": "code",
   "execution_count": 26,
   "metadata": {},
   "outputs": [
    {
     "data": {
      "text/plain": [
       "array([[  3.48275471e-04,  -2.48972705e-04,  -3.66373025e-04],\n",
       "       [ -2.48972705e-04,   7.29866279e-04,  -3.54697398e-06],\n",
       "       [ -3.66373025e-04,  -3.54697398e-06,   6.33602735e-04]])"
      ]
     },
     "execution_count": 26,
     "metadata": {},
     "output_type": "execute_result"
    }
   ],
   "source": [
    "model.coef_covariance_matrix_"
   ]
  },
  {
   "cell_type": "code",
   "execution_count": 27,
   "metadata": {},
   "outputs": [
    {
     "data": {
      "text/plain": [
       "array([ 0.01866214,  0.02701604,  0.02517147])"
      ]
     },
     "execution_count": 27,
     "metadata": {},
     "output_type": "execute_result"
    }
   ],
   "source": [
    "model.coef_standard_error_"
   ]
  },
  {
   "cell_type": "code",
   "execution_count": 28,
   "metadata": {},
   "outputs": [
    {
     "name": "stdout",
     "output_type": "stream",
     "text": [
      "Optimization terminated successfully.\n",
      "         Current function value: 1.588687\n",
      "         Iterations 7\n",
      "                          Poisson Regression Results                          \n",
      "==============================================================================\n",
      "Dep. Variable:                      y   No. Observations:                10000\n",
      "Model:                        Poisson   Df Residuals:                     9997\n",
      "Method:                           MLE   Df Model:                            2\n",
      "Date:                Wed, 30 Aug 2017   Pseudo R-squ.:                  0.1902\n",
      "Time:                        20:48:04   Log-Likelihood:                -15887.\n",
      "converged:                       True   LL-Null:                       -19618.\n",
      "                                        LLR p-value:                     0.000\n",
      "==============================================================================\n",
      "                 coef    std err          z      P>|z|      [0.025      0.975]\n",
      "------------------------------------------------------------------------------\n",
      "const          0.9731      0.019     52.145      0.000       0.937       1.010\n",
      "x1            -1.9732      0.027    -73.037      0.000      -2.026      -1.920\n",
      "x2             1.0062      0.025     39.975      0.000       0.957       1.056\n",
      "==============================================================================\n"
     ]
    }
   ],
   "source": [
    "mod = statsmodels.discrete.discrete_model.Poisson(y_poisson, X)\n",
    "res = mod.fit()\n",
    "print(res.summary())"
   ]
  },
  {
   "cell_type": "markdown",
   "metadata": {},
   "source": [
    "## Poisson with Exposures"
   ]
  },
  {
   "cell_type": "code",
   "execution_count": 29,
   "metadata": {
    "collapsed": true
   },
   "outputs": [],
   "source": [
    "mu = np.exp(nu)\n",
    "expos = np.random.uniform(0, 10, size=N)\n",
    "y_poisson = np.random.poisson(lam=(mu*expos), size=N)"
   ]
  },
  {
   "cell_type": "code",
   "execution_count": 30,
   "metadata": {},
   "outputs": [
    {
     "data": {
      "text/plain": [
       "<glm.GLM at 0x114b03470>"
      ]
     },
     "execution_count": 30,
     "metadata": {},
     "output_type": "execute_result"
    }
   ],
   "source": [
    "model = GLM(family=Poisson())\n",
    "model.fit(X, y_poisson, offset=np.log(expos))"
   ]
  },
  {
   "cell_type": "code",
   "execution_count": 31,
   "metadata": {},
   "outputs": [
    {
     "data": {
      "text/plain": [
       "array([ 1.00615836, -2.00238427,  0.99512772])"
      ]
     },
     "execution_count": 31,
     "metadata": {},
     "output_type": "execute_result"
    }
   ],
   "source": [
    "model.coef_"
   ]
  },
  {
   "cell_type": "markdown",
   "metadata": {},
   "source": [
    "## Linear Model with Correlated Predictors"
   ]
  },
  {
   "cell_type": "code",
   "execution_count": 32,
   "metadata": {
    "collapsed": true
   },
   "outputs": [],
   "source": [
    "N = 100\n",
    "X = np.empty(shape=(N, 3))\n",
    "X[:, 0] = 1.0\n",
    "X[:, 1] = np.random.uniform(size=N)\n",
    "X[:, 2] = 0.5*X[:, 1] + np.random.uniform(-0.5, 0.5, size=N)\n",
    "nu = 1 - 2*X[:, 1] + X[:, 2]"
   ]
  },
  {
   "cell_type": "code",
   "execution_count": 33,
   "metadata": {},
   "outputs": [
    {
     "data": {
      "text/plain": [
       "<glm.GLM at 0x114b03358>"
      ]
     },
     "execution_count": 33,
     "metadata": {},
     "output_type": "execute_result"
    }
   ],
   "source": [
    "y = nu + np.random.normal(size=N)\n",
    "model = GLM(family=Gaussian())\n",
    "model.fit(X, y)"
   ]
  },
  {
   "cell_type": "code",
   "execution_count": 34,
   "metadata": {},
   "outputs": [
    {
     "data": {
      "text/plain": [
       "array([ 0.63541665, -1.6562498 ,  1.27005124])"
      ]
     },
     "execution_count": 34,
     "metadata": {},
     "output_type": "execute_result"
    }
   ],
   "source": [
    "model.coef_"
   ]
  },
  {
   "cell_type": "code",
   "execution_count": 35,
   "metadata": {},
   "outputs": [
    {
     "data": {
      "text/plain": [
       "array([[ 0.03694858, -0.05316921, -0.00696023],\n",
       "       [-0.05316921,  0.12806291, -0.04196057],\n",
       "       [-0.00696023, -0.04196057,  0.11609893]])"
      ]
     },
     "execution_count": 35,
     "metadata": {},
     "output_type": "execute_result"
    }
   ],
   "source": [
    "model.coef_covariance_matrix_"
   ]
  },
  {
   "cell_type": "code",
   "execution_count": 36,
   "metadata": {},
   "outputs": [
    {
     "data": {
      "text/plain": [
       "array([ 0.19222013,  0.35785879,  0.34073294])"
      ]
     },
     "execution_count": 36,
     "metadata": {},
     "output_type": "execute_result"
    }
   ],
   "source": [
    "model.coef_standard_error_"
   ]
  },
  {
   "cell_type": "code",
   "execution_count": 37,
   "metadata": {},
   "outputs": [
    {
     "name": "stdout",
     "output_type": "stream",
     "text": [
      "                            OLS Regression Results                            \n",
      "==============================================================================\n",
      "Dep. Variable:                      y   R-squared:                       0.215\n",
      "Model:                            OLS   Adj. R-squared:                  0.199\n",
      "Method:                 Least Squares   F-statistic:                     13.29\n",
      "Date:                Wed, 30 Aug 2017   Prob (F-statistic):           7.89e-06\n",
      "Time:                        20:48:04   Log-Likelihood:                -135.47\n",
      "No. Observations:                 100   AIC:                             276.9\n",
      "Df Residuals:                      97   BIC:                             284.7\n",
      "Df Model:                           2                                         \n",
      "Covariance Type:            nonrobust                                         \n",
      "==============================================================================\n",
      "                 coef    std err          t      P>|t|      [0.025      0.975]\n",
      "------------------------------------------------------------------------------\n",
      "const          0.6354      0.192      3.306      0.001       0.254       1.017\n",
      "x1            -1.6562      0.358     -4.628      0.000      -2.367      -0.946\n",
      "x2             1.2701      0.341      3.727      0.000       0.594       1.946\n",
      "==============================================================================\n",
      "Omnibus:                        0.120   Durbin-Watson:                   2.019\n",
      "Prob(Omnibus):                  0.942   Jarque-Bera (JB):                0.010\n",
      "Skew:                           0.024   Prob(JB):                        0.995\n",
      "Kurtosis:                       3.004   Cond. No.                         5.06\n",
      "==============================================================================\n",
      "\n",
      "Warnings:\n",
      "[1] Standard Errors assume that the covariance matrix of the errors is correctly specified.\n"
     ]
    }
   ],
   "source": [
    "mod = sm.OLS(y, X)\n",
    "res = mod.fit()\n",
    "print(res.summary())"
   ]
  }
 ],
 "metadata": {
  "kernelspec": {
   "display_name": "Python 3",
   "language": "python",
   "name": "python3"
  },
  "language_info": {
   "codemirror_mode": {
    "name": "ipython",
    "version": 3
   },
   "file_extension": ".py",
   "mimetype": "text/x-python",
   "name": "python",
   "nbconvert_exporter": "python",
   "pygments_lexer": "ipython3",
   "version": "3.6.1"
  }
 },
 "nbformat": 4,
 "nbformat_minor": 2
}
