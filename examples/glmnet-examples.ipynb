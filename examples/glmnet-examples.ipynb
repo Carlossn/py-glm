{
 "cells": [
  {
   "cell_type": "code",
   "execution_count": 1,
   "metadata": {},
   "outputs": [
    {
     "name": "stderr",
     "output_type": "stream",
     "text": [
      "/Users/matthewdrury/anaconda/envs/py36/lib/python3.6/site-packages/matplotlib/__init__.py:913: UserWarning: axes.color_cycle is deprecated and replaced with axes.prop_cycle; please use the latter.\n",
      "  warnings.warn(self.msg_depr % (key, alt_key))\n"
     ]
    }
   ],
   "source": [
    "from glm.glmnet import ElasticNet, GLMNet\n",
    "from glm.families import Gaussian, Bernoulli\n",
    "import numpy as np\n",
    "\n",
    "from sklearn.linear_model import LinearRegression\n",
    "from sklearn.preprocessing import StandardScaler\n",
    "\n",
    "%matplotlib inline\n",
    "import matplotlib.pyplot as plt\n",
    "\n",
    "plt.style.use('ggplot')"
   ]
  },
  {
   "cell_type": "code",
   "execution_count": 2,
   "metadata": {
    "collapsed": true
   },
   "outputs": [],
   "source": [
    "X = np.empty(shape=(100000, 5))\n",
    "X[:, 0] = 1.0\n",
    "X[:, 1] = np.random.normal(size=100000)\n",
    "X[:, 2] = np.random.normal(size=100000)\n",
    "X[:, 3] = 0.2*X[:, 1] + 0.8*np.random.normal(size=100000)\n",
    "X[:, 4] = -0.2*X[:, 1] + 0.8*np.random.normal(size=100000)\n",
    "#X[:, 3] = np.random.normal(size=100000)\n",
    "#X[:, 4] = np.random.normal(size=100000)\n",
    "\n",
    "y = 1 + 0.5*X[:, 1] - 0.75*X[:, 2] + X[:, 4] + np.random.normal(scale=0.2, size=100000)\n",
    "\n",
    "sample_weights = np.random.uniform(size=100000)"
   ]
  },
  {
   "cell_type": "code",
   "execution_count": 3,
   "metadata": {
    "collapsed": true
   },
   "outputs": [],
   "source": [
    "#s = StandardScaler()\n",
    "#X = s.fit_transform(X)\n",
    "#X[:, 0] = 1.0"
   ]
  },
  {
   "cell_type": "code",
   "execution_count": 4,
   "metadata": {},
   "outputs": [
    {
     "data": {
      "text/plain": [
       "<glm.glmnet.ElasticNet at 0x11c9babe0>"
      ]
     },
     "execution_count": 4,
     "metadata": {},
     "output_type": "execute_result"
    }
   ],
   "source": [
    "enet = ElasticNet(lam=0.0, alpha=0.0)\n",
    "enet.fit(X, y, sample_weights=sample_weights)"
   ]
  },
  {
   "cell_type": "code",
   "execution_count": 5,
   "metadata": {},
   "outputs": [
    {
     "data": {
      "text/plain": [
       "array([ 1.00040648,  0.50053186, -0.74927003,  0.00163455,  1.00046015])"
      ]
     },
     "execution_count": 5,
     "metadata": {},
     "output_type": "execute_result"
    }
   ],
   "source": [
    "enet.coef_"
   ]
  },
  {
   "cell_type": "code",
   "execution_count": 6,
   "metadata": {},
   "outputs": [
    {
     "data": {
      "text/plain": [
       "array([ 0.        ,  0.50096038, -0.74976115,  0.00151128,  1.00013386])"
      ]
     },
     "execution_count": 6,
     "metadata": {},
     "output_type": "execute_result"
    }
   ],
   "source": [
    "lr = LinearRegression()\n",
    "lr.fit(X, y)\n",
    "lr.coef_"
   ]
  },
  {
   "cell_type": "code",
   "execution_count": 7,
   "metadata": {
    "collapsed": true
   },
   "outputs": [],
   "source": [
    "lambdas = np.logspace(np.log10(0.000001), np.log10(50))"
   ]
  },
  {
   "cell_type": "code",
   "execution_count": 8,
   "metadata": {},
   "outputs": [
    {
     "data": {
      "text/plain": [
       "array([  1.00000000e-06,   1.43589220e-06,   2.06178641e-06,\n",
       "         2.96050303e-06,   4.25096322e-06,   6.10392494e-06,\n",
       "         8.76457821e-06,   1.25849895e-05,   1.80706883e-05,\n",
       "         2.59475604e-05,   3.72578996e-05,   5.34983275e-05,\n",
       "         7.68178313e-05,   1.10302125e-04,   1.58381961e-04,\n",
       "         2.27419422e-04,   3.26549775e-04,   4.68890276e-04,\n",
       "         6.73275890e-04,   9.66751600e-04,   1.38815108e-03,\n",
       "         1.99323532e-03,   2.86207105e-03,   4.10962549e-03,\n",
       "         5.90097920e-03,   8.47317001e-03,   1.21665587e-02,\n",
       "         1.74698668e-02,   2.50848455e-02,   3.60191341e-02,\n",
       "         5.17195937e-02,   7.42637613e-02,   1.06634756e-01,\n",
       "         1.53116014e-01,   2.19858091e-01,   3.15692518e-01,\n",
       "         4.53300424e-01,   6.50890544e-01,   9.34608657e-01,\n",
       "         1.34199728e+00,   1.92696343e+00,   2.76691176e+00,\n",
       "         3.97298702e+00,   5.70478108e+00,   8.19145067e+00,\n",
       "         1.17620401e+01,   1.68890217e+01,   2.42508146e+01,\n",
       "         3.48215555e+01,   5.00000000e+01])"
      ]
     },
     "execution_count": 8,
     "metadata": {},
     "output_type": "execute_result"
    }
   ],
   "source": [
    "lambdas"
   ]
  },
  {
   "cell_type": "code",
   "execution_count": 9,
   "metadata": {
    "collapsed": true
   },
   "outputs": [],
   "source": [
    "enets = []\n",
    "for lam in lambdas:\n",
    "    enet = ElasticNet(lam=lam, alpha=0.2)\n",
    "    enet.fit(X, y)\n",
    "    enets.append(enet.coef_)"
   ]
  },
  {
   "cell_type": "code",
   "execution_count": 10,
   "metadata": {
    "collapsed": true
   },
   "outputs": [],
   "source": [
    "coef_paths = np.row_stack(enets)"
   ]
  },
  {
   "cell_type": "code",
   "execution_count": 11,
   "metadata": {},
   "outputs": [
    {
     "data": {
      "image/png": "[encoded data removed]",
      "text/plain": [
       "<matplotlib.figure.Figure at 0x11c9cf4a8>"
      ]
     },
     "metadata": {},
     "output_type": "display_data"
    }
   ],
   "source": [
    "fig, ax = plt.subplots(figsize=(14, 4))\n",
    "\n",
    "t = np.log(lambdas)\n",
    "for idx in range(coef_paths.shape[1]):\n",
    "    ax.plot(t, coef_paths[:, idx])"
   ]
  },
  {
   "cell_type": "code",
   "execution_count": 12,
   "metadata": {},
   "outputs": [
    {
     "data": {
      "text/plain": [
       "array([ 1.00129635,  1.00129635,  1.00129635, ...,  1.00129635,\n",
       "        1.00129635,  1.00129635])"
      ]
     },
     "execution_count": 12,
     "metadata": {},
     "output_type": "execute_result"
    }
   ],
   "source": [
    "enet.predict(X)"
   ]
  },
  {
   "cell_type": "markdown",
   "metadata": {},
   "source": [
    "## Coeff Path for Elastic Net"
   ]
  },
  {
   "cell_type": "code",
   "execution_count": 13,
   "metadata": {},
   "outputs": [
    {
     "data": {
      "text/plain": [
       "<glm.glmnet.ElasticNet at 0x11f87bb70>"
      ]
     },
     "execution_count": 13,
     "metadata": {},
     "output_type": "execute_result"
    }
   ],
   "source": [
    "enet = ElasticNet(lam=0.5, alpha=0.2)\n",
    "enet.fit(X, y)"
   ]
  },
  {
   "cell_type": "code",
   "execution_count": 14,
   "metadata": {
    "collapsed": true
   },
   "outputs": [],
   "source": [
    "path = np.row_stack(enet._coef_path)"
   ]
  },
  {
   "cell_type": "code",
   "execution_count": 15,
   "metadata": {},
   "outputs": [
    {
     "data": {
      "image/png": "[encoded data removed]",
      "text/plain": [
       "<matplotlib.figure.Figure at 0x11f910c88>"
      ]
     },
     "metadata": {},
     "output_type": "display_data"
    }
   ],
   "source": [
    "fig, ax = plt.subplots(figsize=(14, 4))\n",
    "\n",
    "t = np.arange(path.shape[0])\n",
    "for idx in range(1, path.shape[1]):\n",
    "    ax.plot(t, path[:, idx])"
   ]
  },
  {
   "cell_type": "markdown",
   "metadata": {},
   "source": [
    "## GlmNet"
   ]
  },
  {
   "cell_type": "code",
   "execution_count": 16,
   "metadata": {
    "collapsed": true
   },
   "outputs": [],
   "source": [
    "X = np.empty(shape=(100000, 5))\n",
    "X[:, 0] = 1.0\n",
    "X[:, 1] = np.random.normal(size=100000)\n",
    "X[:, 2] = np.random.normal(size=100000)\n",
    "X[:, 3] = 0.25*X[:, 1] + np.sqrt(1 - 0.25**2)*np.random.normal(size=100000)\n",
    "X[:, 4] = 0.25*X[:, 1] + np.sqrt(1 - 0.25**2)*np.random.normal(size=100000)\n",
    "#X[:, 3] = np.random.normal(size=100000)\n",
    "#X[:, 4] = np.random.normal(size=100000)\n",
    "\n",
    "#y = 1 + 0.05*X[:, 1] + np.random.normal(scale=0.2, size=100000)\n",
    "y = 1 + 0.5*X[:, 1] - 0.75*X[:, 2] + X[:, 4] + np.random.normal(scale=0.2, size=100000)\n",
    "\n",
    "s = StandardScaler()\n",
    "X = s.fit_transform(X)\n",
    "X[:, 0] = 1.0\n",
    "\n",
    "sample_weights = np.random.uniform(size=100000)"
   ]
  },
  {
   "cell_type": "code",
   "execution_count": 17,
   "metadata": {
    "collapsed": true
   },
   "outputs": [],
   "source": [
    "lambdas = np.logspace(np.log10(0.001), np.log10(10), num=50)\n",
    "lambdas = lambdas[::-1]"
   ]
  },
  {
   "cell_type": "code",
   "execution_count": 18,
   "metadata": {},
   "outputs": [
    {
     "data": {
      "text/plain": [
       "<glm.glmnet.GLMNet at 0x11fb87d30>"
      ]
     },
     "execution_count": 18,
     "metadata": {},
     "output_type": "execute_result"
    }
   ],
   "source": [
    "gnet = GLMNet(family=Gaussian(), alpha=0.2, lambdas=lambdas, max_iter=10)\n",
    "gnet.fit(X, y)"
   ]
  },
  {
   "cell_type": "code",
   "execution_count": 19,
   "metadata": {},
   "outputs": [
    {
     "data": {
      "image/png": "[encoded data removed]",
      "text/plain": [
       "<matplotlib.figure.Figure at 0x11f892438>"
      ]
     },
     "metadata": {},
     "output_type": "display_data"
    }
   ],
   "source": [
    "coef_paths = np.row_stack([[g.coef_ for g in enets][-1] for enets in gnet._enets])\n",
    "\n",
    "fig, ax = plt.subplots(figsize=(14, 4))\n",
    "\n",
    "t = np.log(lambdas)\n",
    "for idx in range(1, coef_paths.shape[1]):\n",
    "     ax.plot(t, coef_paths[:, idx])"
   ]
  },
  {
   "cell_type": "code",
   "execution_count": 20,
   "metadata": {},
   "outputs": [
    {
     "data": {
      "text/plain": [
       "array([ 0.        ,  0.50106581, -0.74799594,  0.00181141,  0.99780373])"
      ]
     },
     "execution_count": 20,
     "metadata": {},
     "output_type": "execute_result"
    }
   ],
   "source": [
    "lr = LinearRegression()\n",
    "lr.fit(X, y)\n",
    "lr.coef_"
   ]
  },
  {
   "cell_type": "code",
   "execution_count": 21,
   "metadata": {},
   "outputs": [
    {
     "data": {
      "image/png": "[encoded data removed]",
      "text/plain": [
       "<matplotlib.figure.Figure at 0x11f883b38>"
      ]
     },
     "metadata": {},
     "output_type": "display_data"
    }
   ],
   "source": [
    "granular_paths = [np.row_stack([g.coef_ for g in enet_list]) for enet_list in gnet._enets]\n",
    "quad_approx_boundaries = np.cumsum([0] + [path.shape[0] for path in granular_paths])\n",
    "long_coef_path = np.row_stack(granular_paths)\n",
    "\n",
    "fig, ax = plt.subplots(figsize=(20, 6))\n",
    "t = np.arange(long_coef_path.shape[0])\n",
    "for idx in range(1, long_coef_path.shape[1]):\n",
    "    ax.plot(t, long_coef_path[:, idx])\n",
    "    \n",
    "for boundary in quad_approx_boundaries[:-1]:\n",
    "    ax.axvline(x=boundary, ymin=0, ymax=1, color=\"grey\", alpha=0.2)"
   ]
  },
  {
   "cell_type": "code",
   "execution_count": 22,
   "metadata": {},
   "outputs": [
    {
     "data": {
      "text/plain": [
       "array([ 0,  2,  3,  4,  5,  7,  9, 12, 14, 16, 18, 20, 22, 24, 26, 28, 30,\n",
       "       32, 34, 36, 38, 40, 42, 44, 46, 48, 50, 52, 54, 56, 57, 58, 60, 62,\n",
       "       64, 66, 68, 70, 72, 74, 76, 78, 80, 82, 84, 86, 88, 90, 91, 92, 93])"
      ]
     },
     "execution_count": 22,
     "metadata": {},
     "output_type": "execute_result"
    }
   ],
   "source": [
    "quad_approx_boundaries"
   ]
  },
  {
   "cell_type": "code",
   "execution_count": 23,
   "metadata": {},
   "outputs": [
    {
     "data": {
      "text/plain": [
       "93"
      ]
     },
     "execution_count": 23,
     "metadata": {},
     "output_type": "execute_result"
    }
   ],
   "source": [
    "long_coef_path.shape[0]"
   ]
  },
  {
   "cell_type": "markdown",
   "metadata": {},
   "source": [
    "## Logit Net"
   ]
  },
  {
   "cell_type": "code",
   "execution_count": 24,
   "metadata": {
    "collapsed": true
   },
   "outputs": [],
   "source": [
    "X = np.empty(shape=(100000, 6))\n",
    "X[:, 0] = 1.0\n",
    "X[:, 1] = np.random.normal(size=100000)\n",
    "X[:, 2] = np.random.normal(size=100000)\n",
    "X[:, 3] = 0.25*X[:, 1] + np.sqrt(1 - 0.25**2)*np.random.normal(size=100000)\n",
    "X[:, 4] = 0.25*X[:, 1] + np.sqrt(1 - 0.25**2)*np.random.normal(size=100000)\n",
    "#X[:, 3] = np.random.normal(size=100000)\n",
    "#X[:, 4] = np.random.normal(size=100000)\n",
    "X[:, 5] = np.random.normal(size=100000)\n",
    "\n",
    "lp = 0.05*X[:, 1] - 0.1*X[:, 2] -0.1*X[:, 3] + 0.075*X[:, 5]\n",
    "p = 1 / (1 + np.exp(-lp))\n",
    "y = np.random.binomial(1, p=p, size=100000)"
   ]
  },
  {
   "cell_type": "code",
   "execution_count": null,
   "metadata": {
    "collapsed": true
   },
   "outputs": [],
   "source": [
    "#s = StandardScaler()\n",
    "#X = s.fit_transform(X)\n",
    "#X[:, 0] = 1.0"
   ]
  },
  {
   "cell_type": "code",
   "execution_count": null,
   "metadata": {},
   "outputs": [],
   "source": [
    "lambdas = np.logspace(np.log10(0.000001), np.log10(1), num=50)\n",
    "lambdas = lambdas[::-1]\n",
    "\n",
    "gnet = GLMNet(family=Bernoulli(), alpha=0.2, lambdas=lambdas)\n",
    "gnet.fit(X, y)"
   ]
  },
  {
   "cell_type": "code",
   "execution_count": null,
   "metadata": {},
   "outputs": [],
   "source": [
    "coef_paths = np.row_stack([[g.coef_ for g in enets][-1] for enets in gnet._enets])\n",
    "\n",
    "fig, ax = plt.subplots(figsize=(14, 4))\n",
    "\n",
    "t = np.log(lambdas)\n",
    "for idx in range(1, coef_paths.shape[1]):\n",
    "     ax.plot(t, coef_paths[:, idx])"
   ]
  },
  {
   "cell_type": "code",
   "execution_count": null,
   "metadata": {},
   "outputs": [],
   "source": [
    "granular_paths = [np.row_stack([g.coef_ for g in enet_list]) for enet_list in gnet._enets]\n",
    "quad_approx_boundaries = np.cumsum([0] + [path.shape[0] for path in granular_paths])\n",
    "long_coef_path = np.row_stack(granular_paths)\n",
    "\n",
    "fig, ax = plt.subplots(figsize=(20, 6))\n",
    "t = np.arange(long_coef_path.shape[0])\n",
    "for idx in range(1, long_coef_path.shape[1]):\n",
    "    ax.plot(t, long_coef_path[:, idx])\n",
    "    \n",
    "for boundary in quad_approx_boundaries[:-1]:\n",
    "    ax.axvline(x=boundary, ymin=0, ymax=1, color=\"grey\", alpha=0.2)"
   ]
  },
  {
   "cell_type": "code",
   "execution_count": null,
   "metadata": {
    "collapsed": true
   },
   "outputs": [],
   "source": []
  }
 ],
 "metadata": {
  "kernelspec": {
   "display_name": "Python 3",
   "language": "python",
   "name": "python3"
  },
  "language_info": {
   "codemirror_mode": {
    "name": "ipython",
    "version": 3
   },
   "file_extension": ".py",
   "mimetype": "text/x-python",
   "name": "python",
   "nbconvert_exporter": "python",
   "pygments_lexer": "ipython3",
   "version": "3.6.1"
  }
 },
 "nbformat": 4,
 "nbformat_minor": 2
}
