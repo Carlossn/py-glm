{
 "cells": [
  {
   "cell_type": "code",
   "execution_count": 1,
   "metadata": {},
   "outputs": [
    {
     "name": "stderr",
     "output_type": "stream",
     "text": [
      "/Users/matthewdrury/anaconda/envs/py36/lib/python3.6/site-packages/matplotlib/__init__.py:913: UserWarning: axes.color_cycle is deprecated and replaced with axes.prop_cycle; please use the latter.\n",
      "  warnings.warn(self.msg_depr % (key, alt_key))\n"
     ]
    }
   ],
   "source": [
    "from glm.glmnet import ElasticNet\n",
    "import numpy as np\n",
    "\n",
    "from sklearn.linear_model import LinearRegression\n",
    "from sklearn.preprocessing import StandardScaler\n",
    "\n",
    "%matplotlib inline\n",
    "import matplotlib.pyplot as plt\n",
    "\n",
    "plt.style.use('ggplot')"
   ]
  },
  {
   "cell_type": "code",
   "execution_count": 24,
   "metadata": {},
   "outputs": [],
   "source": [
    "X = np.empty(shape=(100000, 5))\n",
    "X[:, 0] = 1.0\n",
    "X[:, 1] = np.random.normal(loc=1.0, size=100000)\n",
    "X[:, 2] = np.random.normal(scale=3.0, size=100000)\n",
    "X[:, 3] = 0.1*X[:, 1] + 0.9*np.random.normal(size=100000)\n",
    "X[:, 4] = -0.1*X[:, 1] + 0.9*np.random.normal(size=100000)\n",
    "\n",
    "y = 10 - 20*X[:, 1] + 5*X[:, 2] - X[:, 4] + np.random.normal(scale=0.2, size=100000)"
   ]
  },
  {
   "cell_type": "code",
   "execution_count": 25,
   "metadata": {
    "collapsed": true
   },
   "outputs": [],
   "source": [
    "#s = StandardScaler()\n",
    "#X = s.fit_transform(X)\n",
    "#X[:, 0] = 1.0"
   ]
  },
  {
   "cell_type": "code",
   "execution_count": 26,
   "metadata": {},
   "outputs": [
    {
     "data": {
      "text/plain": [
       "<glm.glmnet.ElasticNet at 0x116380cc0>"
      ]
     },
     "execution_count": 26,
     "metadata": {},
     "output_type": "execute_result"
    }
   ],
   "source": [
    "enet = ElasticNet(lam=0.0, alpha=0.0)\n",
    "enet.fit(X, y)"
   ]
  },
  {
   "cell_type": "code",
   "execution_count": 27,
   "metadata": {},
   "outputs": [
    {
     "data": {
      "text/plain": [
       "array([  9.97766846e+00,  -1.99894957e+01,   5.00016947e+00,\n",
       "        -3.86575183e-04,  -9.99718370e-01])"
      ]
     },
     "execution_count": 27,
     "metadata": {},
     "output_type": "execute_result"
    }
   ],
   "source": [
    "enet.coef_"
   ]
  },
  {
   "cell_type": "code",
   "execution_count": 28,
   "metadata": {},
   "outputs": [
    {
     "data": {
      "text/plain": [
       "LinearRegression(copy_X=True, fit_intercept=True, n_jobs=1, normalize=False)"
      ]
     },
     "execution_count": 28,
     "metadata": {},
     "output_type": "execute_result"
    }
   ],
   "source": [
    "lr = LinearRegression()\n",
    "lr.fit(X, y)"
   ]
  },
  {
   "cell_type": "code",
   "execution_count": 29,
   "metadata": {},
   "outputs": [
    {
     "data": {
      "text/plain": [
       "array([  0.00000000e+00,  -2.00008112e+01,   5.00019488e+00,\n",
       "        -4.40180639e-04,  -9.99765837e-01])"
      ]
     },
     "execution_count": 29,
     "metadata": {},
     "output_type": "execute_result"
    }
   ],
   "source": [
    "lr.coef_"
   ]
  },
  {
   "cell_type": "code",
   "execution_count": 30,
   "metadata": {
    "collapsed": true
   },
   "outputs": [],
   "source": [
    "lambdas = np.logspace(np.log10(0.000001), np.log10(50))"
   ]
  },
  {
   "cell_type": "code",
   "execution_count": 31,
   "metadata": {},
   "outputs": [
    {
     "data": {
      "text/plain": [
       "array([  1.00000000e-06,   1.43589220e-06,   2.06178641e-06,\n",
       "         2.96050303e-06,   4.25096322e-06,   6.10392494e-06,\n",
       "         8.76457821e-06,   1.25849895e-05,   1.80706883e-05,\n",
       "         2.59475604e-05,   3.72578996e-05,   5.34983275e-05,\n",
       "         7.68178313e-05,   1.10302125e-04,   1.58381961e-04,\n",
       "         2.27419422e-04,   3.26549775e-04,   4.68890276e-04,\n",
       "         6.73275890e-04,   9.66751600e-04,   1.38815108e-03,\n",
       "         1.99323532e-03,   2.86207105e-03,   4.10962549e-03,\n",
       "         5.90097920e-03,   8.47317001e-03,   1.21665587e-02,\n",
       "         1.74698668e-02,   2.50848455e-02,   3.60191341e-02,\n",
       "         5.17195937e-02,   7.42637613e-02,   1.06634756e-01,\n",
       "         1.53116014e-01,   2.19858091e-01,   3.15692518e-01,\n",
       "         4.53300424e-01,   6.50890544e-01,   9.34608657e-01,\n",
       "         1.34199728e+00,   1.92696343e+00,   2.76691176e+00,\n",
       "         3.97298702e+00,   5.70478108e+00,   8.19145067e+00,\n",
       "         1.17620401e+01,   1.68890217e+01,   2.42508146e+01,\n",
       "         3.48215555e+01,   5.00000000e+01])"
      ]
     },
     "execution_count": 31,
     "metadata": {},
     "output_type": "execute_result"
    }
   ],
   "source": [
    "lambdas"
   ]
  },
  {
   "cell_type": "code",
   "execution_count": 32,
   "metadata": {
    "collapsed": true
   },
   "outputs": [],
   "source": [
    "enets = []\n",
    "for lam in lambdas:\n",
    "    enet = ElasticNet(lam=lam, alpha=0.25)\n",
    "    enet.fit(X, y)\n",
    "    enets.append(enet.coef_)"
   ]
  },
  {
   "cell_type": "code",
   "execution_count": 33,
   "metadata": {
    "collapsed": true
   },
   "outputs": [],
   "source": [
    "coef_paths = np.row_stack(enets)"
   ]
  },
  {
   "cell_type": "code",
   "execution_count": 34,
   "metadata": {},
   "outputs": [
    {
     "data": {
      "image/png": "[encoded data removed]",
      "text/plain": [
       "<matplotlib.figure.Figure at 0x1194fe128>"
      ]
     },
     "metadata": {},
     "output_type": "display_data"
    }
   ],
   "source": [
    "fig, ax = plt.subplots(figsize=(14, 4))\n",
    "\n",
    "t = np.log(lambdas)\n",
    "for idx in range(coef_paths.shape[1]):\n",
    "    ax.plot(t, coef_paths[:, idx])\n",
    "    "
   ]
  },
  {
   "cell_type": "code",
   "execution_count": null,
   "metadata": {
    "collapsed": true
   },
   "outputs": [],
   "source": []
  }
 ],
 "metadata": {
  "kernelspec": {
   "display_name": "Python 3",
   "language": "python",
   "name": "python3"
  },
  "language_info": {
   "codemirror_mode": {
    "name": "ipython",
    "version": 3
   },
   "file_extension": ".py",
   "mimetype": "text/x-python",
   "name": "python",
   "nbconvert_exporter": "python",
   "pygments_lexer": "ipython3",
   "version": "3.6.1"
  }
 },
 "nbformat": 4,
 "nbformat_minor": 2
}
