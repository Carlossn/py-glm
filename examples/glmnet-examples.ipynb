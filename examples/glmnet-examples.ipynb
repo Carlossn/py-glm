{
 "cells": [
  {
   "cell_type": "code",
   "execution_count": 1,
   "metadata": {},
   "outputs": [
    {
     "name": "stderr",
     "output_type": "stream",
     "text": [
      "/Users/matthewdrury/anaconda/envs/py36/lib/python3.6/site-packages/matplotlib/__init__.py:913: UserWarning: axes.color_cycle is deprecated and replaced with axes.prop_cycle; please use the latter.\n",
      "  warnings.warn(self.msg_depr % (key, alt_key))\n"
     ]
    }
   ],
   "source": [
    "from glm.glmnet import ElasticNet, GLMNet\n",
    "from glm.families import Gaussian, Bernoulli\n",
    "import numpy as np\n",
    "\n",
    "from sklearn.linear_model import LinearRegression\n",
    "from sklearn.preprocessing import StandardScaler\n",
    "\n",
    "%matplotlib inline\n",
    "import matplotlib.pyplot as plt\n",
    "\n",
    "plt.style.use('ggplot')"
   ]
  },
  {
   "cell_type": "code",
   "execution_count": 2,
   "metadata": {
    "collapsed": true
   },
   "outputs": [],
   "source": [
    "X = np.empty(shape=(100000, 5))\n",
    "X[:, 0] = 1.0\n",
    "X[:, 1] = np.random.normal(size=100000)\n",
    "X[:, 2] = np.random.normal(size=100000)\n",
    "X[:, 3] = 0.1*X[:, 1] + 0.9*np.random.normal(size=100000)\n",
    "X[:, 4] = -0.1*X[:, 1] + 0.9*np.random.normal(size=100000)\n",
    "\n",
    "y = 10 + 5*X[:, 1] - 20*X[:, 2] - X[:, 4] + np.random.normal(scale=0.2, size=100000)\n",
    "\n",
    "sample_weights = np.random.uniform(size=100000)"
   ]
  },
  {
   "cell_type": "code",
   "execution_count": 3,
   "metadata": {
    "collapsed": true
   },
   "outputs": [],
   "source": [
    "s = StandardScaler()\n",
    "X = s.fit_transform(X)\n",
    "X[:, 0] = 1.0"
   ]
  },
  {
   "cell_type": "code",
   "execution_count": 4,
   "metadata": {},
   "outputs": [
    {
     "data": {
      "text/plain": [
       "<glm.glmnet.ElasticNet at 0x11bec38d0>"
      ]
     },
     "execution_count": 4,
     "metadata": {},
     "output_type": "execute_result"
    }
   ],
   "source": [
    "enet = ElasticNet(lam=0.0, alpha=0.0)\n",
    "enet.fit(X, y, sample_weights=sample_weights)"
   ]
  },
  {
   "cell_type": "code",
   "execution_count": 5,
   "metadata": {},
   "outputs": [
    {
     "data": {
      "text/plain": [
       "array([  1.00327832e+01,   4.99412751e+00,  -2.00686517e+01,\n",
       "        -3.08011408e-04,  -9.03082197e-01])"
      ]
     },
     "execution_count": 5,
     "metadata": {},
     "output_type": "execute_result"
    }
   ],
   "source": [
    "enet.coef_"
   ]
  },
  {
   "cell_type": "code",
   "execution_count": 6,
   "metadata": {},
   "outputs": [
    {
     "data": {
      "text/plain": [
       "LinearRegression(copy_X=True, fit_intercept=True, n_jobs=1, normalize=False)"
      ]
     },
     "execution_count": 6,
     "metadata": {},
     "output_type": "execute_result"
    }
   ],
   "source": [
    "lr = LinearRegression()\n",
    "lr.fit(X, y)"
   ]
  },
  {
   "cell_type": "code",
   "execution_count": 7,
   "metadata": {},
   "outputs": [
    {
     "data": {
      "text/plain": [
       "array([  0.00000000e+00,   4.99381725e+00,  -2.00681276e+01,\n",
       "        -2.68377466e-04,  -9.03841703e-01])"
      ]
     },
     "execution_count": 7,
     "metadata": {},
     "output_type": "execute_result"
    }
   ],
   "source": [
    "lr.coef_"
   ]
  },
  {
   "cell_type": "code",
   "execution_count": 8,
   "metadata": {
    "collapsed": true
   },
   "outputs": [],
   "source": [
    "lambdas = np.logspace(np.log10(0.000001), np.log10(50))"
   ]
  },
  {
   "cell_type": "code",
   "execution_count": 9,
   "metadata": {},
   "outputs": [
    {
     "data": {
      "text/plain": [
       "array([  1.00000000e-06,   1.43589220e-06,   2.06178641e-06,\n",
       "         2.96050303e-06,   4.25096322e-06,   6.10392494e-06,\n",
       "         8.76457821e-06,   1.25849895e-05,   1.80706883e-05,\n",
       "         2.59475604e-05,   3.72578996e-05,   5.34983275e-05,\n",
       "         7.68178313e-05,   1.10302125e-04,   1.58381961e-04,\n",
       "         2.27419422e-04,   3.26549775e-04,   4.68890276e-04,\n",
       "         6.73275890e-04,   9.66751600e-04,   1.38815108e-03,\n",
       "         1.99323532e-03,   2.86207105e-03,   4.10962549e-03,\n",
       "         5.90097920e-03,   8.47317001e-03,   1.21665587e-02,\n",
       "         1.74698668e-02,   2.50848455e-02,   3.60191341e-02,\n",
       "         5.17195937e-02,   7.42637613e-02,   1.06634756e-01,\n",
       "         1.53116014e-01,   2.19858091e-01,   3.15692518e-01,\n",
       "         4.53300424e-01,   6.50890544e-01,   9.34608657e-01,\n",
       "         1.34199728e+00,   1.92696343e+00,   2.76691176e+00,\n",
       "         3.97298702e+00,   5.70478108e+00,   8.19145067e+00,\n",
       "         1.17620401e+01,   1.68890217e+01,   2.42508146e+01,\n",
       "         3.48215555e+01,   5.00000000e+01])"
      ]
     },
     "execution_count": 9,
     "metadata": {},
     "output_type": "execute_result"
    }
   ],
   "source": [
    "lambdas"
   ]
  },
  {
   "cell_type": "code",
   "execution_count": 10,
   "metadata": {},
   "outputs": [
    {
     "name": "stdout",
     "output_type": "stream",
     "text": [
      "Next model\n",
      "\n",
      "Next model\n",
      "\n",
      "Next model\n",
      "\n",
      "Next model\n",
      "\n",
      "Next model\n",
      "\n",
      "Next model\n",
      "\n",
      "Next model\n",
      "\n",
      "Next model\n",
      "\n",
      "Next model\n",
      "\n",
      "Next model\n",
      "\n",
      "Next model\n",
      "\n",
      "Next model\n",
      "\n",
      "Next model\n",
      "\n",
      "Next model\n",
      "\n",
      "Next model\n",
      "\n",
      "Next model\n",
      "\n",
      "Next model\n",
      "\n",
      "Next model\n",
      "\n",
      "Next model\n",
      "\n",
      "Next model\n",
      "\n",
      "Next model\n",
      "\n",
      "Next model\n",
      "\n",
      "Next model\n",
      "\n",
      "Next model\n",
      "\n",
      "Next model\n",
      "\n",
      "Next model\n",
      "\n",
      "Next model\n",
      "\n",
      "Next model\n",
      "\n",
      "Next model\n",
      "\n",
      "Next model\n",
      "\n",
      "Next model\n",
      "\n",
      "Next model\n",
      "\n",
      "Next model\n",
      "\n",
      "Next model\n",
      "\n",
      "Next model\n",
      "\n",
      "Next model\n",
      "\n",
      "Next model\n",
      "\n",
      "Next model\n",
      "\n",
      "Next model\n",
      "\n",
      "Next model\n",
      "\n",
      "Next model\n",
      "\n",
      "Next model\n",
      "\n",
      "Next model\n",
      "\n",
      "Next model\n",
      "\n",
      "Next model\n",
      "\n",
      "Next model\n",
      "\n",
      "Next model\n",
      "\n",
      "Next model\n",
      "\n",
      "Next model\n",
      "\n",
      "Next model\n",
      "\n"
     ]
    }
   ],
   "source": [
    "enets = []\n",
    "for lam in lambdas:\n",
    "    print(\"Next model\")\n",
    "    print()\n",
    "    enet = ElasticNet(lam=lam, alpha=0.2)\n",
    "    enet.fit(X, y)\n",
    "    enets.append(enet.coef_)"
   ]
  },
  {
   "cell_type": "code",
   "execution_count": 11,
   "metadata": {
    "collapsed": true
   },
   "outputs": [],
   "source": [
    "coef_paths = np.row_stack(enets)"
   ]
  },
  {
   "cell_type": "code",
   "execution_count": 12,
   "metadata": {},
   "outputs": [
    {
     "data": {
      "image/png": "[encoded data removed]",
      "text/plain": [
       "<matplotlib.figure.Figure at 0x11bed62b0>"
      ]
     },
     "metadata": {},
     "output_type": "display_data"
    }
   ],
   "source": [
    "fig, ax = plt.subplots(figsize=(14, 4))\n",
    "\n",
    "t = np.log(lambdas)\n",
    "for idx in range(coef_paths.shape[1]):\n",
    "    ax.plot(t, coef_paths[:, idx])"
   ]
  },
  {
   "cell_type": "code",
   "execution_count": 13,
   "metadata": {},
   "outputs": [
    {
     "data": {
      "text/plain": [
       "array([ 10.29076996,   9.86744   ,   9.95708256, ...,  10.3660144 ,\n",
       "        10.0027209 ,   9.7864006 ])"
      ]
     },
     "execution_count": 13,
     "metadata": {},
     "output_type": "execute_result"
    }
   ],
   "source": [
    "enet.predict(X)"
   ]
  },
  {
   "cell_type": "markdown",
   "metadata": {},
   "source": [
    "## GlmNet"
   ]
  },
  {
   "cell_type": "code",
   "execution_count": 14,
   "metadata": {},
   "outputs": [],
   "source": [
    "lambdas = np.array([50, 45, 40, 35, 30, 20, 10, 0])"
   ]
  },
  {
   "cell_type": "code",
   "execution_count": 15,
   "metadata": {
    "collapsed": true
   },
   "outputs": [],
   "source": [
    "gnet = GLMNet(family=Gaussian(), alpha=0.2, lambdas=lambdas)"
   ]
  },
  {
   "cell_type": "code",
   "execution_count": 16,
   "metadata": {},
   "outputs": [],
   "source": [
    "gnet.fit(X, y)"
   ]
  },
  {
   "cell_type": "code",
   "execution_count": 17,
   "metadata": {},
   "outputs": [
    {
     "data": {
      "text/plain": [
       "[array([ 10.03244288,   0.        ,  -0.24624259,   0.        ,   0.        ]),\n",
       " array([ 10.03244288,   0.        ,  -0.29989044,   0.        ,   0.        ]),\n",
       " array([ 10.03244288,   0.        ,  -0.36654383,   0.        ,   0.        ]),\n",
       " array([ 10.03244288,   0.        ,  -0.45158435,   0.        ,   0.        ]),\n",
       " array([ 10.03244288,   0.        ,  -0.56383785,   0.        ,   0.        ]),\n",
       " array([ 10.03244288,   0.06985235,  -0.95092933,   0.        ,   0.        ]),\n",
       " array([ 10.03244288,   0.35356927,  -2.04994617,   0.        ,   0.        ]),\n",
       " array([  1.00324429e+01,   5.07202701e+00,  -2.52623230e+01,\n",
       "         -2.48552076e-02,  -8.75719714e-01])]"
      ]
     },
     "execution_count": 17,
     "metadata": {},
     "output_type": "execute_result"
    }
   ],
   "source": [
    "[g.coef_ for g in gnet._enets]"
   ]
  },
  {
   "cell_type": "markdown",
   "metadata": {},
   "source": [
    "## Logit Net"
   ]
  },
  {
   "cell_type": "code",
   "execution_count": null,
   "metadata": {
    "collapsed": true
   },
   "outputs": [],
   "source": []
  }
 ],
 "metadata": {
  "kernelspec": {
   "display_name": "Python 3",
   "language": "python",
   "name": "python3"
  },
  "language_info": {
   "codemirror_mode": {
    "name": "ipython",
    "version": 3
   },
   "file_extension": ".py",
   "mimetype": "text/x-python",
   "name": "python",
   "nbconvert_exporter": "python",
   "pygments_lexer": "ipython3",
   "version": "3.6.1"
  }
 },
 "nbformat": 4,
 "nbformat_minor": 2
}
