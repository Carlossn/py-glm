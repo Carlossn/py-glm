{
 "cells": [
  {
   "cell_type": "code",
   "execution_count": 2,
   "metadata": {},
   "outputs": [
    {
     "name": "stderr",
     "output_type": "stream",
     "text": [
      "/Users/matthewdrury/anaconda/envs/py36/lib/python3.6/site-packages/matplotlib/__init__.py:913: UserWarning: axes.color_cycle is deprecated and replaced with axes.prop_cycle; please use the latter.\n",
      "  warnings.warn(self.msg_depr % (key, alt_key))\n",
      "/Users/matthewdrury/anaconda/envs/py36/lib/python3.6/site-packages/statsmodels/compat/pandas.py:56: FutureWarning: The pandas.core.datetools module is deprecated and will be removed in a future version. Please use the pandas.tseries module instead.\n",
      "  from pandas.core import datetools\n"
     ]
    }
   ],
   "source": [
    "import numpy as np\n",
    "from glm.families import Gaussian, Bernoulli, Poisson, Gamma\n",
    "from glm.glm import GLM\n",
    "from glm.simulation import Simulation\n",
    "\n",
    "import statsmodels.api as sm\n",
    "import statsmodels"
   ]
  },
  {
   "cell_type": "code",
   "execution_count": 3,
   "metadata": {
    "collapsed": true
   },
   "outputs": [],
   "source": [
    "N = 10000\n",
    "X = np.empty(shape=(N, 3))\n",
    "X[:, 0] = 1.0\n",
    "X[:, 1] = np.random.uniform(size=N)\n",
    "X[:, 2] = np.random.uniform(size=N)\n",
    "nu = 1 - 2*X[:, 1] + X[:, 2]"
   ]
  },
  {
   "cell_type": "markdown",
   "metadata": {},
   "source": [
    "## Linear Model"
   ]
  },
  {
   "cell_type": "code",
   "execution_count": 4,
   "metadata": {},
   "outputs": [
    {
     "ename": "NameError",
     "evalue": "name 'np' is not defined",
     "output_type": "error",
     "traceback": [
      "\u001b[0;31m---------------------------------------------------------------------------\u001b[0m",
      "\u001b[0;31mNameError\u001b[0m                                 Traceback (most recent call last)",
      "\u001b[0;32m<ipython-input-4-47021c718341>\u001b[0m in \u001b[0;36m<module>\u001b[0;34m()\u001b[0m\n\u001b[1;32m      1\u001b[0m \u001b[0my\u001b[0m \u001b[0;34m=\u001b[0m \u001b[0mnu\u001b[0m \u001b[0;34m+\u001b[0m \u001b[0mnp\u001b[0m\u001b[0;34m.\u001b[0m\u001b[0mrandom\u001b[0m\u001b[0;34m.\u001b[0m\u001b[0mnormal\u001b[0m\u001b[0;34m(\u001b[0m\u001b[0msize\u001b[0m\u001b[0;34m=\u001b[0m\u001b[0mN\u001b[0m\u001b[0;34m)\u001b[0m\u001b[0;34m\u001b[0m\u001b[0m\n\u001b[1;32m      2\u001b[0m \u001b[0mmodel\u001b[0m \u001b[0;34m=\u001b[0m \u001b[0mGLM\u001b[0m\u001b[0;34m(\u001b[0m\u001b[0mfamily\u001b[0m\u001b[0;34m=\u001b[0m\u001b[0mGaussian\u001b[0m\u001b[0;34m(\u001b[0m\u001b[0;34m)\u001b[0m\u001b[0;34m)\u001b[0m\u001b[0;34m\u001b[0m\u001b[0m\n\u001b[0;32m----> 3\u001b[0;31m \u001b[0mmodel\u001b[0m\u001b[0;34m.\u001b[0m\u001b[0mfit\u001b[0m\u001b[0;34m(\u001b[0m\u001b[0mX\u001b[0m\u001b[0;34m,\u001b[0m \u001b[0my\u001b[0m\u001b[0;34m)\u001b[0m\u001b[0;34m\u001b[0m\u001b[0m\n\u001b[0m",
      "\u001b[0;32m~/anaconda/envs/py36/lib/python3.6/site-packages/glm/glm.py\u001b[0m in \u001b[0;36mfit\u001b[0;34m(self, X, y, warm_start, offset, sample_weights, max_iter, tol)\u001b[0m\n\u001b[1;32m    124\u001b[0m         \"\"\"\n\u001b[1;32m    125\u001b[0m         \u001b[0mcheck_commensurate\u001b[0m\u001b[0;34m(\u001b[0m\u001b[0mX\u001b[0m\u001b[0;34m,\u001b[0m \u001b[0my\u001b[0m\u001b[0;34m)\u001b[0m\u001b[0;34m\u001b[0m\u001b[0m\n\u001b[0;32m--> 126\u001b[0;31m         \u001b[0mcheck_intercept\u001b[0m\u001b[0;34m(\u001b[0m\u001b[0mX\u001b[0m\u001b[0;34m)\u001b[0m\u001b[0;34m\u001b[0m\u001b[0m\n\u001b[0m\u001b[1;32m    127\u001b[0m         \u001b[0;32mif\u001b[0m \u001b[0mwarm_start\u001b[0m \u001b[0;32mis\u001b[0m \u001b[0;32mNone\u001b[0m\u001b[0;34m:\u001b[0m\u001b[0;34m\u001b[0m\u001b[0m\n\u001b[1;32m    128\u001b[0m             \u001b[0minitial_intercept\u001b[0m \u001b[0;34m=\u001b[0m \u001b[0mnp\u001b[0m\u001b[0;34m.\u001b[0m\u001b[0mmean\u001b[0m\u001b[0;34m(\u001b[0m\u001b[0my\u001b[0m\u001b[0;34m)\u001b[0m\u001b[0;34m\u001b[0m\u001b[0m\n",
      "\u001b[0;32m~/anaconda/envs/py36/lib/python3.6/site-packages/glm/utils.py\u001b[0m in \u001b[0;36mcheck_intercept\u001b[0;34m(X)\u001b[0m\n\u001b[1;32m     12\u001b[0m \u001b[0;34m\u001b[0m\u001b[0m\n\u001b[1;32m     13\u001b[0m \u001b[0;32mdef\u001b[0m \u001b[0mcheck_intercept\u001b[0m\u001b[0;34m(\u001b[0m\u001b[0mX\u001b[0m\u001b[0;34m)\u001b[0m\u001b[0;34m:\u001b[0m\u001b[0;34m\u001b[0m\u001b[0m\n\u001b[0;32m---> 14\u001b[0;31m     \u001b[0;32mif\u001b[0m \u001b[0;32mnot\u001b[0m \u001b[0mhas_intercept_column\u001b[0m\u001b[0;34m(\u001b[0m\u001b[0mX\u001b[0m\u001b[0;34m)\u001b[0m\u001b[0;34m:\u001b[0m\u001b[0;34m\u001b[0m\u001b[0m\n\u001b[0m\u001b[1;32m     15\u001b[0m         \u001b[0;32mraise\u001b[0m \u001b[0mValueError\u001b[0m\u001b[0;34m(\u001b[0m\u001b[0;34m\"First column in matrix X is not an intercept.\"\u001b[0m\u001b[0;34m)\u001b[0m\u001b[0;34m\u001b[0m\u001b[0m\n\u001b[1;32m     16\u001b[0m \u001b[0;34m\u001b[0m\u001b[0m\n",
      "\u001b[0;32m~/anaconda/envs/py36/lib/python3.6/site-packages/glm/utils.py\u001b[0m in \u001b[0;36mhas_intercept_column\u001b[0;34m(X)\u001b[0m\n\u001b[1;32m      9\u001b[0m \u001b[0;34m\u001b[0m\u001b[0m\n\u001b[1;32m     10\u001b[0m \u001b[0;32mdef\u001b[0m \u001b[0mhas_intercept_column\u001b[0m\u001b[0;34m(\u001b[0m\u001b[0mX\u001b[0m\u001b[0;34m)\u001b[0m\u001b[0;34m:\u001b[0m\u001b[0;34m\u001b[0m\u001b[0m\n\u001b[0;32m---> 11\u001b[0;31m     \u001b[0;32mreturn\u001b[0m \u001b[0mnp\u001b[0m\u001b[0;34m.\u001b[0m\u001b[0mall\u001b[0m\u001b[0;34m(\u001b[0m\u001b[0mX\u001b[0m\u001b[0;34m[\u001b[0m\u001b[0;34m:\u001b[0m\u001b[0;34m,\u001b[0m \u001b[0;36m0\u001b[0m\u001b[0;34m]\u001b[0m \u001b[0;34m==\u001b[0m \u001b[0;36m1.0\u001b[0m\u001b[0;34m)\u001b[0m\u001b[0;34m\u001b[0m\u001b[0m\n\u001b[0m\u001b[1;32m     12\u001b[0m \u001b[0;34m\u001b[0m\u001b[0m\n\u001b[1;32m     13\u001b[0m \u001b[0;32mdef\u001b[0m \u001b[0mcheck_intercept\u001b[0m\u001b[0;34m(\u001b[0m\u001b[0mX\u001b[0m\u001b[0;34m)\u001b[0m\u001b[0;34m:\u001b[0m\u001b[0;34m\u001b[0m\u001b[0m\n",
      "\u001b[0;31mNameError\u001b[0m: name 'np' is not defined"
     ]
    }
   ],
   "source": [
    "y = nu + np.random.normal(size=N)\n",
    "model = GLM(family=Gaussian())\n",
    "model.fit(X, y)"
   ]
  },
  {
   "cell_type": "code",
   "execution_count": 4,
   "metadata": {},
   "outputs": [
    {
     "data": {
      "text/plain": [
       "array([ 0.99635543, -1.99629741,  1.00064224])"
      ]
     },
     "execution_count": 4,
     "metadata": {},
     "output_type": "execute_result"
    }
   ],
   "source": [
    "model.coef_"
   ]
  },
  {
   "cell_type": "code",
   "execution_count": 5,
   "metadata": {},
   "outputs": [
    {
     "data": {
      "text/plain": [
       "array([[  7.14102057e-04,  -6.26724241e-04,  -6.08710202e-04],\n",
       "       [ -6.26724241e-04,   1.25421734e-03,   9.25665417e-06],\n",
       "       [ -6.08710202e-04,   9.25665417e-06,   1.22054212e-03]])"
      ]
     },
     "execution_count": 5,
     "metadata": {},
     "output_type": "execute_result"
    }
   ],
   "source": [
    "model.coef_covariance_matrix_"
   ]
  },
  {
   "cell_type": "code",
   "execution_count": 6,
   "metadata": {},
   "outputs": [
    {
     "data": {
      "text/plain": [
       "array([ 0.02672269,  0.03541493,  0.03493626])"
      ]
     },
     "execution_count": 6,
     "metadata": {},
     "output_type": "execute_result"
    }
   ],
   "source": [
    "model.coef_standard_error_"
   ]
  },
  {
   "cell_type": "code",
   "execution_count": 7,
   "metadata": {},
   "outputs": [
    {
     "name": "stdout",
     "output_type": "stream",
     "text": [
      "                            OLS Regression Results                            \n",
      "==============================================================================\n",
      "Dep. Variable:                      y   R-squared:                       0.287\n",
      "Model:                            OLS   Adj. R-squared:                  0.287\n",
      "Method:                 Least Squares   F-statistic:                     2011.\n",
      "Date:                Tue, 05 Sep 2017   Prob (F-statistic):               0.00\n",
      "Time:                        20:24:31   Log-Likelihood:                -14284.\n",
      "No. Observations:               10000   AIC:                         2.857e+04\n",
      "Df Residuals:                    9997   BIC:                         2.860e+04\n",
      "Df Model:                           2                                         \n",
      "Covariance Type:            nonrobust                                         \n",
      "==============================================================================\n",
      "                 coef    std err          t      P>|t|      [0.025      0.975]\n",
      "------------------------------------------------------------------------------\n",
      "const          0.9964      0.027     37.285      0.000       0.944       1.049\n",
      "x1            -1.9963      0.035    -56.369      0.000      -2.066      -1.927\n",
      "x2             1.0006      0.035     28.642      0.000       0.932       1.069\n",
      "==============================================================================\n",
      "Omnibus:                        1.369   Durbin-Watson:                   1.978\n",
      "Prob(Omnibus):                  0.504   Jarque-Bera (JB):                1.334\n",
      "Skew:                          -0.025   Prob(JB):                        0.513\n",
      "Kurtosis:                       3.027   Cond. No.                         5.31\n",
      "==============================================================================\n",
      "\n",
      "Warnings:\n",
      "[1] Standard Errors assume that the covariance matrix of the errors is correctly specified.\n"
     ]
    }
   ],
   "source": [
    "mod = sm.OLS(y, X)\n",
    "res = mod.fit()\n",
    "print(res.summary())"
   ]
  },
  {
   "cell_type": "markdown",
   "metadata": {},
   "source": [
    "## Run some simulations off the linear model."
   ]
  },
  {
   "cell_type": "code",
   "execution_count": 8,
   "metadata": {
    "collapsed": true
   },
   "outputs": [],
   "source": [
    "s = Simulation(model)"
   ]
  },
  {
   "cell_type": "code",
   "execution_count": 9,
   "metadata": {},
   "outputs": [
    {
     "data": {
      "text/plain": [
       "array([[ 3.70129661, -0.6846578 , -0.09455588, ...,  0.77735591,\n",
       "        -0.78314013, -0.1368336 ],\n",
       "       [ 1.26816058,  1.58064373, -0.63720806, ...,  1.0595045 ,\n",
       "         1.32458491,  0.14019694],\n",
       "       [ 2.19145526, -1.38957948, -0.24567161, ..., -1.59956006,\n",
       "         0.93516367, -0.77032893],\n",
       "       ..., \n",
       "       [ 1.5610019 , -1.97574987, -0.43519168, ...,  0.13564043,\n",
       "         0.26483758, -1.01793018],\n",
       "       [ 0.70239723, -2.25595563, -2.79748173, ...,  1.31902664,\n",
       "         0.43670634,  2.01167441],\n",
       "       [ 2.08770028,  1.14225446, -0.10541682, ..., -0.33825367,\n",
       "        -0.63851084,  1.26672304]])"
      ]
     },
     "execution_count": 9,
     "metadata": {},
     "output_type": "execute_result"
    }
   ],
   "source": [
    "s.sample(X)"
   ]
  },
  {
   "cell_type": "code",
   "execution_count": 10,
   "metadata": {},
   "outputs": [
    {
     "name": "stdout",
     "output_type": "stream",
     "text": [
      "[ 0.98162236 -2.03567327  1.01568139]\n",
      "[ 1.01062235 -2.02111842  0.98941209]\n",
      "[ 0.98177338 -1.93334512  0.9635636 ]\n",
      "[ 0.97348952 -1.96427168  1.00651917]\n",
      "[ 1.02700507 -1.99583012  0.97857184]\n",
      "[ 1.0269677  -2.03274058  0.93637709]\n",
      "[ 0.98656013 -1.97215881  0.98412844]\n",
      "[ 0.99296205 -1.94002276  0.93362129]\n",
      "[ 0.95122823 -1.937337    1.02629062]\n",
      "[ 0.98781081 -1.97403761  0.9849708 ]\n"
     ]
    }
   ],
   "source": [
    "models = s.parametric_bootstrap(X, n_sim=10)\n",
    "for model in models:\n",
    "    print(model.coef_)"
   ]
  },
  {
   "cell_type": "code",
   "execution_count": 11,
   "metadata": {},
   "outputs": [
    {
     "name": "stdout",
     "output_type": "stream",
     "text": [
      "[ 0.98958337 -1.99858477  1.02894515]\n",
      "[ 0.98910574 -1.98980774  1.01597902]\n",
      "[ 1.00686395 -2.03099162  1.02014553]\n",
      "[ 0.97955368 -1.99309755  1.05420866]\n",
      "[ 1.00916242 -2.03016171  1.00387838]\n",
      "[ 0.96171034 -1.9965813   1.074397  ]\n",
      "[ 0.99978291 -1.97152692  0.99051099]\n",
      "[ 0.9870019  -1.98532416  1.0078555 ]\n",
      "[ 0.98754665 -2.08987659  1.06658947]\n",
      "[ 0.96139181 -1.96498539  1.02310981]\n"
     ]
    }
   ],
   "source": [
    "models = s.non_parametric_bootstrap(X, y, n_sim=10)\n",
    "for model in models:\n",
    "    print(model.coef_)"
   ]
  },
  {
   "cell_type": "markdown",
   "metadata": {},
   "source": [
    "## Linear Model with Sample Weights"
   ]
  },
  {
   "cell_type": "code",
   "execution_count": 12,
   "metadata": {
    "collapsed": true
   },
   "outputs": [],
   "source": [
    "sample_weights = np.random.uniform(0, 2, size=N)"
   ]
  },
  {
   "cell_type": "code",
   "execution_count": 13,
   "metadata": {
    "collapsed": true
   },
   "outputs": [],
   "source": [
    "model = GLM(family=Gaussian())\n",
    "model = model.fit(X, y, sample_weights=sample_weights)"
   ]
  },
  {
   "cell_type": "code",
   "execution_count": 14,
   "metadata": {},
   "outputs": [
    {
     "data": {
      "text/plain": [
       "array([ 0.98002025, -1.97878839,  0.99701917])"
      ]
     },
     "execution_count": 14,
     "metadata": {},
     "output_type": "execute_result"
    }
   ],
   "source": [
    "model.coef_"
   ]
  },
  {
   "cell_type": "markdown",
   "metadata": {},
   "source": [
    "## Logistic Model"
   ]
  },
  {
   "cell_type": "code",
   "execution_count": 15,
   "metadata": {
    "collapsed": true
   },
   "outputs": [],
   "source": [
    "p = 1 / (1 + np.exp(-nu))\n",
    "y_logistic = np.random.binomial(1, p=p, size=N)"
   ]
  },
  {
   "cell_type": "code",
   "execution_count": 16,
   "metadata": {},
   "outputs": [
    {
     "data": {
      "text/plain": [
       "<glm.GLM at 0x1145431d0>"
      ]
     },
     "execution_count": 16,
     "metadata": {},
     "output_type": "execute_result"
    }
   ],
   "source": [
    "model = GLM(family=Bernoulli())\n",
    "model.fit(X, y_logistic)"
   ]
  },
  {
   "cell_type": "code",
   "execution_count": 17,
   "metadata": {},
   "outputs": [
    {
     "data": {
      "text/plain": [
       "array([ 0.89871355, -1.91699804,  1.03891725])"
      ]
     },
     "execution_count": 17,
     "metadata": {},
     "output_type": "execute_result"
    }
   ],
   "source": [
    "model.coef_"
   ]
  },
  {
   "cell_type": "code",
   "execution_count": 18,
   "metadata": {},
   "outputs": [
    {
     "data": {
      "text/plain": [
       "array(1.0)"
      ]
     },
     "execution_count": 18,
     "metadata": {},
     "output_type": "execute_result"
    }
   ],
   "source": [
    "model.dispersion_"
   ]
  },
  {
   "cell_type": "code",
   "execution_count": 19,
   "metadata": {},
   "outputs": [
    {
     "data": {
      "text/plain": [
       "array([[ 0.00320247, -0.00296787, -0.00247548],\n",
       "       [-0.00296787,  0.00597349, -0.00036727],\n",
       "       [-0.00247548, -0.00036727,  0.00557585]])"
      ]
     },
     "execution_count": 19,
     "metadata": {},
     "output_type": "execute_result"
    }
   ],
   "source": [
    "model.coef_covariance_matrix_"
   ]
  },
  {
   "cell_type": "code",
   "execution_count": 20,
   "metadata": {},
   "outputs": [
    {
     "data": {
      "text/plain": [
       "array([ 0.05659035,  0.07728837,  0.07467164])"
      ]
     },
     "execution_count": 20,
     "metadata": {},
     "output_type": "execute_result"
    }
   ],
   "source": [
    "model.coef_standard_error_"
   ]
  },
  {
   "cell_type": "code",
   "execution_count": 21,
   "metadata": {},
   "outputs": [
    {
     "name": "stdout",
     "output_type": "stream",
     "text": [
      "Optimization terminated successfully.\n",
      "         Current function value: 0.628920\n",
      "         Iterations 5\n",
      "                           Logit Regression Results                           \n",
      "==============================================================================\n",
      "Dep. Variable:                      y   No. Observations:                10000\n",
      "Model:                          Logit   Df Residuals:                     9997\n",
      "Method:                           MLE   Df Model:                            2\n",
      "Date:                Tue, 05 Sep 2017   Pseudo R-squ.:                 0.06309\n",
      "Time:                        20:24:31   Log-Likelihood:                -6289.2\n",
      "converged:                       True   LL-Null:                       -6712.7\n",
      "                                        LLR p-value:                1.172e-184\n",
      "==============================================================================\n",
      "                 coef    std err          z      P>|z|      [0.025      0.975]\n",
      "------------------------------------------------------------------------------\n",
      "const          0.8987      0.057     15.881      0.000       0.788       1.010\n",
      "x1            -1.9170      0.077    -24.803      0.000      -2.068      -1.766\n",
      "x2             1.0389      0.075     13.913      0.000       0.893       1.185\n",
      "==============================================================================\n"
     ]
    }
   ],
   "source": [
    "mod = sm.Logit(y_logistic, X)\n",
    "res = mod.fit()\n",
    "print(res.summary())"
   ]
  },
  {
   "cell_type": "code",
   "execution_count": 22,
   "metadata": {
    "collapsed": true
   },
   "outputs": [],
   "source": [
    "s = Simulation(model)"
   ]
  },
  {
   "cell_type": "code",
   "execution_count": 23,
   "metadata": {},
   "outputs": [
    {
     "data": {
      "text/plain": [
       "array([[ 1.,  1.,  0., ...,  0.,  1.,  1.],\n",
       "       [ 1.,  1.,  0., ...,  1.,  1.,  0.],\n",
       "       [ 1.,  1.,  1., ...,  1.,  0.,  0.],\n",
       "       ..., \n",
       "       [ 1.,  0.,  0., ...,  0.,  1.,  0.],\n",
       "       [ 0.,  0.,  1., ...,  1.,  0.,  1.],\n",
       "       [ 1.,  1.,  1., ...,  1.,  0.,  1.]])"
      ]
     },
     "execution_count": 23,
     "metadata": {},
     "output_type": "execute_result"
    }
   ],
   "source": [
    "s.sample(X, n_sim=10)"
   ]
  },
  {
   "cell_type": "code",
   "execution_count": 24,
   "metadata": {},
   "outputs": [
    {
     "name": "stdout",
     "output_type": "stream",
     "text": [
      "[ 0.92564864 -1.92688149  1.06622891]\n",
      "[ 0.85065123 -1.91724283  1.10727003]\n",
      "[ 0.91145371 -1.87940933  0.97294795]\n",
      "[ 0.95059166 -2.00422411  1.01795682]\n",
      "[ 0.95294682 -1.92089939  0.93576771]\n",
      "[ 0.83301548 -1.89802154  1.10498029]\n",
      "[ 0.94930102 -2.00072179  1.08404554]\n",
      "[ 0.92893991 -1.89640031  0.91271676]\n",
      "[ 0.95307018 -1.99558355  0.9548541 ]\n",
      "[ 0.98007991 -1.93357466  0.89697612]\n"
     ]
    }
   ],
   "source": [
    "for model in s.parametric_bootstrap(X, n_sim=10):\n",
    "    print(model.coef_)"
   ]
  },
  {
   "cell_type": "code",
   "execution_count": 25,
   "metadata": {},
   "outputs": [
    {
     "name": "stdout",
     "output_type": "stream",
     "text": [
      "[ 0.99432829 -2.06510277  1.00814253]\n",
      "[ 0.98563528 -2.02506098  0.97763048]\n",
      "[ 0.86571611 -1.87862626  1.04218002]\n",
      "[ 0.85818542 -1.76339913  0.97009285]\n",
      "[ 0.96069046 -1.92246395  0.94057993]\n",
      "[ 0.88824452 -1.83838339  0.9966131 ]\n",
      "[ 0.91820619 -1.99393334  1.06745476]\n",
      "[ 0.83200891 -1.88370187  1.06091485]\n",
      "[ 0.96691717 -1.99306609  0.99032914]\n",
      "[ 0.90465221 -1.98037578  1.13214442]\n"
     ]
    }
   ],
   "source": [
    "for model in s.non_parametric_bootstrap(X, y_logistic, n_sim=10):\n",
    "    print(model.coef_)"
   ]
  },
  {
   "cell_type": "markdown",
   "metadata": {},
   "source": [
    "## Poission Model"
   ]
  },
  {
   "cell_type": "code",
   "execution_count": 26,
   "metadata": {
    "collapsed": true
   },
   "outputs": [],
   "source": [
    "mu = np.exp(nu)\n",
    "y_poisson = np.random.poisson(lam=mu, size=N)"
   ]
  },
  {
   "cell_type": "code",
   "execution_count": 27,
   "metadata": {},
   "outputs": [
    {
     "data": {
      "text/plain": [
       "<glm.GLM at 0x114543fd0>"
      ]
     },
     "execution_count": 27,
     "metadata": {},
     "output_type": "execute_result"
    }
   ],
   "source": [
    "model = GLM(family=Poisson())\n",
    "model.fit(X, y_poisson)"
   ]
  },
  {
   "cell_type": "code",
   "execution_count": 28,
   "metadata": {},
   "outputs": [
    {
     "data": {
      "text/plain": [
       "array([ 1.0086694 , -1.97818485,  0.97117054])"
      ]
     },
     "execution_count": 28,
     "metadata": {},
     "output_type": "execute_result"
    }
   ],
   "source": [
    "model.coef_"
   ]
  },
  {
   "cell_type": "code",
   "execution_count": 29,
   "metadata": {},
   "outputs": [
    {
     "data": {
      "text/plain": [
       "array([[  3.43843334e-04,  -2.56069421e-04,  -3.57504957e-04],\n",
       "       [ -2.56069421e-04,   7.35249718e-04,   4.66147780e-06],\n",
       "       [ -3.57504957e-04,   4.66147780e-06,   6.17483912e-04]])"
      ]
     },
     "execution_count": 29,
     "metadata": {},
     "output_type": "execute_result"
    }
   ],
   "source": [
    "model.coef_covariance_matrix_"
   ]
  },
  {
   "cell_type": "code",
   "execution_count": 30,
   "metadata": {},
   "outputs": [
    {
     "data": {
      "text/plain": [
       "array([ 0.01854301,  0.02711549,  0.02484922])"
      ]
     },
     "execution_count": 30,
     "metadata": {},
     "output_type": "execute_result"
    }
   ],
   "source": [
    "model.coef_standard_error_"
   ]
  },
  {
   "cell_type": "code",
   "execution_count": 31,
   "metadata": {},
   "outputs": [
    {
     "name": "stdout",
     "output_type": "stream",
     "text": [
      "Optimization terminated successfully.\n",
      "         Current function value: 1.592442\n",
      "         Iterations 7\n",
      "                          Poisson Regression Results                          \n",
      "==============================================================================\n",
      "Dep. Variable:                      y   No. Observations:                10000\n",
      "Model:                        Poisson   Df Residuals:                     9997\n",
      "Method:                           MLE   Df Model:                            2\n",
      "Date:                Tue, 05 Sep 2017   Pseudo R-squ.:                  0.1894\n",
      "Time:                        20:24:31   Log-Likelihood:                -15924.\n",
      "converged:                       True   LL-Null:                       -19645.\n",
      "                                        LLR p-value:                     0.000\n",
      "==============================================================================\n",
      "                 coef    std err          z      P>|z|      [0.025      0.975]\n",
      "------------------------------------------------------------------------------\n",
      "const          1.0087      0.019     54.396      0.000       0.972       1.045\n",
      "x1            -1.9782      0.027    -72.954      0.000      -2.031      -1.925\n",
      "x2             0.9712      0.025     39.082      0.000       0.922       1.020\n",
      "==============================================================================\n"
     ]
    }
   ],
   "source": [
    "mod = statsmodels.discrete.discrete_model.Poisson(y_poisson, X)\n",
    "res = mod.fit()\n",
    "print(res.summary())"
   ]
  },
  {
   "cell_type": "code",
   "execution_count": 32,
   "metadata": {
    "collapsed": true
   },
   "outputs": [],
   "source": [
    "s = Simulation(model)"
   ]
  },
  {
   "cell_type": "code",
   "execution_count": 33,
   "metadata": {},
   "outputs": [
    {
     "data": {
      "text/plain": [
       "array([[ 7.,  1.,  3., ...,  1.,  2.,  1.],\n",
       "       [ 6.,  2.,  2., ...,  0.,  1.,  2.],\n",
       "       [ 2.,  1.,  0., ...,  1.,  0.,  2.],\n",
       "       ..., \n",
       "       [ 5.,  0.,  4., ...,  4.,  1.,  2.],\n",
       "       [ 4.,  0.,  0., ...,  1.,  3.,  1.],\n",
       "       [ 3.,  0.,  1., ...,  0.,  3.,  3.]])"
      ]
     },
     "execution_count": 33,
     "metadata": {},
     "output_type": "execute_result"
    }
   ],
   "source": [
    "s.sample(X, n_sim=10)"
   ]
  },
  {
   "cell_type": "code",
   "execution_count": 34,
   "metadata": {},
   "outputs": [
    {
     "name": "stdout",
     "output_type": "stream",
     "text": [
      "[ 1.04131551 -2.02870274  0.96015203]\n",
      "[ 0.9865432  -1.97783889  1.00230886]\n",
      "[ 0.98413632 -1.95545574  0.9862919 ]\n",
      "[ 0.9959502  -1.94803506  0.96143026]\n",
      "[ 0.97781876 -1.95695045  1.00165066]\n",
      "[ 1.01496379 -2.00056926  0.99042938]\n",
      "[ 1.02135523 -1.99645755  0.95254862]\n",
      "[ 0.9994143  -1.97387585  0.9956619 ]\n",
      "[ 1.01578883 -1.95262976  0.95795374]\n",
      "[ 1.04933868 -2.02090905  0.94344272]\n"
     ]
    }
   ],
   "source": [
    "for model in s.parametric_bootstrap(X, n_sim=10):\n",
    "    print(model.coef_)"
   ]
  },
  {
   "cell_type": "code",
   "execution_count": 35,
   "metadata": {},
   "outputs": [
    {
     "name": "stdout",
     "output_type": "stream",
     "text": [
      "[ 1.06290381 -1.96248999  0.90134792]\n",
      "[ 1.03185593 -1.94488788  0.92644831]\n",
      "[ 0.99314465 -1.95786974  0.99195353]\n",
      "[ 0.99376247 -1.98555699  0.99527739]\n",
      "[ 1.01671451 -1.94341999  0.94767768]\n",
      "[ 1.02577043 -1.94293666  0.9318222 ]\n",
      "[ 1.02339721 -1.98288654  0.95649635]\n",
      "[ 1.01188683 -1.98392503  0.95299995]\n",
      "[ 1.04415875 -2.02044843  0.93458004]\n",
      "[ 1.01155041 -1.96508247  0.94387053]\n"
     ]
    }
   ],
   "source": [
    "for model in s.non_parametric_bootstrap(X, y_poisson, n_sim=10):\n",
    "    print(model.coef_)"
   ]
  },
  {
   "cell_type": "markdown",
   "metadata": {},
   "source": [
    "## Poisson with Exposures"
   ]
  },
  {
   "cell_type": "code",
   "execution_count": 36,
   "metadata": {
    "collapsed": true
   },
   "outputs": [],
   "source": [
    "mu = np.exp(nu)\n",
    "expos = np.random.uniform(0, 10, size=N)\n",
    "y_poisson = np.random.poisson(lam=(mu*expos), size=N)"
   ]
  },
  {
   "cell_type": "code",
   "execution_count": 37,
   "metadata": {},
   "outputs": [
    {
     "data": {
      "text/plain": [
       "<glm.GLM at 0x11455b1d0>"
      ]
     },
     "execution_count": 37,
     "metadata": {},
     "output_type": "execute_result"
    }
   ],
   "source": [
    "model = GLM(family=Poisson())\n",
    "model.fit(X, y_poisson, offset=np.log(expos))"
   ]
  },
  {
   "cell_type": "code",
   "execution_count": 38,
   "metadata": {},
   "outputs": [
    {
     "data": {
      "text/plain": [
       "array([ 1.00427703, -2.00560461,  1.00295974])"
      ]
     },
     "execution_count": 38,
     "metadata": {},
     "output_type": "execute_result"
    }
   ],
   "source": [
    "model.coef_"
   ]
  },
  {
   "cell_type": "code",
   "execution_count": 39,
   "metadata": {},
   "outputs": [
    {
     "data": {
      "text/plain": [
       "array([ 0.0082743 ,  0.0120978 ,  0.01103477])"
      ]
     },
     "execution_count": 39,
     "metadata": {},
     "output_type": "execute_result"
    }
   ],
   "source": [
    "model.coef_standard_error_"
   ]
  },
  {
   "cell_type": "markdown",
   "metadata": {},
   "source": [
    "## Gamma Regression"
   ]
  },
  {
   "cell_type": "code",
   "execution_count": 40,
   "metadata": {
    "collapsed": true
   },
   "outputs": [],
   "source": [
    "mu = np.exp(nu)\n",
    "y_gamma = np.random.gamma(shape=2.0, scale=(mu / 2.0), size=N)"
   ]
  },
  {
   "cell_type": "code",
   "execution_count": 41,
   "metadata": {},
   "outputs": [
    {
     "data": {
      "text/plain": [
       "<glm.GLM at 0x11455b2b0>"
      ]
     },
     "execution_count": 41,
     "metadata": {},
     "output_type": "execute_result"
    }
   ],
   "source": [
    "gamma_model = GLM(family=Gamma())\n",
    "gamma_model.fit(X, y_gamma)"
   ]
  },
  {
   "cell_type": "code",
   "execution_count": 42,
   "metadata": {},
   "outputs": [
    {
     "data": {
      "text/plain": [
       "array([ 1.03103796, -2.02817775,  0.99021627])"
      ]
     },
     "execution_count": 42,
     "metadata": {},
     "output_type": "execute_result"
    }
   ],
   "source": [
    "gamma_model.coef_"
   ]
  },
  {
   "cell_type": "code",
   "execution_count": 43,
   "metadata": {},
   "outputs": [
    {
     "data": {
      "text/plain": [
       "array([ 0.01943828,  0.02576108,  0.02541289])"
      ]
     },
     "execution_count": 43,
     "metadata": {},
     "output_type": "execute_result"
    }
   ],
   "source": [
    "gamma_model.coef_standard_error_"
   ]
  },
  {
   "cell_type": "code",
   "execution_count": 44,
   "metadata": {},
   "outputs": [
    {
     "data": {
      "text/plain": [
       "0.53935872224986214"
      ]
     },
     "execution_count": 44,
     "metadata": {},
     "output_type": "execute_result"
    }
   ],
   "source": [
    "gamma_model.dispersion_"
   ]
  },
  {
   "cell_type": "code",
   "execution_count": 45,
   "metadata": {},
   "outputs": [
    {
     "name": "stdout",
     "output_type": "stream",
     "text": [
      "                 Generalized Linear Model Regression Results                  \n",
      "==============================================================================\n",
      "Dep. Variable:                      y   No. Observations:                10000\n",
      "Model:                            GLM   Df Residuals:                     9997\n",
      "Model Family:                   Gamma   Df Model:                            2\n",
      "Link Function:                    log   Scale:                   0.49234992195\n",
      "Method:                          IRLS   Log-Likelihood:                -13984.\n",
      "Date:                Tue, 05 Sep 2017   Deviance:                       5392.0\n",
      "Time:                        20:24:31   Pearson chi2:                 4.92e+03\n",
      "No. Iterations:                     6                                         \n",
      "==============================================================================\n",
      "                 coef    std err          z      P>|z|      [0.025      0.975]\n",
      "------------------------------------------------------------------------------\n",
      "const          1.0310      0.019     55.516      0.000       0.995       1.067\n",
      "x1            -2.0282      0.025    -82.403      0.000      -2.076      -1.980\n",
      "x2             0.9902      0.024     40.783      0.000       0.943       1.038\n",
      "==============================================================================\n"
     ]
    }
   ],
   "source": [
    "gamma_model = sm.GLM(y_gamma, X, \n",
    "                     family=sm.families.Gamma(\n",
    "                         link=statsmodels.genmod.families.links.log))\n",
    "res = gamma_model.fit()\n",
    "print(res.summary())"
   ]
  },
  {
   "cell_type": "markdown",
   "metadata": {},
   "source": [
    "## Exponential Regression"
   ]
  },
  {
   "cell_type": "code",
   "execution_count": 46,
   "metadata": {
    "collapsed": true
   },
   "outputs": [],
   "source": [
    "mu = np.exp(nu)\n",
    "y_exponential = np.random.exponential(scale=mu, size=N)"
   ]
  },
  {
   "cell_type": "code",
   "execution_count": 47,
   "metadata": {},
   "outputs": [
    {
     "data": {
      "text/plain": [
       "<glm.GLM at 0x114543f28>"
      ]
     },
     "execution_count": 47,
     "metadata": {},
     "output_type": "execute_result"
    }
   ],
   "source": [
    "exponential_model = GLM(family=Gamma())\n",
    "exponential_model.fit(X, y_exponential)"
   ]
  },
  {
   "cell_type": "code",
   "execution_count": 48,
   "metadata": {},
   "outputs": [
    {
     "data": {
      "text/plain": [
       "array([ 0.97864103, -1.98623894,  1.00804803])"
      ]
     },
     "execution_count": 48,
     "metadata": {},
     "output_type": "execute_result"
    }
   ],
   "source": [
    "exponential_model.coef_"
   ]
  },
  {
   "cell_type": "code",
   "execution_count": 49,
   "metadata": {},
   "outputs": [
    {
     "data": {
      "text/plain": [
       "array([ 0.02861641,  0.03792463,  0.03741204])"
      ]
     },
     "execution_count": 49,
     "metadata": {},
     "output_type": "execute_result"
    }
   ],
   "source": [
    "exponential_model.coef_standard_error_"
   ]
  },
  {
   "cell_type": "code",
   "execution_count": 50,
   "metadata": {},
   "outputs": [
    {
     "data": {
      "text/plain": [
       "1.1689401343999695"
      ]
     },
     "execution_count": 50,
     "metadata": {},
     "output_type": "execute_result"
    }
   ],
   "source": [
    "exponential_model.dispersion_"
   ]
  },
  {
   "cell_type": "code",
   "execution_count": 51,
   "metadata": {},
   "outputs": [
    {
     "name": "stdout",
     "output_type": "stream",
     "text": [
      "                 Generalized Linear Model Regression Results                  \n",
      "==============================================================================\n",
      "Dep. Variable:                      y   No. Observations:                10000\n",
      "Model:                            GLM   Df Residuals:                     9997\n",
      "Model Family:                   Gamma   Df Model:                            2\n",
      "Link Function:                    log   Scale:                   1.01735526808\n",
      "Method:                          IRLS   Log-Likelihood:                -14923.\n",
      "Date:                Tue, 05 Sep 2017   Deviance:                       11686.\n",
      "Time:                        20:24:31   Pearson chi2:                 1.02e+04\n",
      "No. Iterations:                     6                                         \n",
      "==============================================================================\n",
      "                 coef    std err          z      P>|z|      [0.025      0.975]\n",
      "------------------------------------------------------------------------------\n",
      "const          0.9786      0.027     36.658      0.000       0.926       1.031\n",
      "x1            -1.9862      0.035    -56.140      0.000      -2.056      -1.917\n",
      "x2             1.0080      0.035     28.882      0.000       0.940       1.076\n",
      "==============================================================================\n"
     ]
    }
   ],
   "source": [
    "exponential_model = sm.GLM(y_exponential, X, \n",
    "                     family=sm.families.Gamma(\n",
    "                         link=statsmodels.genmod.families.links.log))\n",
    "res = exponential_model.fit()\n",
    "print(res.summary())"
   ]
  },
  {
   "cell_type": "markdown",
   "metadata": {},
   "source": [
    "## Linear Model with Correlated Predictors"
   ]
  },
  {
   "cell_type": "code",
   "execution_count": 52,
   "metadata": {
    "collapsed": true
   },
   "outputs": [],
   "source": [
    "N = 1000\n",
    "X = np.empty(shape=(N, 3))\n",
    "X[:, 0] = 1.0\n",
    "X[:, 1] = np.random.uniform(size=N)\n",
    "X[:, 2] = 0.5*X[:, 1] + np.random.uniform(-0.5, 0.5, size=N)\n",
    "nu = 1 - 2*X[:, 1] + X[:, 2]"
   ]
  },
  {
   "cell_type": "code",
   "execution_count": 53,
   "metadata": {},
   "outputs": [
    {
     "data": {
      "text/plain": [
       "<glm.GLM at 0x11455b550>"
      ]
     },
     "execution_count": 53,
     "metadata": {},
     "output_type": "execute_result"
    }
   ],
   "source": [
    "y = nu + np.random.normal(size=N)\n",
    "model = GLM(family=Gaussian())\n",
    "model.fit(X, y)"
   ]
  },
  {
   "cell_type": "code",
   "execution_count": 54,
   "metadata": {},
   "outputs": [
    {
     "data": {
      "text/plain": [
       "array([ 1.06930601, -2.04554535,  1.09497987])"
      ]
     },
     "execution_count": 54,
     "metadata": {},
     "output_type": "execute_result"
    }
   ],
   "source": [
    "model.coef_"
   ]
  },
  {
   "cell_type": "code",
   "execution_count": 55,
   "metadata": {},
   "outputs": [
    {
     "data": {
      "text/plain": [
       "array([[ 0.00413713, -0.006213  , -0.00012022],\n",
       "       [-0.006213  ,  0.01547032, -0.00597631],\n",
       "       [-0.00012022, -0.00597631,  0.01213519]])"
      ]
     },
     "execution_count": 55,
     "metadata": {},
     "output_type": "execute_result"
    }
   ],
   "source": [
    "model.coef_covariance_matrix_"
   ]
  },
  {
   "cell_type": "code",
   "execution_count": 56,
   "metadata": {},
   "outputs": [
    {
     "data": {
      "text/plain": [
       "array([ 0.06432056,  0.12437974,  0.11015986])"
      ]
     },
     "execution_count": 56,
     "metadata": {},
     "output_type": "execute_result"
    }
   ],
   "source": [
    "model.coef_standard_error_"
   ]
  },
  {
   "cell_type": "code",
   "execution_count": 57,
   "metadata": {},
   "outputs": [
    {
     "name": "stdout",
     "output_type": "stream",
     "text": [
      "                            OLS Regression Results                            \n",
      "==============================================================================\n",
      "Dep. Variable:                      y   R-squared:                       0.219\n",
      "Model:                            OLS   Adj. R-squared:                  0.218\n",
      "Method:                 Least Squares   F-statistic:                     140.0\n",
      "Date:                Tue, 05 Sep 2017   Prob (F-statistic):           2.67e-54\n",
      "Time:                        20:24:31   Log-Likelihood:                -1415.2\n",
      "No. Observations:                1000   AIC:                             2836.\n",
      "Df Residuals:                     997   BIC:                             2851.\n",
      "Df Model:                           2                                         \n",
      "Covariance Type:            nonrobust                                         \n",
      "==============================================================================\n",
      "                 coef    std err          t      P>|t|      [0.025      0.975]\n",
      "------------------------------------------------------------------------------\n",
      "const          1.0693      0.064     16.625      0.000       0.943       1.196\n",
      "x1            -2.0455      0.124    -16.446      0.000      -2.290      -1.801\n",
      "x2             1.0950      0.110      9.940      0.000       0.879       1.311\n",
      "==============================================================================\n",
      "Omnibus:                        2.707   Durbin-Watson:                   1.985\n",
      "Prob(Omnibus):                  0.258   Jarque-Bera (JB):                2.422\n",
      "Skew:                           0.038   Prob(JB):                        0.298\n",
      "Kurtosis:                       2.771   Cond. No.                         5.39\n",
      "==============================================================================\n",
      "\n",
      "Warnings:\n",
      "[1] Standard Errors assume that the covariance matrix of the errors is correctly specified.\n"
     ]
    }
   ],
   "source": [
    "mod = sm.OLS(y, X)\n",
    "res = mod.fit()\n",
    "print(res.summary())"
   ]
  },
  {
   "cell_type": "code",
   "execution_count": null,
   "metadata": {
    "collapsed": true
   },
   "outputs": [],
   "source": []
  }
 ],
 "metadata": {
  "kernelspec": {
   "display_name": "Python 3",
   "language": "python",
   "name": "python3"
  },
  "language_info": {
   "codemirror_mode": {
    "name": "ipython",
    "version": 3
   },
   "file_extension": ".py",
   "mimetype": "text/x-python",
   "name": "python",
   "nbconvert_exporter": "python",
   "pygments_lexer": "ipython3",
   "version": "3.6.1"
  }
 },
 "nbformat": 4,
 "nbformat_minor": 2
}
