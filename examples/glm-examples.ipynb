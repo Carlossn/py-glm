{
 "cells": [
  {
   "cell_type": "code",
   "execution_count": 1,
   "metadata": {},
   "outputs": [
    {
     "name": "stderr",
     "output_type": "stream",
     "text": [
      "/Users/matthewdrury/anaconda/envs/py36/lib/python3.6/site-packages/matplotlib/__init__.py:913: UserWarning: axes.color_cycle is deprecated and replaced with axes.prop_cycle; please use the latter.\n",
      "  warnings.warn(self.msg_depr % (key, alt_key))\n",
      "/Users/matthewdrury/anaconda/envs/py36/lib/python3.6/site-packages/statsmodels/compat/pandas.py:56: FutureWarning: The pandas.core.datetools module is deprecated and will be removed in a future version. Please use the pandas.tseries module instead.\n",
      "  from pandas.core import datetools\n"
     ]
    }
   ],
   "source": [
    "import numpy as np\n",
    "from glm.families import Gaussian, Bernoulli, Poisson, Gamma\n",
    "from glm.glm import GLM\n",
    "from glm.simulation import Simulation\n",
    "\n",
    "import statsmodels.api as sm\n",
    "import statsmodels"
   ]
  },
  {
   "cell_type": "code",
   "execution_count": 2,
   "metadata": {
    "collapsed": true
   },
   "outputs": [],
   "source": [
    "N = 10000\n",
    "X = np.empty(shape=(N, 3))\n",
    "X[:, 0] = 1.0\n",
    "X[:, 1] = np.random.uniform(size=N)\n",
    "X[:, 2] = np.random.uniform(size=N)\n",
    "nu = 1 - 2*X[:, 1] + X[:, 2]"
   ]
  },
  {
   "cell_type": "markdown",
   "metadata": {},
   "source": [
    "## Linear Model"
   ]
  },
  {
   "cell_type": "code",
   "execution_count": 3,
   "metadata": {},
   "outputs": [
    {
     "data": {
      "text/plain": [
       "<glm.glm.GLM at 0x114a9c390>"
      ]
     },
     "execution_count": 3,
     "metadata": {},
     "output_type": "execute_result"
    }
   ],
   "source": [
    "y = nu + np.random.normal(size=N)\n",
    "model = GLM(family=Gaussian())\n",
    "model.fit(X, y)"
   ]
  },
  {
   "cell_type": "code",
   "execution_count": 4,
   "metadata": {},
   "outputs": [
    {
     "data": {
      "text/plain": [
       "array([ 0.9448427 , -1.95999816,  1.03653559])"
      ]
     },
     "execution_count": 4,
     "metadata": {},
     "output_type": "execute_result"
    }
   ],
   "source": [
    "model.coef_"
   ]
  },
  {
   "cell_type": "code",
   "execution_count": 5,
   "metadata": {},
   "outputs": [
    {
     "data": {
      "text/plain": [
       "array([[  6.86809065e-04,  -5.85460914e-04,  -5.92904909e-04],\n",
       "       [ -5.85460914e-04,   1.17252920e-03,  -5.55830125e-08],\n",
       "       [ -5.92904909e-04,  -5.55830125e-08,   1.19191634e-03]])"
      ]
     },
     "execution_count": 5,
     "metadata": {},
     "output_type": "execute_result"
    }
   ],
   "source": [
    "model.coef_covariance_matrix_"
   ]
  },
  {
   "cell_type": "code",
   "execution_count": 6,
   "metadata": {},
   "outputs": [
    {
     "data": {
      "text/plain": [
       "array([ 0.02620704,  0.03424221,  0.03452414])"
      ]
     },
     "execution_count": 6,
     "metadata": {},
     "output_type": "execute_result"
    }
   ],
   "source": [
    "model.coef_standard_error_"
   ]
  },
  {
   "cell_type": "code",
   "execution_count": 7,
   "metadata": {},
   "outputs": [
    {
     "name": "stdout",
     "output_type": "stream",
     "text": [
      "                            OLS Regression Results                            \n",
      "==============================================================================\n",
      "Dep. Variable:                      y   R-squared:                       0.295\n",
      "Model:                            OLS   Adj. R-squared:                  0.295\n",
      "Method:                 Least Squares   F-statistic:                     2089.\n",
      "Date:                Mon, 11 Sep 2017   Prob (F-statistic):               0.00\n",
      "Time:                        21:49:42   Log-Likelihood:                -14164.\n",
      "No. Observations:               10000   AIC:                         2.833e+04\n",
      "Df Residuals:                    9997   BIC:                         2.836e+04\n",
      "Df Model:                           2                                         \n",
      "Covariance Type:            nonrobust                                         \n",
      "==============================================================================\n",
      "                 coef    std err          t      P>|t|      [0.025      0.975]\n",
      "------------------------------------------------------------------------------\n",
      "const          0.9448      0.026     36.053      0.000       0.893       0.996\n",
      "x1            -1.9600      0.034    -57.239      0.000      -2.027      -1.893\n",
      "x2             1.0365      0.035     30.024      0.000       0.969       1.104\n",
      "==============================================================================\n",
      "Omnibus:                        0.144   Durbin-Watson:                   1.960\n",
      "Prob(Omnibus):                  0.930   Jarque-Bera (JB):                0.127\n",
      "Skew:                          -0.007   Prob(JB):                        0.938\n",
      "Kurtosis:                       3.011   Cond. No.                         5.26\n",
      "==============================================================================\n",
      "\n",
      "Warnings:\n",
      "[1] Standard Errors assume that the covariance matrix of the errors is correctly specified.\n"
     ]
    }
   ],
   "source": [
    "mod = sm.OLS(y, X)\n",
    "res = mod.fit()\n",
    "print(res.summary())"
   ]
  },
  {
   "cell_type": "markdown",
   "metadata": {},
   "source": [
    "## Run some simulations off the linear model."
   ]
  },
  {
   "cell_type": "code",
   "execution_count": 8,
   "metadata": {
    "collapsed": true
   },
   "outputs": [],
   "source": [
    "s = Simulation(model)"
   ]
  },
  {
   "cell_type": "code",
   "execution_count": 9,
   "metadata": {},
   "outputs": [
    {
     "data": {
      "text/plain": [
       "array([[ 1.28728337,  0.33289998,  0.92487895, ..., -0.51618203,\n",
       "         0.04111571,  2.03737834],\n",
       "       [-0.61612043,  0.13385134,  2.83120743, ..., -0.30199972,\n",
       "        -0.79479901,  0.39789668],\n",
       "       [ 0.72198974, -1.16442492,  1.99196898, ..., -1.1489727 ,\n",
       "        -0.62900916,  0.3819916 ],\n",
       "       ..., \n",
       "       [ 0.14984226,  2.21988792,  0.35897445, ..., -0.19421481,\n",
       "         1.86637245,  0.11179883],\n",
       "       [ 0.63805767,  2.3051978 ,  2.0584596 , ..., -0.63083674,\n",
       "         1.6915411 ,  0.97459907],\n",
       "       [ 1.38382519, -0.3741162 ,  1.14145529, ...,  0.08402882,\n",
       "        -1.23257719, -1.47523731]])"
      ]
     },
     "execution_count": 9,
     "metadata": {},
     "output_type": "execute_result"
    }
   ],
   "source": [
    "s.sample(X)"
   ]
  },
  {
   "cell_type": "code",
   "execution_count": 10,
   "metadata": {},
   "outputs": [
    {
     "name": "stdout",
     "output_type": "stream",
     "text": [
      "[ 0.95344796 -1.96423232  1.04301144]\n",
      "[ 0.89767002 -1.89585451  1.03593506]\n",
      "[ 0.97160611 -2.03299058  1.05701442]\n",
      "[ 0.93765236 -1.99102363  1.06143271]\n",
      "[ 0.97356691 -1.98085228  1.00870744]\n",
      "[ 0.9348543  -1.92503744  1.0282268 ]\n",
      "[ 0.95273462 -1.9835889   1.00119733]\n",
      "[ 0.92528941 -1.95512238  1.00807083]\n",
      "[ 0.91685828 -1.92017611  1.04261013]\n",
      "[ 0.94781326 -1.94359565  1.03430831]\n"
     ]
    }
   ],
   "source": [
    "models = s.parametric_bootstrap(X, n_sim=10)\n",
    "for model in models:\n",
    "    print(model.coef_)"
   ]
  },
  {
   "cell_type": "code",
   "execution_count": 11,
   "metadata": {},
   "outputs": [
    {
     "name": "stdout",
     "output_type": "stream",
     "text": [
      "[ 0.93512214 -1.97638435  1.04210078]\n",
      "[ 0.90916096 -1.92721013  1.01932087]\n",
      "[ 0.96254168 -1.96276683  1.01793319]\n",
      "[ 0.99777005 -2.01256766  1.00805192]\n",
      "[ 0.96349935 -1.99652488  1.03958545]\n",
      "[ 0.94308996 -1.98564392  1.0621469 ]\n",
      "[ 0.93756372 -1.95792508  1.05527984]\n",
      "[ 0.90222959 -1.87468415  1.03975222]\n",
      "[ 0.97776449 -1.99672265  1.01185453]\n",
      "[ 0.91167987 -1.92691269  1.04754695]\n"
     ]
    }
   ],
   "source": [
    "models = s.non_parametric_bootstrap(X, y, n_sim=10)\n",
    "for model in models:\n",
    "    print(model.coef_)"
   ]
  },
  {
   "cell_type": "markdown",
   "metadata": {},
   "source": [
    "## Linear Model with Sample Weights"
   ]
  },
  {
   "cell_type": "code",
   "execution_count": 12,
   "metadata": {
    "collapsed": true
   },
   "outputs": [],
   "source": [
    "sample_weights = np.random.uniform(0, 2, size=N)"
   ]
  },
  {
   "cell_type": "code",
   "execution_count": 13,
   "metadata": {
    "collapsed": true
   },
   "outputs": [],
   "source": [
    "model = GLM(family=Gaussian())\n",
    "model = model.fit(X, y, sample_weights=sample_weights)"
   ]
  },
  {
   "cell_type": "code",
   "execution_count": 14,
   "metadata": {},
   "outputs": [
    {
     "data": {
      "text/plain": [
       "array([ 0.93239994, -1.89616789,  1.01662108])"
      ]
     },
     "execution_count": 14,
     "metadata": {},
     "output_type": "execute_result"
    }
   ],
   "source": [
    "model.coef_"
   ]
  },
  {
   "cell_type": "markdown",
   "metadata": {},
   "source": [
    "## Logistic Model"
   ]
  },
  {
   "cell_type": "code",
   "execution_count": 15,
   "metadata": {
    "collapsed": true
   },
   "outputs": [],
   "source": [
    "p = 1 / (1 + np.exp(-nu))\n",
    "y_logistic = np.random.binomial(1, p=p, size=N)"
   ]
  },
  {
   "cell_type": "code",
   "execution_count": 16,
   "metadata": {},
   "outputs": [
    {
     "data": {
      "text/plain": [
       "<glm.glm.GLM at 0x115c09d30>"
      ]
     },
     "execution_count": 16,
     "metadata": {},
     "output_type": "execute_result"
    }
   ],
   "source": [
    "model = GLM(family=Bernoulli())\n",
    "model.fit(X, y_logistic)"
   ]
  },
  {
   "cell_type": "code",
   "execution_count": 17,
   "metadata": {},
   "outputs": [
    {
     "data": {
      "text/plain": [
       "array([ 1.0171102 , -1.96325661,  0.94684443])"
      ]
     },
     "execution_count": 17,
     "metadata": {},
     "output_type": "execute_result"
    }
   ],
   "source": [
    "model.coef_"
   ]
  },
  {
   "cell_type": "code",
   "execution_count": 18,
   "metadata": {},
   "outputs": [
    {
     "data": {
      "text/plain": [
       "array(1.0)"
      ]
     },
     "execution_count": 18,
     "metadata": {},
     "output_type": "execute_result"
    }
   ],
   "source": [
    "model.dispersion_"
   ]
  },
  {
   "cell_type": "code",
   "execution_count": 19,
   "metadata": {},
   "outputs": [
    {
     "data": {
      "text/plain": [
       "array([[ 0.0032339 , -0.0029296 , -0.00250258],\n",
       "       [-0.0029296 ,  0.00581565, -0.00037811],\n",
       "       [-0.00250258, -0.00037811,  0.0056142 ]])"
      ]
     },
     "execution_count": 19,
     "metadata": {},
     "output_type": "execute_result"
    }
   ],
   "source": [
    "model.coef_covariance_matrix_"
   ]
  },
  {
   "cell_type": "code",
   "execution_count": 20,
   "metadata": {},
   "outputs": [
    {
     "data": {
      "text/plain": [
       "array([ 0.05686735,  0.0762604 ,  0.07492798])"
      ]
     },
     "execution_count": 20,
     "metadata": {},
     "output_type": "execute_result"
    }
   ],
   "source": [
    "model.coef_standard_error_"
   ]
  },
  {
   "cell_type": "code",
   "execution_count": 21,
   "metadata": {},
   "outputs": [
    {
     "name": "stdout",
     "output_type": "stream",
     "text": [
      "Optimization terminated successfully.\n",
      "         Current function value: 0.623820\n",
      "         Iterations 5\n",
      "                           Logit Regression Results                           \n",
      "==============================================================================\n",
      "Dep. Variable:                      y   No. Observations:                10000\n",
      "Model:                          Logit   Df Residuals:                     9997\n",
      "Method:                           MLE   Df Model:                            2\n",
      "Date:                Mon, 11 Sep 2017   Pseudo R-squ.:                 0.06470\n",
      "Time:                        21:49:42   Log-Likelihood:                -6238.2\n",
      "converged:                       True   LL-Null:                       -6669.7\n",
      "                                        LLR p-value:                3.929e-188\n",
      "==============================================================================\n",
      "                 coef    std err          z      P>|z|      [0.025      0.975]\n",
      "------------------------------------------------------------------------------\n",
      "const          1.0171      0.057     17.886      0.000       0.906       1.129\n",
      "x1            -1.9633      0.076    -25.744      0.000      -2.113      -1.814\n",
      "x2             0.9468      0.075     12.637      0.000       0.800       1.094\n",
      "==============================================================================\n"
     ]
    }
   ],
   "source": [
    "mod = sm.Logit(y_logistic, X)\n",
    "res = mod.fit()\n",
    "print(res.summary())"
   ]
  },
  {
   "cell_type": "code",
   "execution_count": 22,
   "metadata": {
    "collapsed": true
   },
   "outputs": [],
   "source": [
    "s = Simulation(model)"
   ]
  },
  {
   "cell_type": "code",
   "execution_count": 23,
   "metadata": {},
   "outputs": [
    {
     "data": {
      "text/plain": [
       "array([[ 0.,  1.,  1., ...,  1.,  0.,  0.],\n",
       "       [ 1.,  1.,  0., ...,  0.,  0.,  1.],\n",
       "       [ 0.,  1.,  1., ...,  1.,  1.,  0.],\n",
       "       ..., \n",
       "       [ 1.,  1.,  1., ...,  0.,  0.,  1.],\n",
       "       [ 0.,  1.,  1., ...,  0.,  0.,  1.],\n",
       "       [ 0.,  1.,  0., ...,  0.,  0.,  1.]])"
      ]
     },
     "execution_count": 23,
     "metadata": {},
     "output_type": "execute_result"
    }
   ],
   "source": [
    "s.sample(X, n_sim=10)"
   ]
  },
  {
   "cell_type": "code",
   "execution_count": 24,
   "metadata": {},
   "outputs": [
    {
     "name": "stdout",
     "output_type": "stream",
     "text": [
      "[ 1.03396928 -1.94073484  0.86886517]\n",
      "[ 1.08320339 -2.07276846  0.8941195 ]\n",
      "[ 1.051676   -1.9909684   0.91835684]\n",
      "[ 1.03286647 -1.88940083  0.84943943]\n",
      "[ 1.03808526 -1.99804694  0.93431155]\n",
      "[ 1.02159681 -1.91795833  0.91778819]\n",
      "[ 1.02702098 -1.98645933  0.96355766]\n",
      "[ 1.06989729 -2.01122924  0.93480326]\n",
      "[ 0.86205479 -1.8616221   1.06135952]\n",
      "[ 0.94031612 -1.89618373  0.98906941]\n"
     ]
    }
   ],
   "source": [
    "for model in s.parametric_bootstrap(X, n_sim=10):\n",
    "    print(model.coef_)"
   ]
  },
  {
   "cell_type": "code",
   "execution_count": 25,
   "metadata": {},
   "outputs": [
    {
     "name": "stdout",
     "output_type": "stream",
     "text": [
      "[ 1.11306968 -2.00309832  0.79211228]\n",
      "[ 1.05088821 -1.91454067  0.93678611]\n",
      "[ 0.97725535 -1.84797033  0.94971403]\n",
      "[ 0.96132623 -1.91547349  1.04409077]\n",
      "[ 0.94992351 -1.93756706  1.00671207]\n",
      "[ 0.96758563 -1.92788782  0.9665649 ]\n",
      "[ 0.98747473 -1.94482768  0.93850774]\n",
      "[ 1.13325277 -2.12416241  0.95059659]\n",
      "[ 1.01781512 -2.09842983  1.02840433]\n",
      "[ 1.04127508 -1.9362662   0.91700516]\n"
     ]
    }
   ],
   "source": [
    "for model in s.non_parametric_bootstrap(X, y_logistic, n_sim=10):\n",
    "    print(model.coef_)"
   ]
  },
  {
   "cell_type": "markdown",
   "metadata": {},
   "source": [
    "## Poission Model"
   ]
  },
  {
   "cell_type": "code",
   "execution_count": 26,
   "metadata": {
    "collapsed": true
   },
   "outputs": [],
   "source": [
    "mu = np.exp(nu)\n",
    "y_poisson = np.random.poisson(lam=mu, size=N)"
   ]
  },
  {
   "cell_type": "code",
   "execution_count": 27,
   "metadata": {},
   "outputs": [
    {
     "data": {
      "text/plain": [
       "<glm.glm.GLM at 0x114addf98>"
      ]
     },
     "execution_count": 27,
     "metadata": {},
     "output_type": "execute_result"
    }
   ],
   "source": [
    "model = GLM(family=Poisson())\n",
    "model.fit(X, y_poisson)"
   ]
  },
  {
   "cell_type": "code",
   "execution_count": 28,
   "metadata": {},
   "outputs": [
    {
     "data": {
      "text/plain": [
       "array([ 0.97955491, -1.97310256,  0.99957952])"
      ]
     },
     "execution_count": 28,
     "metadata": {},
     "output_type": "execute_result"
    }
   ],
   "source": [
    "model.coef_"
   ]
  },
  {
   "cell_type": "code",
   "execution_count": 29,
   "metadata": {},
   "outputs": [
    {
     "data": {
      "text/plain": [
       "array([[  3.43518078e-04,  -2.43028083e-04,  -3.62884496e-04],\n",
       "       [ -2.43028083e-04,   7.15362672e-04,  -3.42171090e-06],\n",
       "       [ -3.62884496e-04,  -3.42171090e-06,   6.28322610e-04]])"
      ]
     },
     "execution_count": 29,
     "metadata": {},
     "output_type": "execute_result"
    }
   ],
   "source": [
    "model.coef_covariance_matrix_"
   ]
  },
  {
   "cell_type": "code",
   "execution_count": 30,
   "metadata": {},
   "outputs": [
    {
     "data": {
      "text/plain": [
       "array([ 0.01853424,  0.02674626,  0.02506636])"
      ]
     },
     "execution_count": 30,
     "metadata": {},
     "output_type": "execute_result"
    }
   ],
   "source": [
    "model.coef_standard_error_"
   ]
  },
  {
   "cell_type": "code",
   "execution_count": 31,
   "metadata": {},
   "outputs": [
    {
     "name": "stdout",
     "output_type": "stream",
     "text": [
      "Optimization terminated successfully.\n",
      "         Current function value: 1.588661\n",
      "         Iterations 7\n",
      "                          Poisson Regression Results                          \n",
      "==============================================================================\n",
      "Dep. Variable:                      y   No. Observations:                10000\n",
      "Model:                        Poisson   Df Residuals:                     9997\n",
      "Method:                           MLE   Df Model:                            2\n",
      "Date:                Mon, 11 Sep 2017   Pseudo R-squ.:                  0.1932\n",
      "Time:                        21:49:43   Log-Likelihood:                -15887.\n",
      "converged:                       True   LL-Null:                       -19690.\n",
      "                                        LLR p-value:                     0.000\n",
      "==============================================================================\n",
      "                 coef    std err          z      P>|z|      [0.025      0.975]\n",
      "------------------------------------------------------------------------------\n",
      "const          0.9796      0.019     52.851      0.000       0.943       1.016\n",
      "x1            -1.9731      0.027    -73.771      0.000      -2.026      -1.921\n",
      "x2             0.9996      0.025     39.877      0.000       0.950       1.049\n",
      "==============================================================================\n"
     ]
    }
   ],
   "source": [
    "mod = statsmodels.discrete.discrete_model.Poisson(y_poisson, X)\n",
    "res = mod.fit()\n",
    "print(res.summary())"
   ]
  },
  {
   "cell_type": "code",
   "execution_count": 32,
   "metadata": {
    "collapsed": true
   },
   "outputs": [],
   "source": [
    "s = Simulation(model)"
   ]
  },
  {
   "cell_type": "code",
   "execution_count": 33,
   "metadata": {},
   "outputs": [
    {
     "data": {
      "text/plain": [
       "array([[ 4.,  3.,  2., ...,  2.,  0.,  0.],\n",
       "       [ 4.,  4.,  1., ...,  0.,  1.,  0.],\n",
       "       [ 3.,  4.,  2., ...,  1.,  0.,  1.],\n",
       "       ..., \n",
       "       [ 3.,  2.,  4., ...,  2.,  1.,  0.],\n",
       "       [ 3.,  3.,  1., ...,  1.,  1.,  2.],\n",
       "       [ 2.,  4.,  2., ...,  1.,  1.,  3.]])"
      ]
     },
     "execution_count": 33,
     "metadata": {},
     "output_type": "execute_result"
    }
   ],
   "source": [
    "s.sample(X, n_sim=10)"
   ]
  },
  {
   "cell_type": "code",
   "execution_count": 34,
   "metadata": {},
   "outputs": [
    {
     "name": "stdout",
     "output_type": "stream",
     "text": [
      "[ 0.97584518 -1.95183053  1.00499433]\n",
      "[ 0.96702939 -1.92501889  0.98326727]\n",
      "[ 0.9531297  -1.91046988  1.01016099]\n",
      "[ 0.96148266 -1.91118668  0.9859655 ]\n",
      "[ 0.95810702 -1.92430305  1.0074289 ]\n",
      "[ 0.97417409 -1.97883868  1.01112315]\n",
      "[ 0.97400672 -1.97751903  0.99597901]\n",
      "[ 0.97716044 -2.00407414  1.0068708 ]\n",
      "[ 1.00623659 -1.97022556  0.97280256]\n",
      "[ 0.98472008 -2.00665999  1.00411827]\n"
     ]
    }
   ],
   "source": [
    "for model in s.parametric_bootstrap(X, n_sim=10):\n",
    "    print(model.coef_)"
   ]
  },
  {
   "cell_type": "code",
   "execution_count": 35,
   "metadata": {},
   "outputs": [
    {
     "name": "stdout",
     "output_type": "stream",
     "text": [
      "[ 0.93150692 -1.90839622  1.03641432]\n",
      "[ 0.99669994 -1.95088065  0.95601371]\n",
      "[ 0.9805434  -1.96057206  0.99846077]\n",
      "[ 0.95466906 -1.9752257   1.03740027]\n",
      "[ 0.969182   -1.9831375   1.01880549]\n",
      "[ 0.99041008 -1.99963129  1.02092057]\n",
      "[ 0.97968834 -1.92736145  0.96676223]\n",
      "[ 0.95554389 -1.93148891  1.02090681]\n",
      "[ 0.94413817 -1.92941545  1.0218936 ]\n",
      "[ 0.96905418 -1.96604021  0.98990285]\n"
     ]
    }
   ],
   "source": [
    "for model in s.non_parametric_bootstrap(X, y_poisson, n_sim=10):\n",
    "    print(model.coef_)"
   ]
  },
  {
   "cell_type": "markdown",
   "metadata": {},
   "source": [
    "## Poisson with Exposures"
   ]
  },
  {
   "cell_type": "code",
   "execution_count": 36,
   "metadata": {
    "collapsed": true
   },
   "outputs": [],
   "source": [
    "mu = np.exp(nu)\n",
    "expos = np.random.uniform(0, 10, size=N)\n",
    "y_poisson = np.random.poisson(lam=(mu*expos), size=N)"
   ]
  },
  {
   "cell_type": "code",
   "execution_count": 37,
   "metadata": {},
   "outputs": [
    {
     "data": {
      "text/plain": [
       "<glm.glm.GLM at 0x115c10b38>"
      ]
     },
     "execution_count": 37,
     "metadata": {},
     "output_type": "execute_result"
    }
   ],
   "source": [
    "model = GLM(family=Poisson())\n",
    "model.fit(X, y_poisson, offset=np.log(expos))"
   ]
  },
  {
   "cell_type": "code",
   "execution_count": 38,
   "metadata": {},
   "outputs": [
    {
     "data": {
      "text/plain": [
       "array([ 1.01089083, -2.01026895,  0.99239881])"
      ]
     },
     "execution_count": 38,
     "metadata": {},
     "output_type": "execute_result"
    }
   ],
   "source": [
    "model.coef_"
   ]
  },
  {
   "cell_type": "code",
   "execution_count": 39,
   "metadata": {},
   "outputs": [
    {
     "data": {
      "text/plain": [
       "array([ 0.00819943,  0.01191424,  0.01115221])"
      ]
     },
     "execution_count": 39,
     "metadata": {},
     "output_type": "execute_result"
    }
   ],
   "source": [
    "model.coef_standard_error_"
   ]
  },
  {
   "cell_type": "markdown",
   "metadata": {},
   "source": [
    "## Gamma Regression"
   ]
  },
  {
   "cell_type": "code",
   "execution_count": 40,
   "metadata": {
    "collapsed": true
   },
   "outputs": [],
   "source": [
    "mu = np.exp(nu)\n",
    "y_gamma = np.random.gamma(shape=2.0, scale=(mu / 2.0), size=N)"
   ]
  },
  {
   "cell_type": "code",
   "execution_count": 41,
   "metadata": {},
   "outputs": [
    {
     "data": {
      "text/plain": [
       "<glm.glm.GLM at 0x115c10780>"
      ]
     },
     "execution_count": 41,
     "metadata": {},
     "output_type": "execute_result"
    }
   ],
   "source": [
    "gamma_model = GLM(family=Gamma())\n",
    "gamma_model.fit(X, y_gamma)"
   ]
  },
  {
   "cell_type": "code",
   "execution_count": 42,
   "metadata": {},
   "outputs": [
    {
     "data": {
      "text/plain": [
       "array([ 1.01040171, -1.99970979,  0.99452562])"
      ]
     },
     "execution_count": 42,
     "metadata": {},
     "output_type": "execute_result"
    }
   ],
   "source": [
    "gamma_model.coef_"
   ]
  },
  {
   "cell_type": "code",
   "execution_count": 43,
   "metadata": {},
   "outputs": [
    {
     "data": {
      "text/plain": [
       "array([ 0.01917737,  0.02505722,  0.02526353])"
      ]
     },
     "execution_count": 43,
     "metadata": {},
     "output_type": "execute_result"
    }
   ],
   "source": [
    "gamma_model.coef_standard_error_"
   ]
  },
  {
   "cell_type": "code",
   "execution_count": 44,
   "metadata": {},
   "outputs": [
    {
     "data": {
      "text/plain": [
       "0.53290114261870103"
      ]
     },
     "execution_count": 44,
     "metadata": {},
     "output_type": "execute_result"
    }
   ],
   "source": [
    "gamma_model.dispersion_"
   ]
  },
  {
   "cell_type": "code",
   "execution_count": 45,
   "metadata": {},
   "outputs": [
    {
     "name": "stdout",
     "output_type": "stream",
     "text": [
      "                 Generalized Linear Model Regression Results                  \n",
      "==============================================================================\n",
      "Dep. Variable:                      y   No. Observations:                10000\n",
      "Model:                            GLM   Df Residuals:                     9997\n",
      "Model Family:                   Gamma   Df Model:                            2\n",
      "Link Function:                    log   Scale:                  0.501783523702\n",
      "Method:                          IRLS   Log-Likelihood:                -13867.\n",
      "Date:                Mon, 11 Sep 2017   Deviance:                       5327.4\n",
      "Time:                        21:49:43   Pearson chi2:                 5.02e+03\n",
      "No. Iterations:                     5                                         \n",
      "==============================================================================\n",
      "                 coef    std err          z      P>|z|      [0.025      0.975]\n",
      "------------------------------------------------------------------------------\n",
      "const          1.0104      0.019     54.296      0.000       0.974       1.047\n",
      "x1            -1.9997      0.024    -82.243      0.000      -2.047      -1.952\n",
      "x2             0.9945      0.025     40.568      0.000       0.946       1.043\n",
      "==============================================================================\n"
     ]
    }
   ],
   "source": [
    "gamma_model = sm.GLM(y_gamma, X, \n",
    "                     family=sm.families.Gamma(\n",
    "                         link=statsmodels.genmod.families.links.log))\n",
    "res = gamma_model.fit()\n",
    "print(res.summary())"
   ]
  },
  {
   "cell_type": "markdown",
   "metadata": {},
   "source": [
    "## Exponential Regression"
   ]
  },
  {
   "cell_type": "code",
   "execution_count": 46,
   "metadata": {
    "collapsed": true
   },
   "outputs": [],
   "source": [
    "mu = np.exp(nu)\n",
    "y_exponential = np.random.exponential(scale=mu, size=N)"
   ]
  },
  {
   "cell_type": "code",
   "execution_count": 47,
   "metadata": {},
   "outputs": [
    {
     "data": {
      "text/plain": [
       "<glm.glm.GLM at 0x115c10748>"
      ]
     },
     "execution_count": 47,
     "metadata": {},
     "output_type": "execute_result"
    }
   ],
   "source": [
    "exponential_model = GLM(family=Gamma())\n",
    "exponential_model.fit(X, y_exponential)"
   ]
  },
  {
   "cell_type": "code",
   "execution_count": 48,
   "metadata": {},
   "outputs": [
    {
     "data": {
      "text/plain": [
       "array([ 0.97932024, -1.9649605 ,  1.03097534])"
      ]
     },
     "execution_count": 48,
     "metadata": {},
     "output_type": "execute_result"
    }
   ],
   "source": [
    "exponential_model.coef_"
   ]
  },
  {
   "cell_type": "code",
   "execution_count": 49,
   "metadata": {},
   "outputs": [
    {
     "data": {
      "text/plain": [
       "array([ 0.02792238,  0.03648348,  0.03678386])"
      ]
     },
     "execution_count": 49,
     "metadata": {},
     "output_type": "execute_result"
    }
   ],
   "source": [
    "exponential_model.coef_standard_error_"
   ]
  },
  {
   "cell_type": "code",
   "execution_count": 50,
   "metadata": {},
   "outputs": [
    {
     "data": {
      "text/plain": [
       "1.1297264550109525"
      ]
     },
     "execution_count": 50,
     "metadata": {},
     "output_type": "execute_result"
    }
   ],
   "source": [
    "exponential_model.dispersion_"
   ]
  },
  {
   "cell_type": "code",
   "execution_count": 51,
   "metadata": {},
   "outputs": [
    {
     "name": "stdout",
     "output_type": "stream",
     "text": [
      "                 Generalized Linear Model Regression Results                  \n",
      "==============================================================================\n",
      "Dep. Variable:                      y   No. Observations:                10000\n",
      "Model:                            GLM   Df Residuals:                     9997\n",
      "Model Family:                   Gamma   Df Model:                            2\n",
      "Link Function:                    log   Scale:                  0.985270846483\n",
      "Method:                          IRLS   Log-Likelihood:                -15109.\n",
      "Date:                Mon, 11 Sep 2017   Deviance:                       11294.\n",
      "Time:                        21:49:43   Pearson chi2:                 9.85e+03\n",
      "No. Iterations:                     6                                         \n",
      "==============================================================================\n",
      "                 coef    std err          z      P>|z|      [0.025      0.975]\n",
      "------------------------------------------------------------------------------\n",
      "const          0.9793      0.026     37.556      0.000       0.928       1.030\n",
      "x1            -1.9650      0.034    -57.672      0.000      -2.032      -1.898\n",
      "x2             1.0310      0.034     30.012      0.000       0.964       1.098\n",
      "==============================================================================\n"
     ]
    }
   ],
   "source": [
    "exponential_model = sm.GLM(y_exponential, X, \n",
    "                     family=sm.families.Gamma(\n",
    "                         link=statsmodels.genmod.families.links.log))\n",
    "res = exponential_model.fit()\n",
    "print(res.summary())"
   ]
  },
  {
   "cell_type": "markdown",
   "metadata": {},
   "source": [
    "## Linear Model with Correlated Predictors"
   ]
  },
  {
   "cell_type": "code",
   "execution_count": 52,
   "metadata": {
    "collapsed": true
   },
   "outputs": [],
   "source": [
    "N = 1000\n",
    "X = np.empty(shape=(N, 3))\n",
    "X[:, 0] = 1.0\n",
    "X[:, 1] = np.random.uniform(size=N)\n",
    "X[:, 2] = 0.5*X[:, 1] + np.random.uniform(-0.5, 0.5, size=N)\n",
    "nu = 1 - 2*X[:, 1] + X[:, 2]"
   ]
  },
  {
   "cell_type": "code",
   "execution_count": 53,
   "metadata": {},
   "outputs": [
    {
     "data": {
      "text/plain": [
       "<glm.glm.GLM at 0x115c107b8>"
      ]
     },
     "execution_count": 53,
     "metadata": {},
     "output_type": "execute_result"
    }
   ],
   "source": [
    "y = nu + np.random.normal(size=N)\n",
    "model = GLM(family=Gaussian())\n",
    "model.fit(X, y)"
   ]
  },
  {
   "cell_type": "code",
   "execution_count": 54,
   "metadata": {},
   "outputs": [
    {
     "data": {
      "text/plain": [
       "array([ 0.98412515, -1.92541664,  0.97230506])"
      ]
     },
     "execution_count": 54,
     "metadata": {},
     "output_type": "execute_result"
    }
   ],
   "source": [
    "model.coef_"
   ]
  },
  {
   "cell_type": "code",
   "execution_count": 55,
   "metadata": {},
   "outputs": [
    {
     "data": {
      "text/plain": [
       "array([[ 0.00436578, -0.00654351, -0.00011775],\n",
       "       [-0.00654351,  0.01650181, -0.00650801],\n",
       "       [-0.00011775, -0.00650801,  0.01309884]])"
      ]
     },
     "execution_count": 55,
     "metadata": {},
     "output_type": "execute_result"
    }
   ],
   "source": [
    "model.coef_covariance_matrix_"
   ]
  },
  {
   "cell_type": "code",
   "execution_count": 56,
   "metadata": {},
   "outputs": [
    {
     "data": {
      "text/plain": [
       "array([ 0.06607408,  0.12845937,  0.11445019])"
      ]
     },
     "execution_count": 56,
     "metadata": {},
     "output_type": "execute_result"
    }
   ],
   "source": [
    "model.coef_standard_error_"
   ]
  },
  {
   "cell_type": "code",
   "execution_count": 57,
   "metadata": {},
   "outputs": [
    {
     "name": "stdout",
     "output_type": "stream",
     "text": [
      "                            OLS Regression Results                            \n",
      "==============================================================================\n",
      "Dep. Variable:                      y   R-squared:                       0.187\n",
      "Model:                            OLS   Adj. R-squared:                  0.185\n",
      "Method:                 Least Squares   F-statistic:                     114.5\n",
      "Date:                Mon, 11 Sep 2017   Prob (F-statistic):           1.75e-45\n",
      "Time:                        21:49:43   Log-Likelihood:                -1455.8\n",
      "No. Observations:                1000   AIC:                             2918.\n",
      "Df Residuals:                     997   BIC:                             2932.\n",
      "Df Model:                           2                                         \n",
      "Covariance Type:            nonrobust                                         \n",
      "==============================================================================\n",
      "                 coef    std err          t      P>|t|      [0.025      0.975]\n",
      "------------------------------------------------------------------------------\n",
      "const          0.9841      0.066     14.894      0.000       0.854       1.114\n",
      "x1            -1.9254      0.128    -14.989      0.000      -2.177      -1.673\n",
      "x2             0.9723      0.114      8.495      0.000       0.748       1.197\n",
      "==============================================================================\n",
      "Omnibus:                        3.117   Durbin-Watson:                   2.020\n",
      "Prob(Omnibus):                  0.210   Jarque-Bera (JB):                3.240\n",
      "Skew:                           0.064   Prob(JB):                        0.198\n",
      "Kurtosis:                       3.248   Cond. No.                         5.35\n",
      "==============================================================================\n",
      "\n",
      "Warnings:\n",
      "[1] Standard Errors assume that the covariance matrix of the errors is correctly specified.\n"
     ]
    }
   ],
   "source": [
    "mod = sm.OLS(y, X)\n",
    "res = mod.fit()\n",
    "print(res.summary())"
   ]
  },
  {
   "cell_type": "code",
   "execution_count": null,
   "metadata": {
    "collapsed": true
   },
   "outputs": [],
   "source": []
  }
 ],
 "metadata": {
  "kernelspec": {
   "display_name": "Python 3",
   "language": "python",
   "name": "python3"
  },
  "language_info": {
   "codemirror_mode": {
    "name": "ipython",
    "version": 3
   },
   "file_extension": ".py",
   "mimetype": "text/x-python",
   "name": "python",
   "nbconvert_exporter": "python",
   "pygments_lexer": "ipython3",
   "version": "3.6.1"
  }
 },
 "nbformat": 4,
 "nbformat_minor": 2
}
