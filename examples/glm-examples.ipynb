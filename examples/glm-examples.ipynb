{
 "cells": [
  {
   "cell_type": "code",
   "execution_count": 1,
   "metadata": {},
   "outputs": [
    {
     "name": "stderr",
     "output_type": "stream",
     "text": [
      "/Users/matthewdrury/anaconda3/lib/python3.6/site-packages/matplotlib/__init__.py:800: MatplotlibDeprecationWarning: axes.color_cycle is deprecated and replaced with axes.prop_cycle; please use the latter.\n",
      "  mplDeprecation)\n",
      "/Users/matthewdrury/anaconda3/lib/python3.6/site-packages/statsmodels/compat/pandas.py:56: FutureWarning: The pandas.core.datetools module is deprecated and will be removed in a future version. Please use the pandas.tseries module instead.\n",
      "  from pandas.core import datetools\n"
     ]
    }
   ],
   "source": [
    "import numpy as np\n",
    "import pandas as pd\n",
    "\n",
    "from glm.families import Gaussian, Bernoulli, Poisson, Gamma\n",
    "from glm.glm import GLM\n",
    "from glm.simulation import Simulation\n",
    "\n",
    "import statsmodels.api as sm\n",
    "import statsmodels"
   ]
  },
  {
   "cell_type": "code",
   "execution_count": 2,
   "metadata": {
    "collapsed": true
   },
   "outputs": [],
   "source": [
    "N = 1000\n",
    "X = np.empty(shape=(N, 3))\n",
    "X[:, 0] = 1.0\n",
    "X[:, 1] = np.random.uniform(-1, 1, size=N)\n",
    "X[:, 2] = np.random.uniform(-1, 1, size=N)\n",
    "nu = 1 - 2*X[:, 1] + np.random.normal(0.0, 1.0, size=N)"
   ]
  },
  {
   "cell_type": "markdown",
   "metadata": {},
   "source": [
    "## Linear Model"
   ]
  },
  {
   "cell_type": "code",
   "execution_count": 21,
   "metadata": {},
   "outputs": [
    {
     "data": {
      "text/plain": [
       "<glm.glm.GLM at 0x11691fc18>"
      ]
     },
     "execution_count": 21,
     "metadata": {},
     "output_type": "execute_result"
    }
   ],
   "source": [
    "y = nu + np.random.normal(size=N)\n",
    "model = GLM(family=Gaussian())\n",
    "model.fit(X, y)"
   ]
  },
  {
   "cell_type": "code",
   "execution_count": 22,
   "metadata": {},
   "outputs": [
    {
     "data": {
      "text/plain": [
       "array([ 0.94485496, -1.97047607,  0.10933283])"
      ]
     },
     "execution_count": 22,
     "metadata": {},
     "output_type": "execute_result"
    }
   ],
   "source": [
    "model.coef_"
   ]
  },
  {
   "cell_type": "code",
   "execution_count": 23,
   "metadata": {},
   "outputs": [
    {
     "data": {
      "text/plain": [
       "array([[  1.93485845e-03,   7.55090876e-05,  -6.12843287e-05],\n",
       "       [  7.55090876e-05,   5.89884867e-03,  -3.01419897e-04],\n",
       "       [ -6.12843287e-05,  -3.01419897e-04,   5.93214697e-03]])"
      ]
     },
     "execution_count": 23,
     "metadata": {},
     "output_type": "execute_result"
    }
   ],
   "source": [
    "model.coef_covariance_matrix_"
   ]
  },
  {
   "cell_type": "code",
   "execution_count": 24,
   "metadata": {},
   "outputs": [
    {
     "data": {
      "text/plain": [
       "array([ 0.04398703,  0.07680396,  0.07702043])"
      ]
     },
     "execution_count": 24,
     "metadata": {},
     "output_type": "execute_result"
    }
   ],
   "source": [
    "model.coef_standard_error_"
   ]
  },
  {
   "cell_type": "code",
   "execution_count": 25,
   "metadata": {},
   "outputs": [
    {
     "data": {
      "text/plain": [
       "array([  1.18956536e-102,   1.81589771e-145,   1.55744512e-001])"
      ]
     },
     "execution_count": 25,
     "metadata": {},
     "output_type": "execute_result"
    }
   ],
   "source": [
    "model.p_values_"
   ]
  },
  {
   "cell_type": "code",
   "execution_count": 28,
   "metadata": {},
   "outputs": [
    {
     "data": {
      "text/plain": [
       "array([ 1.71003557,  0.32152679,  0.4230989 ,  0.26659487,  2.36086363,\n",
       "       -0.79306183, -0.49094831, -0.79884412,  1.89403883,  1.9308109 ])"
      ]
     },
     "execution_count": 28,
     "metadata": {},
     "output_type": "execute_result"
    }
   ],
   "source": [
    "yhat = model.predict(X)\n",
    "yhat[:10]"
   ]
  },
  {
   "cell_type": "code",
   "execution_count": 8,
   "metadata": {},
   "outputs": [
    {
     "name": "stdout",
     "output_type": "stream",
     "text": [
      "                            OLS Regression Results                            \n",
      "==============================================================================\n",
      "Dep. Variable:                      y   R-squared:                       0.393\n",
      "Model:                            OLS   Adj. R-squared:                  0.391\n",
      "Method:                 Least Squares   F-statistic:                     322.2\n",
      "Date:                Wed, 16 May 2018   Prob (F-statistic):          1.18e-108\n",
      "Time:                        10:18:21   Log-Likelihood:                -1764.7\n",
      "No. Observations:                1000   AIC:                             3535.\n",
      "Df Residuals:                     997   BIC:                             3550.\n",
      "Df Model:                           2                                         \n",
      "Covariance Type:            nonrobust                                         \n",
      "==============================================================================\n",
      "                 coef    std err          t      P>|t|      [0.025      0.975]\n",
      "------------------------------------------------------------------------------\n",
      "const          1.0339      0.045     23.093      0.000       0.946       1.122\n",
      "x1            -1.9787      0.078    -25.312      0.000      -2.132      -1.825\n",
      "x2            -0.0487      0.078     -0.621      0.535      -0.203       0.105\n",
      "==============================================================================\n",
      "Omnibus:                        0.514   Durbin-Watson:                   1.931\n",
      "Prob(Omnibus):                  0.773   Jarque-Bera (JB):                0.492\n",
      "Skew:                           0.054   Prob(JB):                        0.782\n",
      "Kurtosis:                       3.002   Cond. No.                         1.79\n",
      "==============================================================================\n",
      "\n",
      "Warnings:\n",
      "[1] Standard Errors assume that the covariance matrix of the errors is correctly specified.\n"
     ]
    }
   ],
   "source": [
    "mod = sm.OLS(y, X)\n",
    "res = mod.fit()\n",
    "print(res.summary())"
   ]
  },
  {
   "cell_type": "code",
   "execution_count": 9,
   "metadata": {},
   "outputs": [
    {
     "data": {
      "text/plain": [
       "array([ 1.03392644, -1.97871326, -0.04867616])"
      ]
     },
     "execution_count": 9,
     "metadata": {},
     "output_type": "execute_result"
    }
   ],
   "source": [
    "res.params"
   ]
  },
  {
   "cell_type": "code",
   "execution_count": 10,
   "metadata": {},
   "outputs": [
    {
     "data": {
      "text/plain": [
       "array([ 0.04477134,  0.07817342,  0.07839375])"
      ]
     },
     "execution_count": 10,
     "metadata": {},
     "output_type": "execute_result"
    }
   ],
   "source": [
    "res.bse"
   ]
  },
  {
   "cell_type": "markdown",
   "metadata": {},
   "source": [
    "## Linear Regression With Formula"
   ]
  },
  {
   "cell_type": "code",
   "execution_count": 29,
   "metadata": {
    "collapsed": true
   },
   "outputs": [],
   "source": [
    "df = pd.DataFrame(\n",
    "    np.concatenate([X[:, 1:], y.reshape(-1, 1)], axis=1),\n",
    "    columns=['Moshi', 'SwimSwim', 'y'])"
   ]
  },
  {
   "cell_type": "code",
   "execution_count": 30,
   "metadata": {},
   "outputs": [
    {
     "data": {
      "text/plain": [
       "(1000, 3)"
      ]
     },
     "execution_count": 30,
     "metadata": {},
     "output_type": "execute_result"
    }
   ],
   "source": [
    "df.shape"
   ]
  },
  {
   "cell_type": "code",
   "execution_count": 31,
   "metadata": {},
   "outputs": [
    {
     "data": {
      "text/plain": [
       "<glm.glm.GLM at 0x11692a6a0>"
      ]
     },
     "execution_count": 31,
     "metadata": {},
     "output_type": "execute_result"
    }
   ],
   "source": [
    "model = GLM(family=Gaussian())\n",
    "model.fit(df, formula='y ~ Moshi + SwimSwim')"
   ]
  },
  {
   "cell_type": "code",
   "execution_count": 32,
   "metadata": {},
   "outputs": [
    {
     "data": {
      "text/plain": [
       "array([ 0.94485496, -1.97047607,  0.10933283])"
      ]
     },
     "execution_count": 32,
     "metadata": {},
     "output_type": "execute_result"
    }
   ],
   "source": [
    "model.coef_"
   ]
  },
  {
   "cell_type": "code",
   "execution_count": 33,
   "metadata": {},
   "outputs": [
    {
     "name": "stdout",
     "output_type": "stream",
     "text": [
      "Gaussian GLM Model Summary.\n",
      "===============================================\n",
      "Name         Parameter Estimate  Standard Error\n",
      "-----------------------------------------------\n",
      "Intercept                  0.94            0.04\n",
      "Moshi                     -1.97            0.08\n",
      "SwimSwim                   0.11            0.08\n"
     ]
    }
   ],
   "source": [
    "model.summary()"
   ]
  },
  {
   "cell_type": "code",
   "execution_count": 34,
   "metadata": {},
   "outputs": [
    {
     "data": {
      "text/plain": [
       "array([ 1.71003557,  0.32152679,  0.4230989 ,  0.26659487,  2.36086363,\n",
       "       -0.79306183, -0.49094831, -0.79884412,  1.89403883,  1.9308109 ])"
      ]
     },
     "execution_count": 34,
     "metadata": {},
     "output_type": "execute_result"
    }
   ],
   "source": [
    "yhat = model.predict(df)\n",
    "yhat[:10]"
   ]
  },
  {
   "cell_type": "code",
   "execution_count": 35,
   "metadata": {},
   "outputs": [
    {
     "data": {
      "text/plain": [
       "'y ~ Moshi + SwimSwim'"
      ]
     },
     "execution_count": 35,
     "metadata": {},
     "output_type": "execute_result"
    }
   ],
   "source": [
    "model.formula"
   ]
  },
  {
   "cell_type": "markdown",
   "metadata": {},
   "source": [
    "## Run some simulations off the linear model."
   ]
  },
  {
   "cell_type": "code",
   "execution_count": 68,
   "metadata": {
    "collapsed": true
   },
   "outputs": [],
   "source": [
    "s = Simulation(model)"
   ]
  },
  {
   "cell_type": "code",
   "execution_count": 69,
   "metadata": {},
   "outputs": [
    {
     "data": {
      "text/plain": [
       "array([[ 2.72485002,  1.06203265,  0.14325478, ..., -1.14142867,\n",
       "         1.46297585,  1.59846956],\n",
       "       [ 3.04345059,  1.91203858,  0.36177651, ..., -0.06844137,\n",
       "         2.31213208,  0.67339918],\n",
       "       [ 1.24277034,  4.75516935,  0.90761723, ..., -2.49040742,\n",
       "         3.49276037,  3.03020002],\n",
       "       ..., \n",
       "       [-0.71346133,  1.1558288 , -0.16495367, ...,  0.84193825,\n",
       "         3.71962176,  0.99770795],\n",
       "       [ 0.7338006 ,  1.54286613, -0.93109339, ..., -0.25872836,\n",
       "         5.77269828,  0.35305152],\n",
       "       [-0.11973334,  0.69005778,  0.99108631, ...,  1.22836895,\n",
       "         4.98481066,  3.74340941]])"
      ]
     },
     "execution_count": 69,
     "metadata": {},
     "output_type": "execute_result"
    }
   ],
   "source": [
    "s.sample(X)"
   ]
  },
  {
   "cell_type": "code",
   "execution_count": 70,
   "metadata": {},
   "outputs": [
    {
     "name": "stdout",
     "output_type": "stream",
     "text": [
      "[ 1.09076847 -1.97885617  0.06667513]\n",
      "[ 1.07317892 -1.93018894 -0.02723429]\n",
      "[ 1.07995212 -1.92470157  0.0230675 ]\n",
      "[ 1.130081   -1.97247471 -0.05137084]\n",
      "[ 1.17167148 -2.00706441  0.10064266]\n",
      "[ 1.10740914 -1.9678318  -0.02178495]\n",
      "[ 1.08897211 -2.04248583 -0.04755837]\n",
      "[ 0.99510678 -1.84586693 -0.1274409 ]\n",
      "[ 1.07852068 -1.86491168 -0.02583743]\n",
      "[ 1.04571672 -1.92017373  0.05497773]\n"
     ]
    }
   ],
   "source": [
    "models = s.parametric_bootstrap(X, n_sim=10)\n",
    "for model in models:\n",
    "    print(model.coef_)"
   ]
  },
  {
   "cell_type": "code",
   "execution_count": 71,
   "metadata": {},
   "outputs": [
    {
     "name": "stdout",
     "output_type": "stream",
     "text": [
      "[ 1.08899747 -1.97909035  0.0242303 ]\n",
      "[ 1.1438153  -2.0103238   0.03155373]\n",
      "[  1.07893939e+00  -1.87856140e+00  -1.24740123e-03]\n",
      "[ 1.06236628 -1.91918097 -0.01660036]\n",
      "[ 1.05378187 -2.0633577  -0.07282795]\n",
      "[ 1.07175649 -1.95840599  0.06544901]\n",
      "[ 1.09868402 -2.00568189 -0.08815472]\n",
      "[ 1.03488206 -2.00576657  0.05256831]\n",
      "[ 1.12335559 -1.86088373 -0.0611884 ]\n",
      "[ 1.16289827 -1.96426665  0.00614709]\n"
     ]
    }
   ],
   "source": [
    "models = s.non_parametric_bootstrap(X, y, n_sim=10)\n",
    "for model in models:\n",
    "    print(model.coef_)"
   ]
  },
  {
   "cell_type": "markdown",
   "metadata": {},
   "source": [
    "## Linear Model with Sample Weights"
   ]
  },
  {
   "cell_type": "code",
   "execution_count": 72,
   "metadata": {
    "collapsed": true
   },
   "outputs": [],
   "source": [
    "sample_weights = np.random.uniform(0, 2, size=N)"
   ]
  },
  {
   "cell_type": "code",
   "execution_count": 73,
   "metadata": {
    "collapsed": true
   },
   "outputs": [],
   "source": [
    "model = GLM(family=Gaussian())\n",
    "model = model.fit(X, y, sample_weights=sample_weights)"
   ]
  },
  {
   "cell_type": "code",
   "execution_count": 74,
   "metadata": {},
   "outputs": [
    {
     "data": {
      "text/plain": [
       "array([ 1.06640549, -1.90311277,  0.02257427])"
      ]
     },
     "execution_count": 74,
     "metadata": {},
     "output_type": "execute_result"
    }
   ],
   "source": [
    "model.coef_"
   ]
  },
  {
   "cell_type": "markdown",
   "metadata": {},
   "source": [
    "## Logistic Model"
   ]
  },
  {
   "cell_type": "code",
   "execution_count": 75,
   "metadata": {
    "collapsed": true
   },
   "outputs": [],
   "source": [
    "p = 1 / (1 + np.exp(-nu))\n",
    "y_logistic = np.random.binomial(1, p=p, size=N)"
   ]
  },
  {
   "cell_type": "code",
   "execution_count": 76,
   "metadata": {},
   "outputs": [
    {
     "data": {
      "text/plain": [
       "<glm.glm.GLM at 0x10c2b13c8>"
      ]
     },
     "execution_count": 76,
     "metadata": {},
     "output_type": "execute_result"
    }
   ],
   "source": [
    "model = GLM(family=Bernoulli())\n",
    "model.fit(X, y_logistic)"
   ]
  },
  {
   "cell_type": "code",
   "execution_count": 77,
   "metadata": {},
   "outputs": [
    {
     "data": {
      "text/plain": [
       "array([ 0.80789905, -1.73306961, -0.01066346])"
      ]
     },
     "execution_count": 77,
     "metadata": {},
     "output_type": "execute_result"
    }
   ],
   "source": [
    "model.coef_"
   ]
  },
  {
   "cell_type": "code",
   "execution_count": 78,
   "metadata": {},
   "outputs": [
    {
     "data": {
      "text/plain": [
       "array(1.0)"
      ]
     },
     "execution_count": 78,
     "metadata": {},
     "output_type": "execute_result"
    }
   ],
   "source": [
    "model.dispersion_"
   ]
  },
  {
   "cell_type": "code",
   "execution_count": 79,
   "metadata": {},
   "outputs": [
    {
     "data": {
      "text/plain": [
       "array([[ 0.00590394, -0.00333689, -0.00028904],\n",
       "       [-0.00333689,  0.02086212,  0.00132631],\n",
       "       [-0.00028904,  0.00132631,  0.01620665]])"
      ]
     },
     "execution_count": 79,
     "metadata": {},
     "output_type": "execute_result"
    }
   ],
   "source": [
    "model.coef_covariance_matrix_"
   ]
  },
  {
   "cell_type": "code",
   "execution_count": 80,
   "metadata": {},
   "outputs": [
    {
     "data": {
      "text/plain": [
       "array([ 0.0768371 ,  0.14443724,  0.12730533])"
      ]
     },
     "execution_count": 80,
     "metadata": {},
     "output_type": "execute_result"
    }
   ],
   "source": [
    "model.coef_standard_error_"
   ]
  },
  {
   "cell_type": "code",
   "execution_count": 81,
   "metadata": {},
   "outputs": [
    {
     "data": {
      "text/plain": [
       "array([  3.70602872e-26,   1.80302706e-33,   9.33244943e-01])"
      ]
     },
     "execution_count": 81,
     "metadata": {},
     "output_type": "execute_result"
    }
   ],
   "source": [
    "model.p_values_"
   ]
  },
  {
   "cell_type": "code",
   "execution_count": 82,
   "metadata": {},
   "outputs": [
    {
     "name": "stdout",
     "output_type": "stream",
     "text": [
      "Optimization terminated successfully.\n",
      "         Current function value: 0.551934\n",
      "         Iterations 6\n",
      "                           Logit Regression Results                           \n",
      "==============================================================================\n",
      "Dep. Variable:                      y   No. Observations:                 1000\n",
      "Model:                          Logit   Df Residuals:                      997\n",
      "Method:                           MLE   Df Model:                            2\n",
      "Date:                Tue, 15 May 2018   Pseudo R-squ.:                  0.1381\n",
      "Time:                        11:26:01   Log-Likelihood:                -551.93\n",
      "converged:                       True   LL-Null:                       -640.37\n",
      "                                        LLR p-value:                 3.917e-39\n",
      "==============================================================================\n",
      "                 coef    std err          z      P>|z|      [0.025      0.975]\n",
      "------------------------------------------------------------------------------\n",
      "const          0.8079      0.077     10.514      0.000       0.657       0.958\n",
      "x1            -1.7331      0.144    -11.999      0.000      -2.016      -1.450\n",
      "x2            -0.0107      0.127     -0.084      0.933      -0.260       0.239\n",
      "==============================================================================\n"
     ]
    }
   ],
   "source": [
    "mod = sm.Logit(y_logistic, X)\n",
    "res = mod.fit()\n",
    "print(res.summary())"
   ]
  },
  {
   "cell_type": "code",
   "execution_count": 56,
   "metadata": {
    "collapsed": true
   },
   "outputs": [],
   "source": [
    "s = Simulation(model)"
   ]
  },
  {
   "cell_type": "code",
   "execution_count": 57,
   "metadata": {},
   "outputs": [
    {
     "data": {
      "text/plain": [
       "array([[ 0.,  1.,  0., ...,  1.,  0.,  1.],\n",
       "       [ 1.,  0.,  0., ...,  1.,  1.,  0.],\n",
       "       [ 0.,  1.,  1., ...,  1.,  0.,  0.],\n",
       "       ..., \n",
       "       [ 0.,  1.,  1., ...,  1.,  0.,  0.],\n",
       "       [ 0.,  1.,  0., ...,  1.,  1.,  1.],\n",
       "       [ 1.,  1.,  1., ...,  1.,  0.,  0.]])"
      ]
     },
     "execution_count": 57,
     "metadata": {},
     "output_type": "execute_result"
    }
   ],
   "source": [
    "s.sample(X, n_sim=10)"
   ]
  },
  {
   "cell_type": "code",
   "execution_count": 58,
   "metadata": {},
   "outputs": [
    {
     "name": "stdout",
     "output_type": "stream",
     "text": [
      "[ 0.99422083 -1.96298402  1.05235721]\n",
      "[ 0.96443709 -1.99466032  1.03640602]\n",
      "[ 1.00035789 -2.06225649  1.00416288]\n",
      "[ 0.95647016 -1.9472292   1.09357851]\n",
      "[ 0.93641543 -1.96767443  1.01963135]\n",
      "[ 0.96543839 -1.95048238  1.0720573 ]\n",
      "[ 0.97230804 -1.96945012  1.01792291]\n",
      "[ 0.94768126 -2.01506523  1.12307292]\n",
      "[ 0.98593321 -2.01224627  1.03240051]\n",
      "[ 0.95445028 -1.95445635  1.01371649]\n"
     ]
    }
   ],
   "source": [
    "for model in s.parametric_bootstrap(X, n_sim=10):\n",
    "    print(model.coef_)"
   ]
  },
  {
   "cell_type": "code",
   "execution_count": 59,
   "metadata": {},
   "outputs": [
    {
     "name": "stdout",
     "output_type": "stream",
     "text": [
      "[ 0.97689309 -1.97413283  1.10627714]\n",
      "[ 0.95892487 -1.99413312  0.98665457]\n",
      "[ 0.94129474 -1.94450942  1.00859525]\n",
      "[ 0.93336539 -1.95264506  0.99312847]\n",
      "[ 0.93940596 -1.91603988  0.99230598]\n",
      "[ 0.95260326 -1.95432899  0.96347066]\n",
      "[ 0.97404336 -1.95443378  1.07337741]\n",
      "[ 0.93040456 -1.85128555  0.98612584]\n",
      "[ 0.94250477 -1.9621798   1.02531186]\n",
      "[ 0.9412844  -1.94538671  1.06160179]\n"
     ]
    }
   ],
   "source": [
    "for model in s.non_parametric_bootstrap(X, y_logistic, n_sim=10):\n",
    "    print(model.coef_)"
   ]
  },
  {
   "cell_type": "markdown",
   "metadata": {},
   "source": [
    "## Poission Model"
   ]
  },
  {
   "cell_type": "code",
   "execution_count": 60,
   "metadata": {
    "collapsed": true
   },
   "outputs": [],
   "source": [
    "mu = np.exp(nu)\n",
    "y_poisson = np.random.poisson(lam=mu, size=N)"
   ]
  },
  {
   "cell_type": "code",
   "execution_count": 61,
   "metadata": {},
   "outputs": [
    {
     "data": {
      "text/plain": [
       "<glm.glm.GLM at 0x114430978>"
      ]
     },
     "execution_count": 61,
     "metadata": {},
     "output_type": "execute_result"
    }
   ],
   "source": [
    "model = GLM(family=Poisson())\n",
    "model.fit(X, y_poisson)"
   ]
  },
  {
   "cell_type": "code",
   "execution_count": 62,
   "metadata": {},
   "outputs": [
    {
     "data": {
      "text/plain": [
       "array([ 0.9993738 , -2.01557039,  0.98708617])"
      ]
     },
     "execution_count": 62,
     "metadata": {},
     "output_type": "execute_result"
    }
   ],
   "source": [
    "model.coef_"
   ]
  },
  {
   "cell_type": "code",
   "execution_count": 63,
   "metadata": {},
   "outputs": [
    {
     "data": {
      "text/plain": [
       "array([[  5.19786341e-05,   5.41592437e-05,  -1.88130624e-05],\n",
       "       [  5.41592437e-05,   1.00811556e-04,  -9.71528570e-07],\n",
       "       [ -1.88130624e-05,  -9.71528570e-07,   6.18642911e-05]])"
      ]
     },
     "execution_count": 63,
     "metadata": {},
     "output_type": "execute_result"
    }
   ],
   "source": [
    "model.coef_covariance_matrix_"
   ]
  },
  {
   "cell_type": "code",
   "execution_count": 64,
   "metadata": {},
   "outputs": [
    {
     "data": {
      "text/plain": [
       "array([ 0.00720962,  0.0100405 ,  0.00786539])"
      ]
     },
     "execution_count": 64,
     "metadata": {},
     "output_type": "execute_result"
    }
   ],
   "source": [
    "model.coef_standard_error_"
   ]
  },
  {
   "cell_type": "code",
   "execution_count": 65,
   "metadata": {},
   "outputs": [
    {
     "name": "stdout",
     "output_type": "stream",
     "text": [
      "Optimization terminated successfully.\n",
      "         Current function value: 1.857216\n",
      "         Iterations 19\n",
      "                          Poisson Regression Results                          \n",
      "==============================================================================\n",
      "Dep. Variable:                      y   No. Observations:                10000\n",
      "Model:                        Poisson   Df Residuals:                     9997\n",
      "Method:                           MLE   Df Model:                            2\n",
      "Date:                Sun, 17 Sep 2017   Pseudo R-squ.:                  0.6578\n",
      "Time:                        16:10:00   Log-Likelihood:                -18572.\n",
      "converged:                       True   LL-Null:                       -54276.\n",
      "                                        LLR p-value:                     0.000\n",
      "==============================================================================\n",
      "                 coef    std err          z      P>|z|      [0.025      0.975]\n",
      "------------------------------------------------------------------------------\n",
      "const          0.9994      0.007    138.617      0.000       0.985       1.014\n",
      "x1            -2.0156      0.010   -200.744      0.000      -2.035      -1.996\n",
      "x2             0.9871      0.008    125.497      0.000       0.972       1.003\n",
      "==============================================================================\n"
     ]
    }
   ],
   "source": [
    "mod = statsmodels.discrete.discrete_model.Poisson(y_poisson, X)\n",
    "res = mod.fit()\n",
    "print(res.summary())"
   ]
  },
  {
   "cell_type": "code",
   "execution_count": 66,
   "metadata": {
    "collapsed": true
   },
   "outputs": [],
   "source": [
    "s = Simulation(model)"
   ]
  },
  {
   "cell_type": "code",
   "execution_count": 67,
   "metadata": {},
   "outputs": [
    {
     "data": {
      "text/plain": [
       "array([[  1.,   7.,   0., ...,   5.,   2.,   2.],\n",
       "       [  3.,   8.,   1., ...,   5.,   0.,   5.],\n",
       "       [  1.,   6.,   0., ...,   7.,   0.,   2.],\n",
       "       ..., \n",
       "       [  0.,  10.,   1., ...,  10.,   1.,   6.],\n",
       "       [  2.,   4.,   0., ...,   4.,   1.,   2.],\n",
       "       [  3.,   5.,   0., ...,   3.,   1.,   3.]])"
      ]
     },
     "execution_count": 67,
     "metadata": {},
     "output_type": "execute_result"
    }
   ],
   "source": [
    "s.sample(X, n_sim=10)"
   ]
  },
  {
   "cell_type": "code",
   "execution_count": 68,
   "metadata": {},
   "outputs": [
    {
     "name": "stdout",
     "output_type": "stream",
     "text": [
      "[ 0.9962561  -2.02223879  0.98520933]\n",
      "[ 1.00174874 -2.016179    0.98438619]\n",
      "[ 1.01444728 -2.00367046  0.97880814]\n",
      "[ 0.99162838 -2.01637286  1.00481727]\n",
      "[ 1.00802374 -2.01063381  0.96973567]\n",
      "[ 1.00579857 -2.01884458  0.9866297 ]\n",
      "[ 0.9960399  -2.01891399  0.99412272]\n",
      "[ 0.99357372 -2.0331467   0.99903938]\n",
      "[ 0.99830196 -2.01604988  0.98445944]\n",
      "[ 1.00074698 -2.02003424  0.98114143]\n"
     ]
    }
   ],
   "source": [
    "for model in s.parametric_bootstrap(X, n_sim=10):\n",
    "    print(model.coef_)"
   ]
  },
  {
   "cell_type": "code",
   "execution_count": 36,
   "metadata": {},
   "outputs": [
    {
     "name": "stdout",
     "output_type": "stream",
     "text": [
      "[ 0.99944037 -1.95435021  0.97540803]\n",
      "[ 1.03624533 -1.96567739  0.91936164]\n",
      "[ 0.98336717 -1.96622823  1.00794745]\n",
      "[ 1.02681072 -1.9644957   0.92060739]\n",
      "[ 1.01231914 -1.94929026  0.96059324]\n",
      "[ 1.01857949 -1.96132365  0.95859381]\n",
      "[ 0.99512153 -1.97303933  0.99006156]\n",
      "[ 1.01719772 -1.93460717  0.9529537 ]\n",
      "[ 0.99912808 -1.95763946  0.97810085]\n",
      "[ 1.00010555 -1.94437559  0.97117927]\n"
     ]
    }
   ],
   "source": [
    "for model in s.non_parametric_bootstrap(X, y_poisson, n_sim=10):\n",
    "    print(model.coef_)"
   ]
  },
  {
   "cell_type": "markdown",
   "metadata": {},
   "source": [
    "## Poisson with Exposures"
   ]
  },
  {
   "cell_type": "code",
   "execution_count": 37,
   "metadata": {
    "collapsed": true
   },
   "outputs": [],
   "source": [
    "mu = np.exp(nu)\n",
    "expos = np.random.uniform(0, 10, size=N)\n",
    "y_poisson = np.random.poisson(lam=(mu*expos), size=N)"
   ]
  },
  {
   "cell_type": "code",
   "execution_count": 38,
   "metadata": {},
   "outputs": [
    {
     "data": {
      "text/plain": [
       "<glm.glm.GLM at 0x118155438>"
      ]
     },
     "execution_count": 38,
     "metadata": {},
     "output_type": "execute_result"
    }
   ],
   "source": [
    "model = GLM(family=Poisson())\n",
    "model.fit(X, y_poisson, offset=np.log(expos))"
   ]
  },
  {
   "cell_type": "code",
   "execution_count": 39,
   "metadata": {},
   "outputs": [
    {
     "data": {
      "text/plain": [
       "array([ 1.00325959, -1.99621054,  0.98932295])"
      ]
     },
     "execution_count": 39,
     "metadata": {},
     "output_type": "execute_result"
    }
   ],
   "source": [
    "model.coef_"
   ]
  },
  {
   "cell_type": "code",
   "execution_count": 40,
   "metadata": {},
   "outputs": [
    {
     "data": {
      "text/plain": [
       "array([ 0.0084044 ,  0.01200987,  0.01120648])"
      ]
     },
     "execution_count": 40,
     "metadata": {},
     "output_type": "execute_result"
    }
   ],
   "source": [
    "model.coef_standard_error_"
   ]
  },
  {
   "cell_type": "markdown",
   "metadata": {},
   "source": [
    "## Gamma Regression"
   ]
  },
  {
   "cell_type": "code",
   "execution_count": 41,
   "metadata": {
    "collapsed": true
   },
   "outputs": [],
   "source": [
    "mu = np.exp(nu)\n",
    "y_gamma = np.random.gamma(shape=2.0, scale=(mu / 2.0), size=N)"
   ]
  },
  {
   "cell_type": "code",
   "execution_count": 42,
   "metadata": {},
   "outputs": [
    {
     "data": {
      "text/plain": [
       "<glm.glm.GLM at 0x118155358>"
      ]
     },
     "execution_count": 42,
     "metadata": {},
     "output_type": "execute_result"
    }
   ],
   "source": [
    "gamma_model = GLM(family=Gamma())\n",
    "gamma_model.fit(X, y_gamma)"
   ]
  },
  {
   "cell_type": "code",
   "execution_count": 43,
   "metadata": {},
   "outputs": [
    {
     "data": {
      "text/plain": [
       "array([ 1.04538732, -1.99544524,  0.92854162])"
      ]
     },
     "execution_count": 43,
     "metadata": {},
     "output_type": "execute_result"
    }
   ],
   "source": [
    "gamma_model.coef_"
   ]
  },
  {
   "cell_type": "code",
   "execution_count": 44,
   "metadata": {},
   "outputs": [
    {
     "data": {
      "text/plain": [
       "array([ 0.01960164,  0.02551379,  0.02568215])"
      ]
     },
     "execution_count": 44,
     "metadata": {},
     "output_type": "execute_result"
    }
   ],
   "source": [
    "gamma_model.coef_standard_error_"
   ]
  },
  {
   "cell_type": "code",
   "execution_count": 45,
   "metadata": {},
   "outputs": [
    {
     "data": {
      "text/plain": [
       "0.54319477864783849"
      ]
     },
     "execution_count": 45,
     "metadata": {},
     "output_type": "execute_result"
    }
   ],
   "source": [
    "gamma_model.dispersion_"
   ]
  },
  {
   "cell_type": "code",
   "execution_count": 46,
   "metadata": {},
   "outputs": [
    {
     "name": "stdout",
     "output_type": "stream",
     "text": [
      "                 Generalized Linear Model Regression Results                  \n",
      "==============================================================================\n",
      "Dep. Variable:                      y   No. Observations:                10000\n",
      "Model:                            GLM   Df Residuals:                     9997\n",
      "Model Family:                   Gamma   Df Model:                            2\n",
      "Link Function:                    log   Scale:                  0.499038505471\n",
      "Method:                          IRLS   Log-Likelihood:                -13910.\n",
      "Date:                Sun, 17 Sep 2017   Deviance:                       5430.3\n",
      "Time:                        14:47:52   Pearson chi2:                 4.99e+03\n",
      "No. Iterations:                     5                                         \n",
      "==============================================================================\n",
      "                 coef    std err          z      P>|z|      [0.025      0.975]\n",
      "------------------------------------------------------------------------------\n",
      "const          1.0454      0.019     55.641      0.000       1.009       1.082\n",
      "x1            -1.9954      0.024    -81.597      0.000      -2.043      -1.948\n",
      "x2             0.9285      0.025     37.721      0.000       0.880       0.977\n",
      "==============================================================================\n"
     ]
    }
   ],
   "source": [
    "gamma_model = sm.GLM(y_gamma, X, \n",
    "                     family=sm.families.Gamma(\n",
    "                         link=statsmodels.genmod.families.links.log))\n",
    "res = gamma_model.fit()\n",
    "print(res.summary())"
   ]
  },
  {
   "cell_type": "markdown",
   "metadata": {},
   "source": [
    "## Exponential Regression"
   ]
  },
  {
   "cell_type": "code",
   "execution_count": 47,
   "metadata": {
    "collapsed": true
   },
   "outputs": [],
   "source": [
    "mu = np.exp(nu)\n",
    "y_exponential = np.random.exponential(scale=mu, size=N)"
   ]
  },
  {
   "cell_type": "code",
   "execution_count": 48,
   "metadata": {},
   "outputs": [
    {
     "data": {
      "text/plain": [
       "<glm.glm.GLM at 0x11814d4a8>"
      ]
     },
     "execution_count": 48,
     "metadata": {},
     "output_type": "execute_result"
    }
   ],
   "source": [
    "exponential_model = GLM(family=Gamma())\n",
    "exponential_model.fit(X, y_exponential)"
   ]
  },
  {
   "cell_type": "code",
   "execution_count": 49,
   "metadata": {},
   "outputs": [
    {
     "data": {
      "text/plain": [
       "array([ 1.02547471, -2.03635258,  0.99990048])"
      ]
     },
     "execution_count": 49,
     "metadata": {},
     "output_type": "execute_result"
    }
   ],
   "source": [
    "exponential_model.coef_"
   ]
  },
  {
   "cell_type": "code",
   "execution_count": 50,
   "metadata": {},
   "outputs": [
    {
     "data": {
      "text/plain": [
       "array([ 0.02824993,  0.03677053,  0.03701316])"
      ]
     },
     "execution_count": 50,
     "metadata": {},
     "output_type": "execute_result"
    }
   ],
   "source": [
    "exponential_model.coef_standard_error_"
   ]
  },
  {
   "cell_type": "code",
   "execution_count": 51,
   "metadata": {},
   "outputs": [
    {
     "data": {
      "text/plain": [
       "1.1282497110609833"
      ]
     },
     "execution_count": 51,
     "metadata": {},
     "output_type": "execute_result"
    }
   ],
   "source": [
    "exponential_model.dispersion_"
   ]
  },
  {
   "cell_type": "code",
   "execution_count": 52,
   "metadata": {},
   "outputs": [
    {
     "name": "stdout",
     "output_type": "stream",
     "text": [
      "                 Generalized Linear Model Regression Results                  \n",
      "==============================================================================\n",
      "Dep. Variable:                      y   No. Observations:                10000\n",
      "Model:                            GLM   Df Residuals:                     9997\n",
      "Model Family:                   Gamma   Df Model:                            2\n",
      "Link Function:                    log   Scale:                   0.98383654671\n",
      "Method:                          IRLS   Log-Likelihood:                -15006.\n",
      "Date:                Sun, 17 Sep 2017   Deviance:                       11279.\n",
      "Time:                        14:47:52   Pearson chi2:                 9.84e+03\n",
      "No. Iterations:                     6                                         \n",
      "==============================================================================\n",
      "                 coef    std err          z      P>|z|      [0.025      0.975]\n",
      "------------------------------------------------------------------------------\n",
      "const          1.0255      0.026     38.873      0.000       0.974       1.077\n",
      "x1            -2.0364      0.034    -59.305      0.000      -2.104      -1.969\n",
      "x2             0.9999      0.035     28.930      0.000       0.932       1.068\n",
      "==============================================================================\n"
     ]
    }
   ],
   "source": [
    "exponential_model = sm.GLM(y_exponential, X, \n",
    "                     family=sm.families.Gamma(\n",
    "                         link=statsmodels.genmod.families.links.log))\n",
    "res = exponential_model.fit()\n",
    "print(res.summary())"
   ]
  },
  {
   "cell_type": "markdown",
   "metadata": {},
   "source": [
    "## Linear Model with Correlated Predictors"
   ]
  },
  {
   "cell_type": "code",
   "execution_count": 53,
   "metadata": {
    "collapsed": true
   },
   "outputs": [],
   "source": [
    "N = 1000\n",
    "X = np.empty(shape=(N, 3))\n",
    "X[:, 0] = 1.0\n",
    "X[:, 1] = np.random.uniform(size=N)\n",
    "X[:, 2] = 0.5*X[:, 1] + np.random.uniform(-0.5, 0.5, size=N)\n",
    "nu = 1 - 2*X[:, 1] + X[:, 2]"
   ]
  },
  {
   "cell_type": "code",
   "execution_count": 54,
   "metadata": {},
   "outputs": [
    {
     "data": {
      "text/plain": [
       "<glm.glm.GLM at 0x118155160>"
      ]
     },
     "execution_count": 54,
     "metadata": {},
     "output_type": "execute_result"
    }
   ],
   "source": [
    "y = nu + np.random.normal(size=N)\n",
    "model = GLM(family=Gaussian())\n",
    "model.fit(X, y)"
   ]
  },
  {
   "cell_type": "code",
   "execution_count": 55,
   "metadata": {},
   "outputs": [
    {
     "data": {
      "text/plain": [
       "array([ 1.04961873, -2.09917034,  0.92403124])"
      ]
     },
     "execution_count": 55,
     "metadata": {},
     "output_type": "execute_result"
    }
   ],
   "source": [
    "model.coef_"
   ]
  },
  {
   "cell_type": "code",
   "execution_count": 56,
   "metadata": {},
   "outputs": [
    {
     "data": {
      "text/plain": [
       "array([[ 0.00390364, -0.00599316,  0.00019188],\n",
       "       [-0.00599316,  0.01504632, -0.00598741],\n",
       "       [ 0.00019188, -0.00598741,  0.01107235]])"
      ]
     },
     "execution_count": 56,
     "metadata": {},
     "output_type": "execute_result"
    }
   ],
   "source": [
    "model.coef_covariance_matrix_"
   ]
  },
  {
   "cell_type": "code",
   "execution_count": 57,
   "metadata": {},
   "outputs": [
    {
     "data": {
      "text/plain": [
       "array([ 0.06247909,  0.12266344,  0.10522523])"
      ]
     },
     "execution_count": 57,
     "metadata": {},
     "output_type": "execute_result"
    }
   ],
   "source": [
    "model.coef_standard_error_"
   ]
  },
  {
   "cell_type": "code",
   "execution_count": 58,
   "metadata": {},
   "outputs": [
    {
     "name": "stdout",
     "output_type": "stream",
     "text": [
      "                            OLS Regression Results                            \n",
      "==============================================================================\n",
      "Dep. Variable:                      y   R-squared:                       0.228\n",
      "Model:                            OLS   Adj. R-squared:                  0.226\n",
      "Method:                 Least Squares   F-statistic:                     146.9\n",
      "Date:                Sun, 17 Sep 2017   Prob (F-statistic):           1.23e-56\n",
      "Time:                        14:47:52   Log-Likelihood:                -1398.6\n",
      "No. Observations:                1000   AIC:                             2803.\n",
      "Df Residuals:                     997   BIC:                             2818.\n",
      "Df Model:                           2                                         \n",
      "Covariance Type:            nonrobust                                         \n",
      "==============================================================================\n",
      "                 coef    std err          t      P>|t|      [0.025      0.975]\n",
      "------------------------------------------------------------------------------\n",
      "const          1.0496      0.062     16.800      0.000       0.927       1.172\n",
      "x1            -2.0992      0.123    -17.113      0.000      -2.340      -1.858\n",
      "x2             0.9240      0.105      8.781      0.000       0.718       1.131\n",
      "==============================================================================\n",
      "Omnibus:                        2.493   Durbin-Watson:                   1.965\n",
      "Prob(Omnibus):                  0.288   Jarque-Bera (JB):                2.627\n",
      "Skew:                           0.016   Prob(JB):                        0.269\n",
      "Kurtosis:                       3.249   Cond. No.                         5.40\n",
      "==============================================================================\n",
      "\n",
      "Warnings:\n",
      "[1] Standard Errors assume that the covariance matrix of the errors is correctly specified.\n"
     ]
    }
   ],
   "source": [
    "mod = sm.OLS(y, X)\n",
    "res = mod.fit()\n",
    "print(res.summary())"
   ]
  },
  {
   "cell_type": "code",
   "execution_count": null,
   "metadata": {
    "collapsed": true
   },
   "outputs": [],
   "source": []
  }
 ],
 "metadata": {
  "kernelspec": {
   "display_name": "Python 3",
   "language": "python",
   "name": "python3"
  },
  "language_info": {
   "codemirror_mode": {
    "name": "ipython",
    "version": 3
   },
   "file_extension": ".py",
   "mimetype": "text/x-python",
   "name": "python",
   "nbconvert_exporter": "python",
   "pygments_lexer": "ipython3",
   "version": "3.6.3"
  }
 },
 "nbformat": 4,
 "nbformat_minor": 2
}
